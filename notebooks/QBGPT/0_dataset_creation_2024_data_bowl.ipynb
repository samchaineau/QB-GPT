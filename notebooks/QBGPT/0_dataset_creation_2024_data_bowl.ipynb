{
  "cells": [
    {
      "cell_type": "code",
      "source": [
        "!pip install polars"
      ],
      "metadata": {
        "id": "ss7w81zNjYaJ",
        "outputId": "62d1307a-6afa-4fe1-a9cb-fb2dfed3bc20",
        "colab": {
          "base_uri": "https://localhost:8080/"
        }
      },
      "execution_count": 1,
      "outputs": [
        {
          "output_type": "stream",
          "name": "stdout",
          "text": [
            "Requirement already satisfied: polars in /usr/local/lib/python3.10/dist-packages (0.17.3)\n",
            "Requirement already satisfied: typing_extensions>=4.0.1 in /usr/local/lib/python3.10/dist-packages (from polars) (4.5.0)\n"
          ]
        }
      ]
    },
    {
      "cell_type": "code",
      "execution_count": 2,
      "metadata": {
        "id": "u911kUqIiVHm",
        "outputId": "472dbd88-3f97-4ca8-b2d2-012c2982c781",
        "colab": {
          "base_uri": "https://localhost:8080/"
        }
      },
      "outputs": [
        {
          "output_type": "stream",
          "name": "stdout",
          "text": [
            "Mounted at /content/gdrive\n"
          ]
        }
      ],
      "source": [
        "import os\n",
        "import pandas as pd\n",
        "import polars as pl\n",
        "\n",
        "from google.colab import drive\n",
        "drive.mount('/content/gdrive')"
      ]
    },
    {
      "cell_type": "code",
      "execution_count": 5,
      "metadata": {
        "id": "Ya7C2_ZjiVHo",
        "outputId": "f6279dbb-4943-4d1a-8631-1858f75bbc2a",
        "colab": {
          "base_uri": "https://localhost:8080/"
        }
      },
      "outputs": [
        {
          "output_type": "execute_result",
          "data": {
            "text/plain": [
              "['Contact Detection',\n",
              " 'Punt Prediction',\n",
              " 'Analytics',\n",
              " 'Impact Detection',\n",
              " 'data bowl 2021',\n",
              " 'data bowl 2023',\n",
              " 'data bowl 2022',\n",
              " 'data bowl 2020',\n",
              " 'asonty',\n",
              " 'Highlights_NGS_2019',\n",
              " 'Highlights_NGS_Prime',\n",
              " 'data bowl 2024']"
            ]
          },
          "metadata": {},
          "execution_count": 5
        }
      ],
      "source": [
        "os.chdir(\"/content/gdrive/MyDrive/NFL_Challenge/QB-GPT/data_preprocessing/0_raw/\")\n",
        "\n",
        "os.listdir()"
      ]
    },
    {
      "cell_type": "code",
      "source": [
        "path = \"data bowl 2024\"\n",
        "os.listdir(path)"
      ],
      "metadata": {
        "id": "r0IzBDYIjd77",
        "outputId": "41015a27-481a-4fa1-e362-7aa567e2aeda",
        "colab": {
          "base_uri": "https://localhost:8080/"
        }
      },
      "execution_count": 6,
      "outputs": [
        {
          "output_type": "execute_result",
          "data": {
            "text/plain": [
              "['games.csv',\n",
              " 'players.csv',\n",
              " 'plays.csv',\n",
              " 'tackles.csv',\n",
              " 'tracking_week_1.csv',\n",
              " 'tracking_week_2.csv',\n",
              " 'tracking_week_3.csv',\n",
              " 'tracking_week_4.csv',\n",
              " 'tracking_week_5.csv',\n",
              " 'tracking_week_6.csv',\n",
              " 'tracking_week_7.csv',\n",
              " 'tracking_week_8.csv',\n",
              " 'tracking_week_9.csv']"
            ]
          },
          "metadata": {},
          "execution_count": 6
        }
      ]
    },
    {
      "cell_type": "code",
      "source": [
        "def read_file(path):\n",
        "  return pl.from_pandas(pd.read_csv(path))\n",
        "\n",
        "if \"tracks.parquet\" not in os.listdir(path):\n",
        "  tracks = pl.concat([read_file(path + \"/\" + p) for p in os.listdir(path) if \"tracking\" in p])\n",
        "  tracks.write_json(path+ \"/\"+\"tracks.json\")"
      ],
      "metadata": {
        "id": "Hy9v1Wlyjje6"
      },
      "execution_count": 11,
      "outputs": []
    },
    {
      "cell_type": "code",
      "source": [
        "games = pl.from_pandas(pd.read_csv(\"data bowl 2024/games.csv\"))\n",
        "plays = pl.from_pandas(pd.read_csv(\"data bowl 2024/plays.csv\"))\n",
        "tracks = pl.read_json(\"data bowl 2024/tracks.json\")\n",
        "players = pl.from_pandas(pd.read_csv(\"data bowl 2024/players.csv\"))"
      ],
      "metadata": {
        "id": "01ASrnnCkPoQ"
      },
      "execution_count": 18,
      "outputs": []
    },
    {
      "cell_type": "code",
      "source": [
        "players_to_merge = players.select([\"nflId\", \"position\"]).with_columns((pl.col(\"nflId\").cast(pl.Float64)))"
      ],
      "metadata": {
        "id": "dlhjYASFmr6F"
      },
      "execution_count": 21,
      "outputs": []
    },
    {
      "cell_type": "code",
      "source": [
        "game_adapted = (games.\n",
        "                select([\"gameId\", \"homeTeamAbbr\", \"visitorTeamAbbr\"]).\n",
        "                melt(\"gameId\", [\"homeTeamAbbr\", \"visitorTeamAbbr\"], variable_name = \"team\", value_name = \"TeamAbbr\").\n",
        "                with_columns(pl.col('team').str.replace(\"TeamAbbr\", '')))\n",
        "\n",
        "play_adapted = (plays.\n",
        "                select([\"gameId\", \"playId\", \"possessionTeam\"]).\n",
        "                rename({\"possessionTeam\": \"TeamAbbr\"}).\n",
        "                with_columns(pl.lit(\"Offense\").alias(\"OffDef\")))\n",
        "\n",
        "game_play = play_adapted.join(game_adapted, on=[\"gameId\", \"TeamAbbr\"], how = \"left\")"
      ],
      "metadata": {
        "id": "VKwWeH6BoYFb"
      },
      "execution_count": 22,
      "outputs": []
    },
    {
      "cell_type": "code",
      "source": [
        "import numpy as np\n",
        "\n",
        "def get_defense(arr, ref):\n",
        "  if arr[4] == \"home\":\n",
        "    filtered = (ref.\n",
        "                filter(pl.col(\"gameId\") == arr[0]).\n",
        "                filter(pl.col(\"team\") == \"visitor\"))\n",
        "    return filtered.to_numpy()\n",
        "  else:\n",
        "    filtered = (ref.\n",
        "                filter(pl.col(\"gameId\") == arr[0]).\n",
        "                filter(pl.col(\"team\") == \"home\"))\n",
        "    return filtered.to_numpy()\n",
        "\n",
        "def get_second_team(arr, ref):\n",
        "  second = get_defense(arr, ref)[0]\n",
        "  to_stack = np.array([arr[0], arr[1], second[2], \"Defense\", second[1]])\n",
        "  return np.stack([arr, to_stack])\n",
        "\n",
        "def get_new_arr(df, ref):\n",
        "  arr = np.stack([get_second_team(v, ref) for v in df.to_numpy()])\n",
        "  arr = np.reshape(arr, (arr.shape[0]*arr.shape[1], arr.shape[2]))\n",
        "  return arr"
      ],
      "metadata": {
        "id": "8U9jAvZzofds"
      },
      "execution_count": 23,
      "outputs": []
    },
    {
      "cell_type": "code",
      "source": [
        "new_arr = get_new_arr(game_play, game_adapted)\n",
        "new_dict = {game_play.columns[i] : [r[i] for r in new_arr] for i in range(len(game_play.columns))}\n",
        "\n",
        "new_dict[\"gameId\"] = [int(v) for v in new_dict[\"gameId\"]]\n",
        "new_dict[\"playId\"] = [int(v) for v in new_dict[\"playId\"]]\n",
        "new_dict[\"TeamAbbr\"] = [str(v) for v in new_dict[\"TeamAbbr\"]]\n",
        "new_dict[\"OffDef\"] = [str(v) for v in new_dict[\"OffDef\"]]\n",
        "new_dict[\"team\"] = [str(v) for v in new_dict[\"team\"]]\n",
        "\n",
        "game_play = pl.from_dict(new_dict)"
      ],
      "metadata": {
        "id": "gdnGNKZyoiwA"
      },
      "execution_count": 24,
      "outputs": []
    },
    {
      "cell_type": "code",
      "source": [
        "game_play = game_play.rename({\"team\" : \"HV\", \"TeamAbbr\": \"team\"})"
      ],
      "metadata": {
        "id": "OMSKHSxVoktn"
      },
      "execution_count": 25,
      "outputs": []
    },
    {
      "cell_type": "code",
      "source": [
        "plays.columns"
      ],
      "metadata": {
        "id": "xHz9pxEuppr2",
        "outputId": "405df8bb-4ee4-4c36-8506-a788ad22c292",
        "colab": {
          "base_uri": "https://localhost:8080/"
        }
      },
      "execution_count": 35,
      "outputs": [
        {
          "output_type": "execute_result",
          "data": {
            "text/plain": [
              "['gameId',\n",
              " 'playId',\n",
              " 'ballCarrierId',\n",
              " 'ballCarrierDisplayName',\n",
              " 'playDescription',\n",
              " 'quarter',\n",
              " 'down',\n",
              " 'yardsToGo',\n",
              " 'possessionTeam',\n",
              " 'defensiveTeam',\n",
              " 'yardlineSide',\n",
              " 'yardlineNumber',\n",
              " 'gameClock',\n",
              " 'preSnapHomeScore',\n",
              " 'preSnapVisitorScore',\n",
              " 'passResult',\n",
              " 'passLength',\n",
              " 'penaltyYards',\n",
              " 'prePenaltyPlayResult',\n",
              " 'playResult',\n",
              " 'playNullifiedByPenalty',\n",
              " 'absoluteYardlineNumber',\n",
              " 'offenseFormation',\n",
              " 'defendersInTheBox',\n",
              " 'passProbability',\n",
              " 'preSnapHomeTeamWinProbability',\n",
              " 'preSnapVisitorTeamWinProbability',\n",
              " 'homeTeamWinProbabilityAdded',\n",
              " 'visitorTeamWinProbilityAdded',\n",
              " 'expectedPoints',\n",
              " 'expectedPointsAdded',\n",
              " 'foulName1',\n",
              " 'foulName2',\n",
              " 'foulNFLId1',\n",
              " 'foulNFLId2']"
            ]
          },
          "metadata": {},
          "execution_count": 35
        }
      ]
    },
    {
      "cell_type": "code",
      "source": [
        "game_play"
      ],
      "metadata": {
        "id": "MGjUmsZ3o6tX",
        "outputId": "6e987928-a3aa-4dbc-d1ea-06e3e2de0b55",
        "colab": {
          "base_uri": "https://localhost:8080/",
          "height": 882
        }
      },
      "execution_count": 30,
      "outputs": [
        {
          "output_type": "execute_result",
          "data": {
            "text/plain": [
              "shape: (24_972, 5)\n",
              "┌────────────┬────────┬──────┬─────────┬─────────┐\n",
              "│ gameId     ┆ playId ┆ team ┆ OffDef  ┆ HV      │\n",
              "│ ---        ┆ ---    ┆ ---  ┆ ---     ┆ ---     │\n",
              "│ i64        ┆ i64    ┆ str  ┆ str     ┆ str     │\n",
              "╞════════════╪════════╪══════╪═════════╪═════════╡\n",
              "│ 2022100908 ┆ 3537   ┆ ATL  ┆ Offense ┆ visitor │\n",
              "│ 2022100908 ┆ 3537   ┆ TB   ┆ Defense ┆ home    │\n",
              "│ 2022091103 ┆ 3126   ┆ PIT  ┆ Offense ┆ visitor │\n",
              "│ 2022091103 ┆ 3126   ┆ CIN  ┆ Defense ┆ home    │\n",
              "│ …          ┆ …      ┆ …    ┆ …       ┆ …       │\n",
              "│ 2022100207 ┆ 2777   ┆ IND  ┆ Offense ┆ home    │\n",
              "│ 2022100207 ┆ 2777   ┆ TEN  ┆ Defense ┆ visitor │\n",
              "│ 2022102308 ┆ 905    ┆ HOU  ┆ Offense ┆ visitor │\n",
              "│ 2022102308 ┆ 905    ┆ LV   ┆ Defense ┆ home    │\n",
              "└────────────┴────────┴──────┴─────────┴─────────┘"
            ],
            "text/html": [
              "<div><style>\n",
              ".dataframe > thead > tr > th,\n",
              ".dataframe > tbody > tr > td {\n",
              "  text-align: right;\n",
              "}\n",
              "</style>\n",
              "<small>shape: (24972, 5)</small><table border=\"1\" class=\"dataframe\"><thead><tr><th>gameId</th><th>playId</th><th>team</th><th>OffDef</th><th>HV</th></tr><tr><td>i64</td><td>i64</td><td>str</td><td>str</td><td>str</td></tr></thead><tbody><tr><td>2022100908</td><td>3537</td><td>&quot;ATL&quot;</td><td>&quot;Offense&quot;</td><td>&quot;visitor&quot;</td></tr><tr><td>2022100908</td><td>3537</td><td>&quot;TB&quot;</td><td>&quot;Defense&quot;</td><td>&quot;home&quot;</td></tr><tr><td>2022091103</td><td>3126</td><td>&quot;PIT&quot;</td><td>&quot;Offense&quot;</td><td>&quot;visitor&quot;</td></tr><tr><td>2022091103</td><td>3126</td><td>&quot;CIN&quot;</td><td>&quot;Defense&quot;</td><td>&quot;home&quot;</td></tr><tr><td>2022091111</td><td>1148</td><td>&quot;LV&quot;</td><td>&quot;Offense&quot;</td><td>&quot;visitor&quot;</td></tr><tr><td>2022091111</td><td>1148</td><td>&quot;LAC&quot;</td><td>&quot;Defense&quot;</td><td>&quot;home&quot;</td></tr><tr><td>2022100212</td><td>2007</td><td>&quot;DEN&quot;</td><td>&quot;Offense&quot;</td><td>&quot;visitor&quot;</td></tr><tr><td>2022100212</td><td>2007</td><td>&quot;LV&quot;</td><td>&quot;Defense&quot;</td><td>&quot;home&quot;</td></tr><tr><td>2022091900</td><td>1372</td><td>&quot;BUF&quot;</td><td>&quot;Offense&quot;</td><td>&quot;home&quot;</td></tr><tr><td>2022091900</td><td>1372</td><td>&quot;TEN&quot;</td><td>&quot;Defense&quot;</td><td>&quot;visitor&quot;</td></tr><tr><td>2022103001</td><td>2165</td><td>&quot;ATL&quot;</td><td>&quot;Offense&quot;</td><td>&quot;home&quot;</td></tr><tr><td>2022103001</td><td>2165</td><td>&quot;CAR&quot;</td><td>&quot;Defense&quot;</td><td>&quot;visitor&quot;</td></tr><tr><td>&hellip;</td><td>&hellip;</td><td>&hellip;</td><td>&hellip;</td><td>&hellip;</td></tr><tr><td>2022100910</td><td>105</td><td>&quot;SF&quot;</td><td>&quot;Offense&quot;</td><td>&quot;visitor&quot;</td></tr><tr><td>2022100910</td><td>105</td><td>&quot;CAR&quot;</td><td>&quot;Defense&quot;</td><td>&quot;home&quot;</td></tr><tr><td>2022100204</td><td>123</td><td>&quot;DAL&quot;</td><td>&quot;Offense&quot;</td><td>&quot;home&quot;</td></tr><tr><td>2022100204</td><td>123</td><td>&quot;WAS&quot;</td><td>&quot;Defense&quot;</td><td>&quot;visitor&quot;</td></tr><tr><td>2022091200</td><td>3467</td><td>&quot;SEA&quot;</td><td>&quot;Offense&quot;</td><td>&quot;home&quot;</td></tr><tr><td>2022091200</td><td>3467</td><td>&quot;DEN&quot;</td><td>&quot;Defense&quot;</td><td>&quot;visitor&quot;</td></tr><tr><td>2022101605</td><td>3371</td><td>&quot;CIN&quot;</td><td>&quot;Offense&quot;</td><td>&quot;visitor&quot;</td></tr><tr><td>2022101605</td><td>3371</td><td>&quot;NO&quot;</td><td>&quot;Defense&quot;</td><td>&quot;home&quot;</td></tr><tr><td>2022100207</td><td>2777</td><td>&quot;IND&quot;</td><td>&quot;Offense&quot;</td><td>&quot;home&quot;</td></tr><tr><td>2022100207</td><td>2777</td><td>&quot;TEN&quot;</td><td>&quot;Defense&quot;</td><td>&quot;visitor&quot;</td></tr><tr><td>2022102308</td><td>905</td><td>&quot;HOU&quot;</td><td>&quot;Offense&quot;</td><td>&quot;visitor&quot;</td></tr><tr><td>2022102308</td><td>905</td><td>&quot;LV&quot;</td><td>&quot;Defense&quot;</td><td>&quot;home&quot;</td></tr></tbody></table></div>"
            ]
          },
          "metadata": {},
          "execution_count": 30
        }
      ]
    },
    {
      "cell_type": "code",
      "source": [
        "tracks"
      ],
      "metadata": {
        "id": "uzEj-IJEoxED",
        "outputId": "da63ee63-0750-4530-b7fb-18577b48e096",
        "colab": {
          "base_uri": "https://localhost:8080/",
          "height": 882
        }
      },
      "execution_count": 29,
      "outputs": [
        {
          "output_type": "execute_result",
          "data": {
            "text/plain": [
              "shape: (12_187_398, 17)\n",
              "┌────────────┬────────┬─────────┬────────────────┬───┬──────┬────────┬────────┬──────────────┐\n",
              "│ gameId     ┆ playId ┆ nflId   ┆ displayName    ┆ … ┆ dis  ┆ o      ┆ dir    ┆ event        │\n",
              "│ ---        ┆ ---    ┆ ---     ┆ ---            ┆   ┆ ---  ┆ ---    ┆ ---    ┆ ---          │\n",
              "│ i64        ┆ i64    ┆ f64     ┆ str            ┆   ┆ f64  ┆ f64    ┆ f64    ┆ str          │\n",
              "╞════════════╪════════╪═════════╪════════════════╪═══╪══════╪════════╪════════╪══════════════╡\n",
              "│ 2022090800 ┆ 56     ┆ 35472.0 ┆ Rodger Saffold ┆ … ┆ 0.16 ┆ 231.74 ┆ 147.9  ┆ null         │\n",
              "│ 2022090800 ┆ 56     ┆ 35472.0 ┆ Rodger Saffold ┆ … ┆ 0.17 ┆ 230.98 ┆ 148.53 ┆ pass_arrived │\n",
              "│ 2022090800 ┆ 56     ┆ 35472.0 ┆ Rodger Saffold ┆ … ┆ 0.15 ┆ 230.98 ┆ 147.05 ┆ null         │\n",
              "│ 2022090800 ┆ 56     ┆ 35472.0 ┆ Rodger Saffold ┆ … ┆ 0.14 ┆ 232.38 ┆ 145.42 ┆ null         │\n",
              "│ …          ┆ …      ┆ …       ┆ …              ┆ … ┆ …    ┆ …      ┆ …      ┆ …            │\n",
              "│ 2022110700 ┆ 3787   ┆ null    ┆ football       ┆ … ┆ 0.12 ┆ null   ┆ null   ┆ null         │\n",
              "│ 2022110700 ┆ 3787   ┆ null    ┆ football       ┆ … ┆ 0.09 ┆ null   ┆ null   ┆ null         │\n",
              "│ 2022110700 ┆ 3787   ┆ null    ┆ football       ┆ … ┆ 0.07 ┆ null   ┆ null   ┆ null         │\n",
              "│ 2022110700 ┆ 3787   ┆ null    ┆ football       ┆ … ┆ 0.05 ┆ null   ┆ null   ┆ null         │\n",
              "└────────────┴────────┴─────────┴────────────────┴───┴──────┴────────┴────────┴──────────────┘"
            ],
            "text/html": [
              "<div><style>\n",
              ".dataframe > thead > tr > th,\n",
              ".dataframe > tbody > tr > td {\n",
              "  text-align: right;\n",
              "}\n",
              "</style>\n",
              "<small>shape: (12187398, 17)</small><table border=\"1\" class=\"dataframe\"><thead><tr><th>gameId</th><th>playId</th><th>nflId</th><th>displayName</th><th>frameId</th><th>time</th><th>jerseyNumber</th><th>club</th><th>playDirection</th><th>x</th><th>y</th><th>s</th><th>a</th><th>dis</th><th>o</th><th>dir</th><th>event</th></tr><tr><td>i64</td><td>i64</td><td>f64</td><td>str</td><td>i64</td><td>str</td><td>f64</td><td>str</td><td>str</td><td>f64</td><td>f64</td><td>f64</td><td>f64</td><td>f64</td><td>f64</td><td>f64</td><td>str</td></tr></thead><tbody><tr><td>2022090800</td><td>56</td><td>35472.0</td><td>&quot;Rodger Saffold…</td><td>1</td><td>&quot;2022-09-08 20:…</td><td>76.0</td><td>&quot;BUF&quot;</td><td>&quot;left&quot;</td><td>88.37</td><td>27.27</td><td>1.62</td><td>1.15</td><td>0.16</td><td>231.74</td><td>147.9</td><td>null</td></tr><tr><td>2022090800</td><td>56</td><td>35472.0</td><td>&quot;Rodger Saffold…</td><td>2</td><td>&quot;2022-09-08 20:…</td><td>76.0</td><td>&quot;BUF&quot;</td><td>&quot;left&quot;</td><td>88.47</td><td>27.13</td><td>1.67</td><td>0.61</td><td>0.17</td><td>230.98</td><td>148.53</td><td>&quot;pass_arrived&quot;</td></tr><tr><td>2022090800</td><td>56</td><td>35472.0</td><td>&quot;Rodger Saffold…</td><td>3</td><td>&quot;2022-09-08 20:…</td><td>76.0</td><td>&quot;BUF&quot;</td><td>&quot;left&quot;</td><td>88.56</td><td>27.01</td><td>1.57</td><td>0.49</td><td>0.15</td><td>230.98</td><td>147.05</td><td>null</td></tr><tr><td>2022090800</td><td>56</td><td>35472.0</td><td>&quot;Rodger Saffold…</td><td>4</td><td>&quot;2022-09-08 20:…</td><td>76.0</td><td>&quot;BUF&quot;</td><td>&quot;left&quot;</td><td>88.64</td><td>26.9</td><td>1.44</td><td>0.89</td><td>0.14</td><td>232.38</td><td>145.42</td><td>null</td></tr><tr><td>2022090800</td><td>56</td><td>35472.0</td><td>&quot;Rodger Saffold…</td><td>5</td><td>&quot;2022-09-08 20:…</td><td>76.0</td><td>&quot;BUF&quot;</td><td>&quot;left&quot;</td><td>88.72</td><td>26.8</td><td>1.29</td><td>1.24</td><td>0.13</td><td>233.36</td><td>141.95</td><td>null</td></tr><tr><td>2022090800</td><td>56</td><td>35472.0</td><td>&quot;Rodger Saffold…</td><td>6</td><td>&quot;2022-09-08 20:…</td><td>76.0</td><td>&quot;BUF&quot;</td><td>&quot;left&quot;</td><td>88.8</td><td>26.7</td><td>1.15</td><td>1.42</td><td>0.12</td><td>234.48</td><td>139.41</td><td>&quot;pass_outcome_c…</td></tr><tr><td>2022090800</td><td>56</td><td>35472.0</td><td>&quot;Rodger Saffold…</td><td>7</td><td>&quot;2022-09-08 20:…</td><td>76.0</td><td>&quot;BUF&quot;</td><td>&quot;left&quot;</td><td>88.87</td><td>26.64</td><td>0.93</td><td>1.69</td><td>0.09</td><td>235.77</td><td>134.32</td><td>null</td></tr><tr><td>2022090800</td><td>56</td><td>35472.0</td><td>&quot;Rodger Saffold…</td><td>8</td><td>&quot;2022-09-08 20:…</td><td>76.0</td><td>&quot;BUF&quot;</td><td>&quot;left&quot;</td><td>88.91</td><td>26.59</td><td>0.68</td><td>1.74</td><td>0.07</td><td>240.0</td><td>131.01</td><td>null</td></tr><tr><td>2022090800</td><td>56</td><td>35472.0</td><td>&quot;Rodger Saffold…</td><td>9</td><td>&quot;2022-09-08 20:…</td><td>76.0</td><td>&quot;BUF&quot;</td><td>&quot;left&quot;</td><td>88.94</td><td>26.57</td><td>0.42</td><td>1.74</td><td>0.04</td><td>243.56</td><td>122.29</td><td>null</td></tr><tr><td>2022090800</td><td>56</td><td>35472.0</td><td>&quot;Rodger Saffold…</td><td>10</td><td>&quot;2022-09-08 20:…</td><td>76.0</td><td>&quot;BUF&quot;</td><td>&quot;left&quot;</td><td>88.95</td><td>26.58</td><td>0.14</td><td>1.83</td><td>0.01</td><td>246.07</td><td>85.87</td><td>null</td></tr><tr><td>2022090800</td><td>56</td><td>35472.0</td><td>&quot;Rodger Saffold…</td><td>11</td><td>&quot;2022-09-08 20:…</td><td>76.0</td><td>&quot;BUF&quot;</td><td>&quot;left&quot;</td><td>88.92</td><td>26.6</td><td>0.26</td><td>1.9</td><td>0.03</td><td>252.65</td><td>326.63</td><td>null</td></tr><tr><td>2022090800</td><td>56</td><td>35472.0</td><td>&quot;Rodger Saffold…</td><td>12</td><td>&quot;2022-09-08 20:…</td><td>76.0</td><td>&quot;BUF&quot;</td><td>&quot;left&quot;</td><td>88.9</td><td>26.63</td><td>0.51</td><td>2.45</td><td>0.04</td><td>257.66</td><td>315.55</td><td>null</td></tr><tr><td>&hellip;</td><td>&hellip;</td><td>&hellip;</td><td>&hellip;</td><td>&hellip;</td><td>&hellip;</td><td>&hellip;</td><td>&hellip;</td><td>&hellip;</td><td>&hellip;</td><td>&hellip;</td><td>&hellip;</td><td>&hellip;</td><td>&hellip;</td><td>&hellip;</td><td>&hellip;</td><td>&hellip;</td></tr><tr><td>2022110700</td><td>3787</td><td>null</td><td>&quot;football&quot;</td><td>33</td><td>&quot;2022-11-07 23:…</td><td>null</td><td>&quot;football&quot;</td><td>&quot;right&quot;</td><td>24.68</td><td>20.48</td><td>3.76</td><td>5.15</td><td>0.47</td><td>null</td><td>null</td><td>null</td></tr><tr><td>2022110700</td><td>3787</td><td>null</td><td>&quot;football&quot;</td><td>34</td><td>&quot;2022-11-07 23:…</td><td>null</td><td>&quot;football&quot;</td><td>&quot;right&quot;</td><td>25.0</td><td>20.33</td><td>3.34</td><td>4.0</td><td>0.36</td><td>null</td><td>null</td><td>null</td></tr><tr><td>2022110700</td><td>3787</td><td>null</td><td>&quot;football&quot;</td><td>35</td><td>&quot;2022-11-07 23:…</td><td>null</td><td>&quot;football&quot;</td><td>&quot;right&quot;</td><td>25.290001</td><td>20.200001</td><td>2.99</td><td>3.17</td><td>0.31</td><td>null</td><td>null</td><td>null</td></tr><tr><td>2022110700</td><td>3787</td><td>null</td><td>&quot;football&quot;</td><td>36</td><td>&quot;2022-11-07 23:…</td><td>null</td><td>&quot;football&quot;</td><td>&quot;right&quot;</td><td>25.540001</td><td>20.07</td><td>2.72</td><td>2.7</td><td>0.29</td><td>null</td><td>null</td><td>null</td></tr><tr><td>2022110700</td><td>3787</td><td>null</td><td>&quot;football&quot;</td><td>37</td><td>&quot;2022-11-07 23:…</td><td>null</td><td>&quot;football&quot;</td><td>&quot;right&quot;</td><td>25.76</td><td>19.93</td><td>2.49</td><td>2.37</td><td>0.26</td><td>null</td><td>null</td><td>null</td></tr><tr><td>2022110700</td><td>3787</td><td>null</td><td>&quot;football&quot;</td><td>38</td><td>&quot;2022-11-07 23:…</td><td>null</td><td>&quot;football&quot;</td><td>&quot;right&quot;</td><td>25.950001</td><td>19.85</td><td>2.06</td><td>2.56</td><td>0.2</td><td>null</td><td>null</td><td>null</td></tr><tr><td>2022110700</td><td>3787</td><td>null</td><td>&quot;football&quot;</td><td>39</td><td>&quot;2022-11-07 23:…</td><td>null</td><td>&quot;football&quot;</td><td>&quot;right&quot;</td><td>26.1</td><td>19.76</td><td>1.69</td><td>2.6</td><td>0.17</td><td>null</td><td>null</td><td>null</td></tr><tr><td>2022110700</td><td>3787</td><td>null</td><td>&quot;football&quot;</td><td>40</td><td>&quot;2022-11-07 23:…</td><td>null</td><td>&quot;football&quot;</td><td>&quot;right&quot;</td><td>26.219999</td><td>19.68</td><td>1.37</td><td>2.58</td><td>0.15</td><td>null</td><td>null</td><td>&quot;tackle&quot;</td></tr><tr><td>2022110700</td><td>3787</td><td>null</td><td>&quot;football&quot;</td><td>41</td><td>&quot;2022-11-07 23:…</td><td>null</td><td>&quot;football&quot;</td><td>&quot;right&quot;</td><td>26.32</td><td>19.610001</td><td>1.07</td><td>2.74</td><td>0.12</td><td>null</td><td>null</td><td>null</td></tr><tr><td>2022110700</td><td>3787</td><td>null</td><td>&quot;football&quot;</td><td>42</td><td>&quot;2022-11-07 23:…</td><td>null</td><td>&quot;football&quot;</td><td>&quot;right&quot;</td><td>26.389999</td><td>19.559999</td><td>0.8</td><td>2.49</td><td>0.09</td><td>null</td><td>null</td><td>null</td></tr><tr><td>2022110700</td><td>3787</td><td>null</td><td>&quot;football&quot;</td><td>43</td><td>&quot;2022-11-07 23:…</td><td>null</td><td>&quot;football&quot;</td><td>&quot;right&quot;</td><td>26.450001</td><td>19.52</td><td>0.57</td><td>2.38</td><td>0.07</td><td>null</td><td>null</td><td>null</td></tr><tr><td>2022110700</td><td>3787</td><td>null</td><td>&quot;football&quot;</td><td>44</td><td>&quot;2022-11-07 23:…</td><td>null</td><td>&quot;football&quot;</td><td>&quot;right&quot;</td><td>26.49</td><td>19.5</td><td>0.35</td><td>2.13</td><td>0.05</td><td>null</td><td>null</td><td>null</td></tr></tbody></table></div>"
            ]
          },
          "metadata": {},
          "execution_count": 29
        }
      ]
    },
    {
      "cell_type": "code",
      "source": [
        "cols = [\"gameId\", \"playId\", \"team\", \"nflId\", \"position\", \"frameId\", \"x\", \"y\"]\n",
        "\n",
        "new_data_final = (tracks.\n",
        "                  rename({\"club\" : \"team\"}).\n",
        "                  join(players_to_merge, on = \"nflId\", how = \"left\").\n",
        "                  filter(pl.col(\"team\") != \"football\").\n",
        "                  with_columns(pl.col(\"team\").str.replace(\"away\", \"visitor\")).\n",
        "                  select(cols).\n",
        "                  join(game_play, on = [\"gameId\", \"playId\", \"team\"], how = \"left\").\n",
        "                  drop(\"HV\").\n",
        "                  with_columns(pl.lit(\"Passing\").alias(\"PlayType\")).\n",
        "                  select([\"PlayType\", \"gameId\", \"playId\", \"team\", \"OffDef\", \"nflId\", \"position\", \"frameId\", \"x\", \"y\"]).\n",
        "                  with_columns((pl.col(\"frameId\")%2).alias(\"filter\")).\n",
        "                  filter(pl.col(\"filter\") == 1).\n",
        "                  drop(\"filter\"))"
      ],
      "metadata": {
        "id": "2zDAKznlor_w"
      },
      "execution_count": 31,
      "outputs": []
    },
    {
      "cell_type": "code",
      "source": [
        "new_data_final.select(\"PlayType\").unique()"
      ],
      "metadata": {
        "id": "6CSijaZiovP6",
        "outputId": "de173727-ea44-43e7-ba28-bdd3d5edb8e4",
        "colab": {
          "base_uri": "https://localhost:8080/",
          "height": 129
        }
      },
      "execution_count": 33,
      "outputs": [
        {
          "output_type": "execute_result",
          "data": {
            "text/plain": [
              "shape: (1, 1)\n",
              "┌──────────┐\n",
              "│ PlayType │\n",
              "│ ---      │\n",
              "│ str      │\n",
              "╞══════════╡\n",
              "│ Passing  │\n",
              "└──────────┘"
            ],
            "text/html": [
              "<div><style>\n",
              ".dataframe > thead > tr > th,\n",
              ".dataframe > tbody > tr > td {\n",
              "  text-align: right;\n",
              "}\n",
              "</style>\n",
              "<small>shape: (1, 1)</small><table border=\"1\" class=\"dataframe\"><thead><tr><th>PlayType</th></tr><tr><td>str</td></tr></thead><tbody><tr><td>&quot;Passing&quot;</td></tr></tbody></table></div>"
            ]
          },
          "metadata": {},
          "execution_count": 33
        }
      ]
    },
    {
      "cell_type": "code",
      "source": [
        "new_data_final.write_parquet(path+\"/processed_df.parquet\")"
      ],
      "metadata": {
        "id": "NxqMQ25fqhMH"
      },
      "execution_count": 41,
      "outputs": []
    },
    {
      "cell_type": "code",
      "source": [],
      "metadata": {
        "id": "gVsnnYTNsVy_"
      },
      "execution_count": null,
      "outputs": []
    }
  ],
  "metadata": {
    "kernelspec": {
      "display_name": "nflgpt",
      "language": "python",
      "name": "python3"
    },
    "language_info": {
      "codemirror_mode": {
        "name": "ipython",
        "version": 3
      },
      "file_extension": ".py",
      "mimetype": "text/x-python",
      "name": "python",
      "nbconvert_exporter": "python",
      "pygments_lexer": "ipython3",
      "version": "3.11.4"
    },
    "colab": {
      "provenance": []
    }
  },
  "nbformat": 4,
  "nbformat_minor": 0
}