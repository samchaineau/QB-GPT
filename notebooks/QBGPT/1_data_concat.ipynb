{
  "nbformat": 4,
  "nbformat_minor": 0,
  "metadata": {
    "colab": {
      "provenance": [],
      "authorship_tag": "ABX9TyM2ruYpfbzvuCRwWUluIHqU"
    },
    "kernelspec": {
      "name": "python3",
      "display_name": "Python 3"
    },
    "language_info": {
      "name": "python"
    }
  },
  "cells": [
    {
      "cell_type": "code",
      "source": [
        "!pip install --upgrade polars\n",
        "!pip install nfl_data_py"
      ],
      "metadata": {
        "colab": {
          "base_uri": "https://localhost:8080/"
        },
        "id": "TO65ulydHh5d",
        "outputId": "b7c08a6c-79f6-4935-c2d8-c2c8523df62f"
      },
      "execution_count": 1,
      "outputs": [
        {
          "output_type": "stream",
          "name": "stdout",
          "text": [
            "Requirement already satisfied: polars in /usr/local/lib/python3.10/dist-packages (0.19.15)\n",
            "Requirement already satisfied: nfl_data_py in /usr/local/lib/python3.10/dist-packages (0.3.1)\n",
            "Requirement already satisfied: pandas>1 in /usr/local/lib/python3.10/dist-packages (from nfl_data_py) (1.5.3)\n",
            "Requirement already satisfied: appdirs>1 in /usr/local/lib/python3.10/dist-packages (from nfl_data_py) (1.4.4)\n",
            "Requirement already satisfied: fastparquet>0.5 in /usr/local/lib/python3.10/dist-packages (from nfl_data_py) (2023.10.1)\n",
            "Requirement already satisfied: python-snappy>0.5 in /usr/local/lib/python3.10/dist-packages (from nfl_data_py) (0.6.1)\n",
            "Requirement already satisfied: numpy>=1.20.3 in /usr/local/lib/python3.10/dist-packages (from fastparquet>0.5->nfl_data_py) (1.23.5)\n",
            "Requirement already satisfied: cramjam>=2.3 in /usr/local/lib/python3.10/dist-packages (from fastparquet>0.5->nfl_data_py) (2.7.0)\n",
            "Requirement already satisfied: fsspec in /usr/local/lib/python3.10/dist-packages (from fastparquet>0.5->nfl_data_py) (2023.6.0)\n",
            "Requirement already satisfied: packaging in /usr/local/lib/python3.10/dist-packages (from fastparquet>0.5->nfl_data_py) (23.2)\n",
            "Requirement already satisfied: python-dateutil>=2.8.1 in /usr/local/lib/python3.10/dist-packages (from pandas>1->nfl_data_py) (2.8.2)\n",
            "Requirement already satisfied: pytz>=2020.1 in /usr/local/lib/python3.10/dist-packages (from pandas>1->nfl_data_py) (2023.3.post1)\n",
            "Requirement already satisfied: six>=1.5 in /usr/local/lib/python3.10/dist-packages (from python-dateutil>=2.8.1->pandas>1->nfl_data_py) (1.16.0)\n"
          ]
        }
      ]
    },
    {
      "cell_type": "code",
      "execution_count": 2,
      "metadata": {
        "colab": {
          "base_uri": "https://localhost:8080/"
        },
        "id": "wKYLfr6s0cgA",
        "outputId": "89fd7059-6a49-4fe9-e839-e199699c0c7f"
      },
      "outputs": [
        {
          "output_type": "stream",
          "name": "stdout",
          "text": [
            "Drive already mounted at /content/gdrive; to attempt to forcibly remount, call drive.mount(\"/content/gdrive\", force_remount=True).\n"
          ]
        }
      ],
      "source": [
        "import os\n",
        "import pandas as pd\n",
        "import polars as pl\n",
        "import nfl_data_py as nfl\n",
        "\n",
        "\n",
        "from google.colab import drive\n",
        "drive.mount('/content/gdrive')"
      ]
    },
    {
      "cell_type": "code",
      "source": [
        "os.chdir(\"/content/gdrive/MyDrive/NFL_Challenge/QB-GPT/data_preprocessing/0_raw\")"
      ],
      "metadata": {
        "id": "NEbxI7bf0g-L"
      },
      "execution_count": 3,
      "outputs": []
    },
    {
      "cell_type": "code",
      "source": [
        "os.listdir()"
      ],
      "metadata": {
        "colab": {
          "base_uri": "https://localhost:8080/"
        },
        "id": "s2WGap620lJH",
        "outputId": "b25b1337-b975-4c30-e959-c4c22e9e2540"
      },
      "execution_count": 4,
      "outputs": [
        {
          "output_type": "execute_result",
          "data": {
            "text/plain": [
              "['Contact Detection',\n",
              " 'Punt Prediction',\n",
              " 'Analytics',\n",
              " 'Impact Detection',\n",
              " 'data bowl 2021',\n",
              " 'data bowl 2023',\n",
              " 'data bowl 2022',\n",
              " 'data bowl 2020',\n",
              " 'asonty',\n",
              " 'Highlights_NGS_2019',\n",
              " 'Highlights_NGS_Prime',\n",
              " 'data bowl 2024']"
            ]
          },
          "metadata": {},
          "execution_count": 4
        }
      ]
    },
    {
      "cell_type": "code",
      "source": [
        "to_get = [\n",
        " 'data bowl 2021',\n",
        " 'data bowl 2022',\n",
        " 'data bowl 2023',\n",
        " 'data bowl 2024',\n",
        " 'asonty',\n",
        " 'Highlights_NGS_2019']"
      ],
      "metadata": {
        "id": "6Z9uGLG70pRZ"
      },
      "execution_count": 5,
      "outputs": []
    },
    {
      "cell_type": "code",
      "source": [
        "def read(p):\n",
        "  data = pl.read_parquet(p)\n",
        "  to_insert = p.replace(\"/processed_df.parquet\", \"\")\n",
        "  data = (data.\n",
        "          with_columns(pl.col(\"nflId\").cast(pl.Int64)).\n",
        "          with_columns(pl.lit(to_insert).alias(\"data_source\")))\n",
        "  return data"
      ],
      "metadata": {
        "id": "cB013GaH1gEB"
      },
      "execution_count": 6,
      "outputs": []
    },
    {
      "cell_type": "code",
      "source": [
        "years_to_get = [2018, 2019, 2020, 2021, 2022, 2023]\n",
        "season_data = pl.from_pandas(nfl.import_pbp_data(years_to_get))\n",
        "rosters = pl.from_pandas(nfl.import_seasonal_rosters(years_to_get))"
      ],
      "metadata": {
        "colab": {
          "base_uri": "https://localhost:8080/"
        },
        "id": "SVgIdsbrHvPZ",
        "outputId": "c74a685d-bf8b-4704-c2ef-6c120e5b455e"
      },
      "execution_count": 7,
      "outputs": [
        {
          "output_type": "stream",
          "name": "stdout",
          "text": [
            "2018 done.\n",
            "2019 done.\n",
            "2020 done.\n",
            "2021 done.\n",
            "2022 done.\n",
            "2023 done.\n",
            "Downcasting floats.\n"
          ]
        }
      ]
    },
    {
      "cell_type": "code",
      "source": [
        "dataset = pl.concat([read(p+\"/processed_df.parquet\").unique() for p in to_get])"
      ],
      "metadata": {
        "id": "8CylxNR8u1Uf"
      },
      "execution_count": 8,
      "outputs": []
    },
    {
      "cell_type": "code",
      "source": [
        "dataset = (dataset.\n",
        "           with_columns(pl.when(pl.col(\"team\") == \"OAK\").\n",
        "                        then(pl.lit(\"LV\")).\n",
        "                        otherwise(pl.col(\"team\"))).\n",
        "           group_by('data_source', 'PlayType', 'gameId', 'playId', 'team', 'OffDef', 'nflId', 'position').\n",
        "           agg([pl.col(\"frameId\"), pl.col(\"x\"), pl.col(\"y\")]).\n",
        "           filter(pl.col(\"nflId\").is_not_null()).\n",
        "           join(\n",
        "              season_data.\n",
        "              select(\"old_game_id\", \"play_id\", \"posteam\").\n",
        "              unique().\n",
        "              with_columns([\n",
        "                  pl.col(\"old_game_id\").cast(pl.Int64).alias(\"gameId\"),\n",
        "                  pl.col(\"play_id\").cast(pl.Int64).alias(\"playId\")\n",
        "              ]).\n",
        "              drop(\"old_game_id\", \"play_id\"),\n",
        "              on = [\"gameId\", \"playId\"],\n",
        "              how = \"left\"\n",
        "           ).\n",
        "           with_columns(pl.when(pl.col(\"posteam\") == pl.col(\"team\")).\n",
        "                        then(pl.lit(\"Offense\")).\n",
        "                        otherwise(pl.lit(\"Defense\")).\n",
        "                        alias(\"new_team\")).\n",
        "           drop(\"OffDef\", \"posteam\").\n",
        "           rename({\"new_team\" : \"OffDef\"}).\n",
        "           join(season_data.\n",
        "                select(\"old_game_id\", \"play_id\", \"yardline_100\", \"qtr\", \"down\", \"play_type\", \"season_type\", \"season\").\n",
        "                with_columns([\n",
        "                    pl.col(\"old_game_id\").cast(pl.Int64).alias(\"gameId\"),\n",
        "                    pl.col(\"play_id\").cast(pl.Int64).alias(\"playId\")\n",
        "                    ]).\n",
        "                drop(\"old_game_id\", \"play_id\"),\n",
        "                on = [\"gameId\", \"playId\"],\n",
        "                how = \"left\").\n",
        "           drop(\"PlayType\").\n",
        "           rename({\"play_type\" : \"PlayType\"}).\n",
        "           with_columns(pl.col(\"frameId\").list.lengths().alias(\"NB_Frames\")).\n",
        "           select(\"season_type\", \"season\", \"gameId\", \"qtr\", \"down\", \"yardline_100\", \"playId\", \"PlayType\", \"team\", \"OffDef\", \"nflId\", \"position\", \"frameId\", \"x\", \"y\").\n",
        "           unique(subset = [\"gameId\", \"playId\", \"nflId\"]))\n",
        "\n",
        "\n",
        "filter_NB_players = (dataset.\n",
        "                     select(\"gameId\", \"playId\", \"OffDef\", \"nflId\").\n",
        "                     unique().\n",
        "                     group_by(\"gameId\", \"playId\", \"OffDef\").\n",
        "                     count().\n",
        "                     rename({\"count\" : \"Nb_players\"}))\n",
        "\n",
        "dataset = (dataset.\n",
        "           join(filter_NB_players,\n",
        "                on = [\"gameId\", \"playId\", \"OffDef\"],\n",
        "                how = \"left\").\n",
        "           filter(pl.col(\"Nb_players\") > 1).\n",
        "           drop(\"Nb_players\"))"
      ],
      "metadata": {
        "id": "taBp7fN-09VB",
        "outputId": "c72b47fb-09d1-4530-81a1-05fd01d2e77f",
        "colab": {
          "base_uri": "https://localhost:8080/"
        }
      },
      "execution_count": 9,
      "outputs": [
        {
          "output_type": "stream",
          "name": "stderr",
          "text": [
            "<ipython-input-9-08f3ff3a7b20>:37: DeprecationWarning: `lengths` is deprecated. It has been renamed to `len`.\n",
            "  with_columns(pl.col(\"frameId\").list.lengths().alias(\"NB_Frames\")).\n"
          ]
        }
      ]
    },
    {
      "cell_type": "code",
      "source": [
        "uniques = (dataset.\n",
        "           select(\"gameId\", \"playId\", \"nflId\").\n",
        "           unique())\n",
        "\n",
        "dataset = (uniques.\n",
        "           join(dataset,\n",
        "                on = [\"gameId\", \"playId\", \"nflId\"]))"
      ],
      "metadata": {
        "id": "E1MydFnny-V7"
      },
      "execution_count": 10,
      "outputs": []
    },
    {
      "cell_type": "markdown",
      "source": [
        "## V1"
      ],
      "metadata": {
        "id": "hH5UOI2qyjGF"
      }
    },
    {
      "cell_type": "code",
      "source": [
        "specific_to_add = (dataset.\n",
        "                   select(\"season\", \"gameId\", \"playId\", \"OffDef\", \"nflId\").\n",
        "                   group_by(\"season\", \"gameId\", \"playId\", \"OffDef\").\n",
        "                   agg(pl.col(\"nflId\").cast(pl.Utf8).alias(\"players_scraped\")).\n",
        "                   join(\n",
        "                      season_data.\n",
        "                      with_columns(\n",
        "                          [\n",
        "                              pl.col(\"old_game_id\").cast(pl.Int64).alias(\"gameId\"),\n",
        "                              pl.col(\"play_id\").cast(pl.Int64).alias(\"playId\")\n",
        "                              ]).\n",
        "                      select(\"season\", \"gameId\", \"playId\", \"offense_players\", \"defense_players\").\n",
        "                      melt(id_vars = [\"season\", \"gameId\", \"playId\"],\n",
        "                           value_vars = [\"offense_players\", \"defense_players\"],\n",
        "                           variable_name = \"OffDef\",\n",
        "                           value_name = \"player_id\").\n",
        "                      with_columns(pl.when(pl.col(\"OffDef\") == \"offense_players\").\n",
        "                                   then(pl.lit(\"Offense\")).\n",
        "                                   otherwise(pl.lit(\"Defense\")).\n",
        "                                   alias(\"OffDef\")).\n",
        "                      with_columns(pl.col(\"player_id\").str.split(\";\")).\n",
        "                      explode(\"player_id\").\n",
        "                      join(\n",
        "                          rosters.\n",
        "                          select(\"player_id\", \"gsis_it_id\").\n",
        "                          unique().\n",
        "                          rename({\"gsis_it_id\" : \"nflId\"}),\n",
        "                          on = \"player_id\",\n",
        "                          how = \"left\"\n",
        "                      ).\n",
        "                      drop(\"player_id\").\n",
        "                      group_by(\"season\", \"gameId\", \"playId\", \"OffDef\").\n",
        "                      agg(pl.col(\"nflId\").alias(\"players_present\")),\n",
        "                      on = [\"season\", \"gameId\", \"playId\", \"OffDef\"],\n",
        "                      how = \"left\").\n",
        "                   with_columns(pl.col(\"players_present\").list.set_difference(\"players_scraped\").alias(\"difference\")).\n",
        "                   select(\"season\", \"gameId\", \"playId\", \"OffDef\", \"difference\").\n",
        "                   explode(\"difference\").\n",
        "                   filter(pl.col(\"difference\") != \"\").\n",
        "                   rename({\"difference\" : \"nflId\"}).\n",
        "                   with_columns(pl.col(\"nflId\").cast(pl.Int64)).\n",
        "                   join(\n",
        "                      rosters.\n",
        "                      select(\"season\", \"gsis_it_id\", \"position\").\n",
        "                      with_columns([\n",
        "                          pl.col(\"season\").cast(pl.Int64).alias(\"season\"),\n",
        "                          pl.col(\"gsis_it_id\").cast(pl.Int64).alias(\"nflId\")\n",
        "                          ]).\n",
        "                      drop(\"gsis_it_id\").\n",
        "                      unique(subset=[\"season\", \"nflId\"]),\n",
        "                      on = [\"season\", \"nflId\"],\n",
        "                      how = \"left\").\n",
        "                   fill_null(\"UNKNOWN\").\n",
        "                   join(\n",
        "                      dataset.\n",
        "                      select(\"season\", \"gameId\", \"playId\", \"season_type\", \"team\", \"OffDef\", \"qtr\", \"down\", \"yardline_100\", \"PlayType\").\n",
        "                      unique(),\n",
        "                      on = [\"season\", \"gameId\", \"playId\", \"OffDef\"],\n",
        "                      how = \"left\").\n",
        "                   select('season_type', 'season', 'gameId', 'qtr', 'down', 'yardline_100', 'playId', 'PlayType', 'team', 'OffDef', 'nflId', 'position').\n",
        "                   with_columns([\n",
        "                      pl.lit(-1).cast(pl.Int64).alias(\"frameId\"),\n",
        "                      pl.lit(-1).cast(pl.Float64).alias(\"x\"),\n",
        "                      pl.lit(-1).cast(pl.Float64).alias(\"y\")\n",
        "                   ]).\n",
        "                   group_by('season_type', 'season', 'gameId', 'qtr', 'down', 'yardline_100', 'playId', 'PlayType', 'team', 'OffDef', 'nflId', 'position').\n",
        "                   agg([pl.col(\"frameId\"),\n",
        "                        pl.col(\"x\"),\n",
        "                        pl.col(\"y\")]).\n",
        "                   with_columns(pl.lit(-1).alias(\"Length\")))\n",
        "\n",
        "specific_to_keep = (dataset.\n",
        "                    select(\"season\", \"gameId\", \"playId\", \"nflId\").\n",
        "                    group_by(\"season\", \"gameId\", \"playId\").\n",
        "                    agg(pl.col(\"nflId\").cast(pl.Utf8).alias(\"players_scraped\")).\n",
        "                    join(\n",
        "                        season_data.\n",
        "                        with_columns(\n",
        "                            [\n",
        "                                pl.col(\"old_game_id\").cast(pl.Int64).alias(\"gameId\"),\n",
        "                                pl.col(\"play_id\").cast(pl.Int64).alias(\"playId\")\n",
        "                                ]).\n",
        "                        select(\"gameId\", \"playId\", \"players_on_play\").\n",
        "                        with_columns(pl.col(\"players_on_play\").str.split(\";\").alias(\"players_present\")),\n",
        "                        on = [\"gameId\", \"playId\"],\n",
        "                        how = \"left\").\n",
        "                    drop(\"players_on_play\").\n",
        "                    with_columns(pl.col(\"players_present\").list.set_intersection(\"players_scraped\").alias(\"kept\")).\n",
        "                    select(\"season\", \"gameId\", \"playId\", \"kept\").\n",
        "                    explode(\"kept\").\n",
        "                    filter(pl.col(\"kept\") != \"\").\n",
        "                    rename({\"kept\" : \"nflId\"}).\n",
        "                    with_columns(pl.col(\"nflId\").cast(pl.Int64)).\n",
        "                    join(\n",
        "                        dataset,\n",
        "                        on = [\"season\", \"gameId\", \"playId\", \"nflId\"],\n",
        "                        how = \"left\").\n",
        "                    select('season_type', 'season', 'gameId', 'qtr', 'down', 'yardline_100', 'playId', 'PlayType', 'team', 'OffDef', 'nflId', 'position', 'frameId', 'x', 'y').\n",
        "                    with_columns(pl.col(\"frameId\").list.lengths().cast(pl.Int32).alias(\"Length\")))"
      ],
      "metadata": {
        "id": "bCgpO6hmmI1S",
        "outputId": "13e896f7-6b20-4189-899d-761a173f6d6a",
        "colab": {
          "base_uri": "https://localhost:8080/"
        }
      },
      "execution_count": 11,
      "outputs": [
        {
          "output_type": "stream",
          "name": "stderr",
          "text": [
            "<ipython-input-11-59a3a049756d>:99: DeprecationWarning: `lengths` is deprecated. It has been renamed to `len`.\n",
            "  with_columns(pl.col(\"frameId\").list.lengths().cast(pl.Int32).alias(\"Length\")))\n"
          ]
        }
      ]
    },
    {
      "cell_type": "code",
      "source": [
        "dataset = (pl.concat([specific_to_keep, specific_to_add]).\n",
        "           filter(pl.col(\"Length\") != -1))"
      ],
      "metadata": {
        "id": "vq0lxfxxUPT7"
      },
      "execution_count": 12,
      "outputs": []
    },
    {
      "cell_type": "code",
      "source": [
        "(dataset.\n",
        " select(\"gameId\", \"playId\", \"team\", \"OffDef\", \"nflId\").\n",
        " unique().\n",
        " shape)"
      ],
      "metadata": {
        "id": "Ek16J4PBOyOP",
        "colab": {
          "base_uri": "https://localhost:8080/"
        },
        "outputId": "65ed79ae-a0e2-49a5-ee29-d12f0b82f0fa"
      },
      "execution_count": 13,
      "outputs": [
        {
          "output_type": "execute_result",
          "data": {
            "text/plain": [
              "(1170107, 5)"
            ]
          },
          "metadata": {},
          "execution_count": 13
        }
      ]
    },
    {
      "cell_type": "code",
      "source": [
        "dataset.shape"
      ],
      "metadata": {
        "colab": {
          "base_uri": "https://localhost:8080/"
        },
        "id": "yhrXHXB2ZPoH",
        "outputId": "936a19d4-6429-4c54-f61a-5880dd205002"
      },
      "execution_count": 14,
      "outputs": [
        {
          "output_type": "execute_result",
          "data": {
            "text/plain": [
              "(1170107, 16)"
            ]
          },
          "metadata": {},
          "execution_count": 14
        }
      ]
    },
    {
      "cell_type": "code",
      "source": [
        "dataset.write_parquet(\"final_df_2024.parquet\")"
      ],
      "metadata": {
        "id": "AkjEhgm9nCGf"
      },
      "execution_count": 15,
      "outputs": []
    },
    {
      "cell_type": "code",
      "source": [],
      "metadata": {
        "id": "o4kcFvQ5Xj9F"
      },
      "execution_count": null,
      "outputs": []
    }
  ]
}