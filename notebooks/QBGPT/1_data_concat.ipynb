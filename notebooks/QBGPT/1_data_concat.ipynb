{
  "nbformat": 4,
  "nbformat_minor": 0,
  "metadata": {
    "colab": {
      "provenance": [],
      "authorship_tag": "ABX9TyOaaven6GiHjBIEaoXjKxzt"
    },
    "kernelspec": {
      "name": "python3",
      "display_name": "Python 3"
    },
    "language_info": {
      "name": "python"
    }
  },
  "cells": [
    {
      "cell_type": "code",
      "source": [
        "!pip install --upgrade polars\n",
        "!pip install nfl_data_py"
      ],
      "metadata": {
        "colab": {
          "base_uri": "https://localhost:8080/"
        },
        "id": "TO65ulydHh5d",
        "outputId": "a069a267-3dce-4d94-b4e2-2718b617f857"
      },
      "execution_count": 1,
      "outputs": [
        {
          "output_type": "stream",
          "name": "stdout",
          "text": [
            "Requirement already satisfied: polars in /usr/local/lib/python3.10/dist-packages (0.17.3)\n",
            "Collecting polars\n",
            "  Downloading polars-0.20.3-cp38-abi3-manylinux_2_17_x86_64.manylinux2014_x86_64.whl (28.6 MB)\n",
            "\u001b[2K     \u001b[90m━━━━━━━━━━━━━━━━━━━━━━━━━━━━━━━━━━━━━━━━\u001b[0m \u001b[32m28.6/28.6 MB\u001b[0m \u001b[31m16.8 MB/s\u001b[0m eta \u001b[36m0:00:00\u001b[0m\n",
            "\u001b[?25hInstalling collected packages: polars\n",
            "  Attempting uninstall: polars\n",
            "    Found existing installation: polars 0.17.3\n",
            "    Uninstalling polars-0.17.3:\n",
            "      Successfully uninstalled polars-0.17.3\n",
            "Successfully installed polars-0.20.3\n",
            "Collecting nfl_data_py\n",
            "  Downloading nfl_data_py-0.3.1.tar.gz (16 kB)\n",
            "  Preparing metadata (setup.py) ... \u001b[?25l\u001b[?25hdone\n",
            "Requirement already satisfied: pandas>1 in /usr/local/lib/python3.10/dist-packages (from nfl_data_py) (1.5.3)\n",
            "Requirement already satisfied: appdirs>1 in /usr/local/lib/python3.10/dist-packages (from nfl_data_py) (1.4.4)\n",
            "Collecting fastparquet>0.5 (from nfl_data_py)\n",
            "  Downloading fastparquet-2023.10.1-cp310-cp310-manylinux_2_17_x86_64.manylinux2014_x86_64.whl (1.7 MB)\n",
            "\u001b[2K     \u001b[90m━━━━━━━━━━━━━━━━━━━━━━━━━━━━━━━━━━━━━━━━\u001b[0m \u001b[32m1.7/1.7 MB\u001b[0m \u001b[31m25.8 MB/s\u001b[0m eta \u001b[36m0:00:00\u001b[0m\n",
            "\u001b[?25hCollecting python-snappy>0.5 (from nfl_data_py)\n",
            "  Downloading python_snappy-0.6.1-cp310-cp310-manylinux_2_12_x86_64.manylinux2010_x86_64.whl (55 kB)\n",
            "\u001b[2K     \u001b[90m━━━━━━━━━━━━━━━━━━━━━━━━━━━━━━━━━━━━━━━━\u001b[0m \u001b[32m55.9/55.9 kB\u001b[0m \u001b[31m8.8 MB/s\u001b[0m eta \u001b[36m0:00:00\u001b[0m\n",
            "\u001b[?25hRequirement already satisfied: numpy>=1.20.3 in /usr/local/lib/python3.10/dist-packages (from fastparquet>0.5->nfl_data_py) (1.23.5)\n",
            "Collecting cramjam>=2.3 (from fastparquet>0.5->nfl_data_py)\n",
            "  Downloading cramjam-2.7.0-cp310-cp310-manylinux_2_17_x86_64.manylinux2014_x86_64.whl (1.6 MB)\n",
            "\u001b[2K     \u001b[90m━━━━━━━━━━━━━━━━━━━━━━━━━━━━━━━━━━━━━━━━\u001b[0m \u001b[32m1.6/1.6 MB\u001b[0m \u001b[31m80.0 MB/s\u001b[0m eta \u001b[36m0:00:00\u001b[0m\n",
            "\u001b[?25hRequirement already satisfied: fsspec in /usr/local/lib/python3.10/dist-packages (from fastparquet>0.5->nfl_data_py) (2023.6.0)\n",
            "Requirement already satisfied: packaging in /usr/local/lib/python3.10/dist-packages (from fastparquet>0.5->nfl_data_py) (23.2)\n",
            "Requirement already satisfied: python-dateutil>=2.8.1 in /usr/local/lib/python3.10/dist-packages (from pandas>1->nfl_data_py) (2.8.2)\n",
            "Requirement already satisfied: pytz>=2020.1 in /usr/local/lib/python3.10/dist-packages (from pandas>1->nfl_data_py) (2023.3.post1)\n",
            "Requirement already satisfied: six>=1.5 in /usr/local/lib/python3.10/dist-packages (from python-dateutil>=2.8.1->pandas>1->nfl_data_py) (1.16.0)\n",
            "Building wheels for collected packages: nfl_data_py\n",
            "  Building wheel for nfl_data_py (setup.py) ... \u001b[?25l\u001b[?25hdone\n",
            "  Created wheel for nfl_data_py: filename=nfl_data_py-0.3.1-py3-none-any.whl size=13187 sha256=f7f130f172ddc78d1c7dcc189deaac90b10bf49839a146409214380ce30c9662\n",
            "  Stored in directory: /root/.cache/pip/wheels/ca/2e/d2/4def312ac7c070e1c0002e91ecc6923481a86c3ebd5b2c5413\n",
            "Successfully built nfl_data_py\n",
            "Installing collected packages: python-snappy, cramjam, fastparquet, nfl_data_py\n",
            "Successfully installed cramjam-2.7.0 fastparquet-2023.10.1 nfl_data_py-0.3.1 python-snappy-0.6.1\n"
          ]
        }
      ]
    },
    {
      "cell_type": "code",
      "execution_count": 2,
      "metadata": {
        "colab": {
          "base_uri": "https://localhost:8080/"
        },
        "id": "wKYLfr6s0cgA",
        "outputId": "0090b0e1-da34-420a-82c9-40557194eb56"
      },
      "outputs": [
        {
          "output_type": "stream",
          "name": "stdout",
          "text": [
            "Mounted at /content/gdrive\n"
          ]
        }
      ],
      "source": [
        "import os\n",
        "import pandas as pd\n",
        "import polars as pl\n",
        "import nfl_data_py as nfl\n",
        "\n",
        "\n",
        "from google.colab import drive\n",
        "drive.mount('/content/gdrive')"
      ]
    },
    {
      "cell_type": "code",
      "source": [
        "os.chdir(\"/content/gdrive/MyDrive/NFL_Challenge/QB-GPT/data_preprocessing/0_raw\")"
      ],
      "metadata": {
        "id": "NEbxI7bf0g-L"
      },
      "execution_count": 3,
      "outputs": []
    },
    {
      "cell_type": "code",
      "source": [
        "os.listdir()"
      ],
      "metadata": {
        "colab": {
          "base_uri": "https://localhost:8080/"
        },
        "id": "s2WGap620lJH",
        "outputId": "0d8f0735-fbc3-4022-9bc8-0a3e42ea4c28"
      },
      "execution_count": 4,
      "outputs": [
        {
          "output_type": "execute_result",
          "data": {
            "text/plain": [
              "['Contact Detection',\n",
              " 'Punt Prediction',\n",
              " 'Analytics',\n",
              " 'Impact Detection',\n",
              " 'data bowl 2021',\n",
              " 'data bowl 2023',\n",
              " 'data bowl 2022',\n",
              " 'data bowl 2020',\n",
              " 'asonty',\n",
              " 'Highlights_NGS_2019',\n",
              " 'Highlights_NGS_Prime',\n",
              " 'data bowl 2024',\n",
              " 'final_df_2024.parquet']"
            ]
          },
          "metadata": {},
          "execution_count": 4
        }
      ]
    },
    {
      "cell_type": "code",
      "source": [
        "to_get = [\n",
        " 'data bowl 2021',\n",
        " 'data bowl 2022',\n",
        " 'data bowl 2023',\n",
        " 'data bowl 2024',\n",
        " 'asonty',\n",
        " 'Highlights_NGS_2019']"
      ],
      "metadata": {
        "id": "6Z9uGLG70pRZ"
      },
      "execution_count": 5,
      "outputs": []
    },
    {
      "cell_type": "code",
      "source": [
        "def read(p):\n",
        "  data = pl.read_parquet(p)\n",
        "  to_insert = p.replace(\"/processed_df.parquet\", \"\")\n",
        "  data = (data.\n",
        "          with_columns(pl.col(\"nflId\").cast(pl.Int64)).\n",
        "          with_columns(pl.lit(to_insert).alias(\"data_source\")))\n",
        "  return data"
      ],
      "metadata": {
        "id": "cB013GaH1gEB"
      },
      "execution_count": 6,
      "outputs": []
    },
    {
      "cell_type": "code",
      "source": [
        "years_to_get = [2018, 2019, 2020, 2021, 2022, 2023]\n",
        "season_data = pl.from_pandas(nfl.import_pbp_data(years_to_get))\n",
        "rosters = pl.from_pandas(nfl.import_seasonal_rosters(years_to_get))"
      ],
      "metadata": {
        "colab": {
          "base_uri": "https://localhost:8080/"
        },
        "id": "SVgIdsbrHvPZ",
        "outputId": "6a2252d2-d129-4241-a1da-0647739fd6ae"
      },
      "execution_count": 7,
      "outputs": [
        {
          "output_type": "stream",
          "name": "stdout",
          "text": [
            "2018 done.\n",
            "2019 done.\n",
            "2020 done.\n",
            "2021 done.\n",
            "2022 done.\n",
            "2023 done.\n",
            "Downcasting floats.\n"
          ]
        }
      ]
    },
    {
      "cell_type": "code",
      "source": [
        "dataset = pl.concat([read(p+\"/processed_df.parquet\").unique() for p in to_get])"
      ],
      "metadata": {
        "id": "8CylxNR8u1Uf"
      },
      "execution_count": 8,
      "outputs": []
    },
    {
      "cell_type": "code",
      "source": [
        "(dataset.\n",
        " head())"
      ],
      "metadata": {
        "id": "hMer5NAX49J3",
        "outputId": "c38a55e8-d247-4374-c09e-e87fb5e67677",
        "colab": {
          "base_uri": "https://localhost:8080/",
          "height": 255
        }
      },
      "execution_count": 9,
      "outputs": [
        {
          "output_type": "execute_result",
          "data": {
            "text/plain": [
              "shape: (5, 11)\n",
              "┌──────────┬────────────┬────────┬──────┬───┬─────────┬───────┬───────┬────────────────┐\n",
              "│ PlayType ┆ gameId     ┆ playId ┆ team ┆ … ┆ frameId ┆ x     ┆ y     ┆ data_source    │\n",
              "│ ---      ┆ ---        ┆ ---    ┆ ---  ┆   ┆ ---     ┆ ---   ┆ ---   ┆ ---            │\n",
              "│ str      ┆ i64        ┆ i64    ┆ str  ┆   ┆ i64     ┆ f64   ┆ f64   ┆ str            │\n",
              "╞══════════╪════════════╪════════╪══════╪═══╪═════════╪═══════╪═══════╪════════════════╡\n",
              "│ Passing  ┆ 2018091612 ┆ 260    ┆ NE   ┆ … ┆ 1       ┆ 60.93 ┆ 24.55 ┆ data bowl 2021 │\n",
              "│ Passing  ┆ 2018091612 ┆ 260    ┆ NE   ┆ … ┆ 7       ┆ 60.65 ┆ 24.61 ┆ data bowl 2021 │\n",
              "│ Passing  ┆ 2018091612 ┆ 260    ┆ NE   ┆ … ┆ 9       ┆ 60.58 ┆ 24.6  ┆ data bowl 2021 │\n",
              "│ Passing  ┆ 2018091612 ┆ 260    ┆ NE   ┆ … ┆ 11      ┆ 60.53 ┆ 24.57 ┆ data bowl 2021 │\n",
              "│ Passing  ┆ 2018091612 ┆ 260    ┆ NE   ┆ … ┆ 15      ┆ 60.4  ┆ 24.42 ┆ data bowl 2021 │\n",
              "└──────────┴────────────┴────────┴──────┴───┴─────────┴───────┴───────┴────────────────┘"
            ],
            "text/html": [
              "<div><style>\n",
              ".dataframe > thead > tr,\n",
              ".dataframe > tbody > tr {\n",
              "  text-align: right;\n",
              "  white-space: pre-wrap;\n",
              "}\n",
              "</style>\n",
              "<small>shape: (5, 11)</small><table border=\"1\" class=\"dataframe\"><thead><tr><th>PlayType</th><th>gameId</th><th>playId</th><th>team</th><th>OffDef</th><th>nflId</th><th>position</th><th>frameId</th><th>x</th><th>y</th><th>data_source</th></tr><tr><td>str</td><td>i64</td><td>i64</td><td>str</td><td>str</td><td>i64</td><td>str</td><td>i64</td><td>f64</td><td>f64</td><td>str</td></tr></thead><tbody><tr><td>&quot;Passing&quot;</td><td>2018091612</td><td>260</td><td>&quot;NE&quot;</td><td>&quot;Defense&quot;</td><td>41269</td><td>&quot;OLB&quot;</td><td>1</td><td>60.93</td><td>24.55</td><td>&quot;data bowl 2021…</td></tr><tr><td>&quot;Passing&quot;</td><td>2018091612</td><td>260</td><td>&quot;NE&quot;</td><td>&quot;Defense&quot;</td><td>41269</td><td>&quot;OLB&quot;</td><td>7</td><td>60.65</td><td>24.61</td><td>&quot;data bowl 2021…</td></tr><tr><td>&quot;Passing&quot;</td><td>2018091612</td><td>260</td><td>&quot;NE&quot;</td><td>&quot;Defense&quot;</td><td>41269</td><td>&quot;OLB&quot;</td><td>9</td><td>60.58</td><td>24.6</td><td>&quot;data bowl 2021…</td></tr><tr><td>&quot;Passing&quot;</td><td>2018091612</td><td>260</td><td>&quot;NE&quot;</td><td>&quot;Defense&quot;</td><td>41269</td><td>&quot;OLB&quot;</td><td>11</td><td>60.53</td><td>24.57</td><td>&quot;data bowl 2021…</td></tr><tr><td>&quot;Passing&quot;</td><td>2018091612</td><td>260</td><td>&quot;NE&quot;</td><td>&quot;Defense&quot;</td><td>41269</td><td>&quot;OLB&quot;</td><td>15</td><td>60.4</td><td>24.42</td><td>&quot;data bowl 2021…</td></tr></tbody></table></div>"
            ]
          },
          "metadata": {},
          "execution_count": 9
        }
      ]
    },
    {
      "cell_type": "code",
      "source": [
        "dataset = (dataset.\n",
        "           with_columns(pl.when(pl.col(\"team\") == \"OAK\").\n",
        "                        then(pl.lit(\"LV\")).\n",
        "                        otherwise(pl.col(\"team\"))).\n",
        "           group_by('data_source', 'PlayType', 'gameId', 'playId', 'team', 'OffDef', 'nflId', 'position').\n",
        "           agg([pl.col(\"frameId\"), pl.col(\"x\"), pl.col(\"y\")]).\n",
        "           filter(pl.col(\"nflId\").is_not_null()).\n",
        "           join(\n",
        "              season_data.\n",
        "              select(\"old_game_id\", \"play_id\", \"posteam\").\n",
        "              unique().\n",
        "              with_columns([\n",
        "                  pl.col(\"old_game_id\").cast(pl.Int64).alias(\"gameId\"),\n",
        "                  pl.col(\"play_id\").cast(pl.Int64).alias(\"playId\")\n",
        "              ]).\n",
        "              drop(\"old_game_id\", \"play_id\"),\n",
        "              on = [\"gameId\", \"playId\"],\n",
        "              how = \"left\"\n",
        "           ).\n",
        "           with_columns(pl.when(pl.col(\"posteam\") == pl.col(\"team\")).\n",
        "                        then(pl.lit(\"Offense\")).\n",
        "                        otherwise(pl.lit(\"Defense\")).\n",
        "                        alias(\"new_team\")).\n",
        "           drop(\"OffDef\", \"posteam\").\n",
        "           rename({\"new_team\" : \"OffDef\"}).\n",
        "           join(season_data.\n",
        "                select(\"old_game_id\", \"play_id\", \"yardline_100\", \"qtr\", \"down\", \"play_type\", \"season_type\", \"season\").\n",
        "                with_columns([\n",
        "                    pl.col(\"old_game_id\").cast(pl.Int64).alias(\"gameId\"),\n",
        "                    pl.col(\"play_id\").cast(pl.Int64).alias(\"playId\")\n",
        "                    ]).\n",
        "                drop(\"old_game_id\", \"play_id\"),\n",
        "                on = [\"gameId\", \"playId\"],\n",
        "                how = \"left\").\n",
        "           drop(\"PlayType\").\n",
        "           rename({\"play_type\" : \"PlayType\"}).\n",
        "           with_columns(pl.col(\"frameId\").list.lengths().alias(\"NB_Frames\")).\n",
        "           select(\"data_source\", \"season_type\", \"season\", \"gameId\", \"qtr\", \"down\", \"yardline_100\", \"playId\", \"PlayType\", \"team\", \"OffDef\", \"nflId\", \"position\", \"frameId\", \"x\", \"y\").\n",
        "           unique(subset = [\"gameId\", \"playId\", \"nflId\"]))\n",
        "\n",
        "\n",
        "filter_NB_players = (dataset.\n",
        "                     select(\"gameId\", \"playId\", \"OffDef\", \"nflId\").\n",
        "                     unique().\n",
        "                     group_by(\"gameId\", \"playId\", \"OffDef\").\n",
        "                     count().\n",
        "                     rename({\"count\" : \"Nb_players\"}))\n",
        "\n",
        "dataset = (dataset.\n",
        "           join(filter_NB_players,\n",
        "                on = [\"gameId\", \"playId\", \"OffDef\"],\n",
        "                how = \"left\").\n",
        "           filter(pl.col(\"Nb_players\") > 1).\n",
        "           drop(\"Nb_players\"))"
      ],
      "metadata": {
        "id": "taBp7fN-09VB",
        "outputId": "9fd7571e-2fe5-42ee-d290-e930b91e53b6",
        "colab": {
          "base_uri": "https://localhost:8080/"
        }
      },
      "execution_count": 10,
      "outputs": [
        {
          "output_type": "stream",
          "name": "stderr",
          "text": [
            "<ipython-input-10-28fc45d07567>:37: DeprecationWarning: `lengths` is deprecated. It has been renamed to `len`.\n",
            "  with_columns(pl.col(\"frameId\").list.lengths().alias(\"NB_Frames\")).\n"
          ]
        }
      ]
    },
    {
      "cell_type": "code",
      "source": [
        "import gc\n",
        "_ = gc.collect()"
      ],
      "metadata": {
        "id": "UkzRswfD57Tn"
      },
      "execution_count": 11,
      "outputs": []
    },
    {
      "cell_type": "code",
      "source": [
        "uniques = (dataset.\n",
        "           select(\"gameId\", \"playId\", \"nflId\").\n",
        "           unique())\n",
        "\n",
        "dataset = (uniques.\n",
        "           join(dataset,\n",
        "                on = [\"gameId\", \"playId\", \"nflId\"]))"
      ],
      "metadata": {
        "id": "E1MydFnny-V7"
      },
      "execution_count": 12,
      "outputs": []
    },
    {
      "cell_type": "markdown",
      "source": [
        "## V1"
      ],
      "metadata": {
        "id": "hH5UOI2qyjGF"
      }
    },
    {
      "cell_type": "code",
      "source": [
        "specific_to_add = (dataset.\n",
        "                   select(\"data_source\", \"season\", \"gameId\", \"playId\", \"OffDef\", \"nflId\").\n",
        "                   group_by(\"data_source\", \"season\", \"gameId\", \"playId\", \"OffDef\").\n",
        "                   agg(pl.col(\"nflId\").cast(pl.Utf8).alias(\"players_scraped\")).\n",
        "                   join(\n",
        "                      season_data.\n",
        "                      with_columns(\n",
        "                          [\n",
        "                              pl.col(\"old_game_id\").cast(pl.Int64).alias(\"gameId\"),\n",
        "                              pl.col(\"play_id\").cast(pl.Int64).alias(\"playId\")\n",
        "                              ]).\n",
        "                      select(\"season\", \"gameId\", \"playId\", \"offense_players\", \"defense_players\").\n",
        "                      melt(id_vars = [\"season\", \"gameId\", \"playId\"],\n",
        "                           value_vars = [\"offense_players\", \"defense_players\"],\n",
        "                           variable_name = \"OffDef\",\n",
        "                           value_name = \"player_id\").\n",
        "                      with_columns(pl.when(pl.col(\"OffDef\") == \"offense_players\").\n",
        "                                   then(pl.lit(\"Offense\")).\n",
        "                                   otherwise(pl.lit(\"Defense\")).\n",
        "                                   alias(\"OffDef\")).\n",
        "                      with_columns(pl.col(\"player_id\").str.split(\";\")).\n",
        "                      explode(\"player_id\").\n",
        "                      join(\n",
        "                          rosters.\n",
        "                          select(\"player_id\", \"gsis_it_id\").\n",
        "                          unique().\n",
        "                          rename({\"gsis_it_id\" : \"nflId\"}),\n",
        "                          on = \"player_id\",\n",
        "                          how = \"left\"\n",
        "                      ).\n",
        "                      drop(\"player_id\").\n",
        "                      group_by(\"season\", \"gameId\", \"playId\", \"OffDef\").\n",
        "                      agg(pl.col(\"nflId\").alias(\"players_present\")),\n",
        "                      on = [\"season\", \"gameId\", \"playId\", \"OffDef\"],\n",
        "                      how = \"left\").\n",
        "                   with_columns(pl.col(\"players_present\").list.set_difference(\"players_scraped\").alias(\"difference\")).\n",
        "                   select(\"data_source\", \"season\", \"gameId\", \"playId\", \"OffDef\", \"difference\").\n",
        "                   explode(\"difference\").\n",
        "                   filter(pl.col(\"difference\") != \"\").\n",
        "                   rename({\"difference\" : \"nflId\"}).\n",
        "                   with_columns(pl.col(\"nflId\").cast(pl.Int64)).\n",
        "                   join(\n",
        "                      rosters.\n",
        "                      select(\"season\", \"gsis_it_id\", \"position\").\n",
        "                      with_columns([\n",
        "                          pl.col(\"season\").cast(pl.Int64).alias(\"season\"),\n",
        "                          pl.col(\"gsis_it_id\").cast(pl.Int64).alias(\"nflId\")\n",
        "                          ]).\n",
        "                      drop(\"gsis_it_id\").\n",
        "                      unique(subset=[\"season\", \"nflId\"]),\n",
        "                      on = [\"season\", \"nflId\"],\n",
        "                      how = \"left\").\n",
        "                   fill_null(\"UNKNOWN\").\n",
        "                   join(\n",
        "                      dataset.\n",
        "                      select(\"season\", \"gameId\", \"playId\", \"season_type\", \"team\", \"OffDef\", \"qtr\", \"down\", \"yardline_100\", \"PlayType\").\n",
        "                      unique(),\n",
        "                      on = [\"season\", \"gameId\", \"playId\", \"OffDef\"],\n",
        "                      how = \"left\").\n",
        "                   select('data_source', 'season_type', 'season', 'gameId', 'qtr', 'down', 'yardline_100', 'playId', 'PlayType', 'team', 'OffDef', 'nflId', 'position').\n",
        "                   with_columns([\n",
        "                      pl.lit(-1).cast(pl.Int64).alias(\"frameId\"),\n",
        "                      pl.lit(-1).cast(pl.Float64).alias(\"x\"),\n",
        "                      pl.lit(-1).cast(pl.Float64).alias(\"y\")\n",
        "                   ]).\n",
        "                   group_by('data_source', 'season_type', 'season', 'gameId', 'qtr', 'down', 'yardline_100', 'playId', 'PlayType', 'team', 'OffDef', 'nflId', 'position').\n",
        "                   agg([pl.col(\"frameId\"),\n",
        "                        pl.col(\"x\"),\n",
        "                        pl.col(\"y\")]).\n",
        "                   with_columns(pl.lit(-1).alias(\"Length\")))\n",
        "\n",
        "specific_to_keep = (dataset.\n",
        "                    select(\"data_source\", \"season\", \"gameId\", \"playId\", \"nflId\").\n",
        "                    group_by(\"data_source\", \"season\", \"gameId\", \"playId\").\n",
        "                    agg(pl.col(\"nflId\").cast(pl.Utf8).alias(\"players_scraped\")).\n",
        "                    join(\n",
        "                        season_data.\n",
        "                        with_columns(\n",
        "                            [\n",
        "                                pl.col(\"old_game_id\").cast(pl.Int64).alias(\"gameId\"),\n",
        "                                pl.col(\"play_id\").cast(pl.Int64).alias(\"playId\")\n",
        "                                ]).\n",
        "                        select(\"gameId\", \"playId\", \"players_on_play\").\n",
        "                        with_columns(pl.col(\"players_on_play\").str.split(\";\").alias(\"players_present\")),\n",
        "                        on = [\"gameId\", \"playId\"],\n",
        "                        how = \"left\").\n",
        "                    drop(\"players_on_play\").\n",
        "                    with_columns(pl.col(\"players_present\").list.set_intersection(\"players_scraped\").alias(\"kept\")).\n",
        "                    select(\"data_source\", \"season\", \"gameId\", \"playId\", \"kept\").\n",
        "                    explode(\"kept\").\n",
        "                    filter(pl.col(\"kept\") != \"\").\n",
        "                    rename({\"kept\" : \"nflId\"}).\n",
        "                    with_columns(pl.col(\"nflId\").cast(pl.Int64)).\n",
        "                    join(\n",
        "                        dataset,\n",
        "                        on = [\"season\", \"gameId\", \"playId\", \"nflId\"],\n",
        "                        how = \"left\").\n",
        "                    select('data_source', 'season_type', 'season', 'gameId', 'qtr', 'down', 'yardline_100', 'playId', 'PlayType', 'team', 'OffDef', 'nflId', 'position', 'frameId', 'x', 'y').\n",
        "                    with_columns(pl.col(\"frameId\").list.lengths().cast(pl.Int32).alias(\"Length\")))"
      ],
      "metadata": {
        "id": "bCgpO6hmmI1S",
        "outputId": "08b86967-5795-42ab-b627-419454a03d3a",
        "colab": {
          "base_uri": "https://localhost:8080/"
        }
      },
      "execution_count": 14,
      "outputs": [
        {
          "output_type": "stream",
          "name": "stderr",
          "text": [
            "<ipython-input-14-fc3e7a084d90>:99: DeprecationWarning: `lengths` is deprecated. It has been renamed to `len`.\n",
            "  with_columns(pl.col(\"frameId\").list.lengths().cast(pl.Int32).alias(\"Length\")))\n"
          ]
        }
      ]
    },
    {
      "cell_type": "code",
      "source": [
        "dataset = (pl.concat([specific_to_keep, specific_to_add]).\n",
        "           filter(pl.col(\"Length\") != -1))"
      ],
      "metadata": {
        "id": "vq0lxfxxUPT7"
      },
      "execution_count": 15,
      "outputs": []
    },
    {
      "cell_type": "code",
      "source": [
        "(dataset.\n",
        " select(\"gameId\", \"playId\", \"team\", \"OffDef\", \"nflId\").\n",
        " unique().\n",
        " shape)"
      ],
      "metadata": {
        "id": "Ek16J4PBOyOP",
        "colab": {
          "base_uri": "https://localhost:8080/"
        },
        "outputId": "65ed79ae-a0e2-49a5-ee29-d12f0b82f0fa"
      },
      "execution_count": null,
      "outputs": [
        {
          "output_type": "execute_result",
          "data": {
            "text/plain": [
              "(1170107, 5)"
            ]
          },
          "metadata": {},
          "execution_count": 13
        }
      ]
    },
    {
      "cell_type": "code",
      "source": [
        "(dataset.head())"
      ],
      "metadata": {
        "colab": {
          "base_uri": "https://localhost:8080/",
          "height": 255
        },
        "id": "yhrXHXB2ZPoH",
        "outputId": "ea6c6fa3-fff5-412c-cd6a-578168beb1c8"
      },
      "execution_count": 16,
      "outputs": [
        {
          "output_type": "execute_result",
          "data": {
            "text/plain": [
              "shape: (5, 17)\n",
              "┌────────────┬────────────┬────────┬────────────┬───┬────────────┬────────────┬───────────┬────────┐\n",
              "│ data_sourc ┆ season_typ ┆ season ┆ gameId     ┆ … ┆ frameId    ┆ x          ┆ y         ┆ Length │\n",
              "│ e          ┆ e          ┆ ---    ┆ ---        ┆   ┆ ---        ┆ ---        ┆ ---       ┆ ---    │\n",
              "│ ---        ┆ ---        ┆ i64    ┆ i64        ┆   ┆ list[i64]  ┆ list[f64]  ┆ list[f64] ┆ i32    │\n",
              "│ str        ┆ str        ┆        ┆            ┆   ┆            ┆            ┆           ┆        │\n",
              "╞════════════╪════════════╪════════╪════════════╪═══╪════════════╪════════════╪═══════════╪════════╡\n",
              "│ data bowl  ┆ REG        ┆ 2018   ┆ 2018091612 ┆ … ┆ [3, 5, …   ┆ [56.37,    ┆ [34.8,    ┆ 27     │\n",
              "│ 2021       ┆            ┆        ┆            ┆   ┆ 49]        ┆ 56.36, …   ┆ 34.8, …   ┆        │\n",
              "│            ┆            ┆        ┆            ┆   ┆            ┆ 64.63]     ┆ 35.3]     ┆        │\n",
              "│ data bowl  ┆ REG        ┆ 2018   ┆ 2018091612 ┆ … ┆ [1, 3, …   ┆ [58.87,    ┆ [9.94,    ┆ 27     │\n",
              "│ 2021       ┆            ┆        ┆            ┆   ┆ 53]        ┆ 58.89, …   ┆ 9.92, …   ┆        │\n",
              "│            ┆            ┆        ┆            ┆   ┆            ┆ 73.29]     ┆ -0.93]    ┆        │\n",
              "│ data bowl  ┆ REG        ┆ 2018   ┆ 2018091612 ┆ … ┆ [1, 7, …   ┆ [57.0,     ┆ [28.78,   ┆ 27     │\n",
              "│ 2021       ┆            ┆        ┆            ┆   ┆ 47]        ┆ 57.03, …   ┆ 28.79, …  ┆        │\n",
              "│            ┆            ┆        ┆            ┆   ┆            ┆ 62.08]     ┆ 23.41]    ┆        │\n",
              "│ data bowl  ┆ REG        ┆ 2018   ┆ 2018091612 ┆ … ┆ [5, 7, …   ┆ [58.71,    ┆ [21.3,    ┆ 27     │\n",
              "│ 2021       ┆            ┆        ┆            ┆   ┆ 53]        ┆ 58.71, …   ┆ 21.29, …  ┆        │\n",
              "│            ┆            ┆        ┆            ┆   ┆            ┆ 53.98]     ┆ 23.02]    ┆        │\n",
              "│ data bowl  ┆ REG        ┆ 2018   ┆ 2018091612 ┆ … ┆ [1, 3, …   ┆ [73.86,    ┆ [24.98,   ┆ 27     │\n",
              "│ 2021       ┆            ┆        ┆            ┆   ┆ 51]        ┆ 73.89, …   ┆ 24.97, …  ┆        │\n",
              "│            ┆            ┆        ┆            ┆   ┆            ┆ 79.74]     ┆ 14.4]     ┆        │\n",
              "└────────────┴────────────┴────────┴────────────┴───┴────────────┴────────────┴───────────┴────────┘"
            ],
            "text/html": [
              "<div><style>\n",
              ".dataframe > thead > tr,\n",
              ".dataframe > tbody > tr {\n",
              "  text-align: right;\n",
              "  white-space: pre-wrap;\n",
              "}\n",
              "</style>\n",
              "<small>shape: (5, 17)</small><table border=\"1\" class=\"dataframe\"><thead><tr><th>data_source</th><th>season_type</th><th>season</th><th>gameId</th><th>qtr</th><th>down</th><th>yardline_100</th><th>playId</th><th>PlayType</th><th>team</th><th>OffDef</th><th>nflId</th><th>position</th><th>frameId</th><th>x</th><th>y</th><th>Length</th></tr><tr><td>str</td><td>str</td><td>i64</td><td>i64</td><td>f32</td><td>f32</td><td>f32</td><td>i64</td><td>str</td><td>str</td><td>str</td><td>i64</td><td>str</td><td>list[i64]</td><td>list[f64]</td><td>list[f64]</td><td>i32</td></tr></thead><tbody><tr><td>&quot;data bowl 2021…</td><td>&quot;REG&quot;</td><td>2018</td><td>2018091612</td><td>1.0</td><td>2.0</td><td>52.0</td><td>260</td><td>&quot;pass&quot;</td><td>&quot;JAX&quot;</td><td>&quot;Offense&quot;</td><td>44923</td><td>&quot;WR&quot;</td><td>[3, 5, … 49]</td><td>[56.37, 56.36, … 64.63]</td><td>[34.8, 34.8, … 35.3]</td><td>27</td></tr><tr><td>&quot;data bowl 2021…</td><td>&quot;REG&quot;</td><td>2018</td><td>2018091612</td><td>1.0</td><td>2.0</td><td>52.0</td><td>260</td><td>&quot;pass&quot;</td><td>&quot;NE&quot;</td><td>&quot;Defense&quot;</td><td>38540</td><td>&quot;CB&quot;</td><td>[1, 3, … 53]</td><td>[58.87, 58.89, … 73.29]</td><td>[9.94, 9.92, … -0.93]</td><td>27</td></tr><tr><td>&quot;data bowl 2021…</td><td>&quot;REG&quot;</td><td>2018</td><td>2018091612</td><td>1.0</td><td>2.0</td><td>52.0</td><td>260</td><td>&quot;pass&quot;</td><td>&quot;JAX&quot;</td><td>&quot;Offense&quot;</td><td>41267</td><td>&quot;TE&quot;</td><td>[1, 7, … 47]</td><td>[57.0, 57.03, … 62.08]</td><td>[28.78, 28.79, … 23.41]</td><td>27</td></tr><tr><td>&quot;data bowl 2021…</td><td>&quot;REG&quot;</td><td>2018</td><td>2018091612</td><td>1.0</td><td>2.0</td><td>52.0</td><td>260</td><td>&quot;pass&quot;</td><td>&quot;NE&quot;</td><td>&quot;Defense&quot;</td><td>38555</td><td>&quot;MLB&quot;</td><td>[5, 7, … 53]</td><td>[58.71, 58.71, … 53.98]</td><td>[21.3, 21.29, … 23.02]</td><td>27</td></tr><tr><td>&quot;data bowl 2021…</td><td>&quot;REG&quot;</td><td>2018</td><td>2018091612</td><td>1.0</td><td>2.0</td><td>52.0</td><td>260</td><td>&quot;pass&quot;</td><td>&quot;NE&quot;</td><td>&quot;Defense&quot;</td><td>35466</td><td>&quot;FS&quot;</td><td>[1, 3, … 51]</td><td>[73.86, 73.89, … 79.74]</td><td>[24.98, 24.97, … 14.4]</td><td>27</td></tr></tbody></table></div>"
            ]
          },
          "metadata": {},
          "execution_count": 16
        }
      ]
    },
    {
      "cell_type": "code",
      "source": [
        "dataset.write_parquet(\"final_df_2024.parquet\")"
      ],
      "metadata": {
        "id": "AkjEhgm9nCGf"
      },
      "execution_count": 17,
      "outputs": []
    },
    {
      "cell_type": "code",
      "source": [],
      "metadata": {
        "id": "o4kcFvQ5Xj9F"
      },
      "execution_count": null,
      "outputs": []
    }
  ]
}