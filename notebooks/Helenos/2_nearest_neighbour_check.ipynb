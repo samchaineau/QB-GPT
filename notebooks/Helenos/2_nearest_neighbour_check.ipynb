{
 "cells": [
  {
   "cell_type": "code",
   "execution_count": 1,
   "metadata": {},
   "outputs": [],
   "source": [
    "import os\n",
    "import pandas as pd\n",
    "import tensorflow as tf\n",
    "import numpy as np\n",
    "import polars as pl\n",
    "\n",
    "env = \"local\""
   ]
  },
  {
   "cell_type": "code",
   "execution_count": 2,
   "metadata": {},
   "outputs": [],
   "source": [
    "if env == \"local\":\n",
    "    os.chdir(\"/Users/samuel/Documents/GitHub/QB-GPT/\")\n",
    "else:\n",
    "    from google.colab import drive\n",
    "    drive.mount('/content/gdrive')\n",
    "    os.chdir(\"/content/gdrive/MyDrive/NFL_Challenge/NFL-GPT/NFL data\")"
   ]
  },
  {
   "cell_type": "code",
   "execution_count": 3,
   "metadata": {},
   "outputs": [
    {
     "data": {
      "text/plain": [
       "['data_models',\n",
       " '.DS_Store',\n",
       " 'app',\n",
       " 'LICENSE',\n",
       " 'models',\n",
       " 'README.md',\n",
       " '.gitignore',\n",
       " '.gitattributes',\n",
       " 'indexv2',\n",
       " 'data_preprocessing',\n",
       " 'index',\n",
       " '.git',\n",
       " 'notebooks']"
      ]
     },
     "execution_count": 3,
     "metadata": {},
     "output_type": "execute_result"
    }
   ],
   "source": [
    "os.listdir()"
   ]
  },
  {
   "cell_type": "code",
   "execution_count": 4,
   "metadata": {},
   "outputs": [],
   "source": [
    "training_data = tf.data.Dataset.load(\"data_models/Helenos/encoded_train_tiny\")\n",
    "testing_data = tf.data.Dataset.load(\"data_models/Helenos/encoded_test_tiny\")"
   ]
  },
  {
   "cell_type": "code",
   "execution_count": 5,
   "metadata": {},
   "outputs": [],
   "source": [
    "train_encodings = list(training_data)\n",
    "\n",
    "sub_vectors_data = [{\"vector\" if k == \"sub_vector\" else k:v.numpy() for k,v in d.items()} for d in train_encodings]\n",
    "sub_vectors_data = [{k:v for k,v in d.items() if k != \"concatenated_vector\"} for d in sub_vectors_data]\n",
    "\n",
    "conc_vectors_data = [{\"vector\" if k == \"concatenated_vector\" else k:v.numpy() for k,v in d.items()} for d in train_encodings]\n",
    "conc_vectors_data = [{k:v for k,v in d.items() if k != \"sub_vector\"} for d in conc_vectors_data]"
   ]
  },
  {
   "cell_type": "code",
   "execution_count": 6,
   "metadata": {},
   "outputs": [
    {
     "data": {
      "text/plain": [
       "144074"
      ]
     },
     "execution_count": 6,
     "metadata": {},
     "output_type": "execute_result"
    }
   ],
   "source": [
    "len(sub_vectors_data)"
   ]
  },
  {
   "cell_type": "code",
   "execution_count": 7,
   "metadata": {},
   "outputs": [],
   "source": [
    "test_encodings = list(testing_data)\n",
    "\n",
    "query_vectors = [{k:v.numpy() for k,v in d.items()} for d in test_encodings]"
   ]
  },
  {
   "cell_type": "code",
   "execution_count": 8,
   "metadata": {},
   "outputs": [],
   "source": [
    "import lancedb\n",
    "db = lancedb.connect(\"data_models/Helenos/lance_helenos\")"
   ]
  },
  {
   "cell_type": "code",
   "execution_count": 9,
   "metadata": {},
   "outputs": [
    {
     "name": "stderr",
     "output_type": "stream",
     "text": [
      "[2023-11-06T13:40:24Z WARN  lance::dataset] No existing dataset at /Users/samuel/Documents/GitHub/QB-GPT/data_models/Helenos/lance_helenos/subtracted_vectors.lance, it will be created\n",
      "[2023-11-06T13:40:25Z WARN  lance::dataset] No existing dataset at /Users/samuel/Documents/GitHub/QB-GPT/data_models/Helenos/lance_helenos/concatenated_vectors.lance, it will be created\n"
     ]
    }
   ],
   "source": [
    "sub_tbl = db.create_table(\"subtracted_vectors\", sub_vectors_data, mode=\"overwrite\")\n",
    "conc_tbl = db.create_table(\"concatenated_vectors\", conc_vectors_data, mode=\"overwrite\")"
   ]
  },
  {
   "cell_type": "code",
   "execution_count": 10,
   "metadata": {},
   "outputs": [],
   "source": [
    "def get_neighbors(query,\n",
    "                  table,\n",
    "                  n_select,\n",
    "                  metric, \n",
    "                  playtype):\n",
    "    res = (table.\n",
    "           search(query).\n",
    "           where(f\"\"\"\n",
    "                  playtype == {playtype}\n",
    "                  \"\"\").\n",
    "           metric(metric).\n",
    "           limit(n_select).\n",
    "           to_pandas())\n",
    "    \n",
    "    res = res[[c for c in res.columns if c not in [\"id\", \"vector\"]]].drop_duplicates().reset_index(drop = True)\n",
    "    return res"
   ]
  },
  {
   "cell_type": "code",
   "execution_count": 11,
   "metadata": {},
   "outputs": [],
   "source": [
    "test_l2 = get_neighbors(query_vectors[456][\"sub_vector\"], sub_tbl, 4000, \"l2\", query_vectors[0][\"playtype\"])\n",
    "test_cos = get_neighbors(query_vectors[456][\"sub_vector\"], sub_tbl, 4000, \"cosine\", query_vectors[0][\"playtype\"])"
   ]
  },
  {
   "cell_type": "code",
   "execution_count": 12,
   "metadata": {},
   "outputs": [
    {
     "data": {
      "text/plain": [
       "(2406, 6)"
      ]
     },
     "execution_count": 12,
     "metadata": {},
     "output_type": "execute_result"
    }
   ],
   "source": [
    "test_cos.shape"
   ]
  },
  {
   "cell_type": "code",
   "execution_count": 13,
   "metadata": {},
   "outputs": [
    {
     "data": {
      "text/plain": [
       "<Axes: xlabel='index', ylabel='_distance'>"
      ]
     },
     "execution_count": 13,
     "metadata": {},
     "output_type": "execute_result"
    },
    {
     "data": {
      "image/png": "[encoded data removed]",
      "text/plain": [
       "<Figure size 640x480 with 1 Axes>"
      ]
     },
     "metadata": {},
     "output_type": "display_data"
    }
   ],
   "source": [
    "import seaborn as sns\n",
    "\n",
    "sns.lineplot(test_cos.reset_index(), x = \"index\", y=\"_distance\")"
   ]
  },
  {
   "cell_type": "code",
   "execution_count": 14,
   "metadata": {},
   "outputs": [
    {
     "data": {
      "text/plain": [
       "<Axes: xlabel='index', ylabel='_distance'>"
      ]
     },
     "execution_count": 14,
     "metadata": {},
     "output_type": "execute_result"
    },
    {
     "data": {
      "image/png": "[encoded data removed]",
      "text/plain": [
       "<Figure size 640x480 with 1 Axes>"
      ]
     },
     "metadata": {},
     "output_type": "display_data"
    }
   ],
   "source": [
    "sns.lineplot(test_l2.reset_index(), x = \"index\", y=\"_distance\")"
   ]
  },
  {
   "cell_type": "code",
   "execution_count": 15,
   "metadata": {},
   "outputs": [],
   "source": [
    "from scipy.stats import exponnorm\n",
    "\n",
    "def compute_mean(df, var):\n",
    "    return np.mean(df[var])\n",
    "\n",
    "def compute_median(df, var):\n",
    "    return np.median(df[var])\n",
    "\n",
    "def compute_std(df, var):\n",
    "    return np.std(df[var])\n",
    "\n",
    "def compute_weighted_mean(df, var):\n",
    "    return sum((1/df[\"_distance\"]) * df[var])/sum(1/df[\"_distance\"])\n",
    "\n",
    "def get_exponnorm(df, var):\n",
    "    parameters = exponnorm.fit(df[var])\n",
    "    return {\"a\" : parameters[0],\n",
    "            \"mean\" : parameters[1],\n",
    "            \"scale\" : parameters[2]}\n",
    "    \n",
    "def process_df(df, cutoff, n_select, metric, true_yard, true_success, procedure):\n",
    "    spe = df.copy()\n",
    "    if n_select is not None:\n",
    "        spe = spe.head(n_select)\n",
    "        \n",
    "    if cutoff is not None:\n",
    "        spe.loc[spe['yards'] > cutoff, 'yards'] = cutoff\n",
    "        \n",
    "    parameters = get_exponnorm(spe, \"yards\")\n",
    "    \n",
    "    return {\"Procedure\": procedure,\n",
    "            \"PlayType\" : np.unique(spe[\"playtype\"])[0],\n",
    "            \"Metric\" : metric, \n",
    "            \"Cutoff\" : cutoff,\n",
    "            \"n_selected\" : n_select,\n",
    "            \"True_Yards\" : true_yard,\n",
    "            \"True_success\" : true_success,\n",
    "            \"Avg_yards\" : compute_mean(spe, \"yards\"),\n",
    "            \"Weighted_Avg_yards\" : compute_weighted_mean(spe, \"yards\"),\n",
    "            \"Median_yards\" : compute_median(spe, \"yards\"),\n",
    "            \"Std_yards\" : compute_std(spe, \"yards\"),\n",
    "            \"Avg_success\" : compute_mean(spe, \"Success\"),\n",
    "            \"Weighted_Avg_success\" : compute_mean(spe, \"Success\"),\n",
    "            \"Mean\" : parameters[\"mean\"],\n",
    "            \"Scale\" : parameters[\"scale\"],\n",
    "            \"Rate\" : parameters[\"a\"]}\n",
    "\n",
    "def compile_l_of_d(list_of_d):\n",
    "    merged_dict = {k : [] for k in list_of_d[0].keys()}\n",
    "    for d in list_of_d:\n",
    "        for key, value in d.items():\n",
    "            merged_dict[key] += [value]\n",
    "    merged_dict = {k: np.array(v) for k,v in merged_dict.items()}\n",
    "    return merged_dict\n",
    "\n",
    "def process_query(query, metric, table, n_selects, cutoffs, playtype, true_yards, true_success, procedure):\n",
    "    n = 2000\n",
    "    results = []\n",
    "    \n",
    "    res = get_neighbors(query, table, n, metric, playtype)\n",
    "    \n",
    "    for to_select in n_selects:\n",
    "        for cutoff in cutoffs:\n",
    "            processed = process_df(res, cutoff, to_select, metric, true_yards, true_success, procedure)\n",
    "            results.append(processed)\n",
    "    return compile_l_of_d(results)"
   ]
  },
  {
   "cell_type": "code",
   "execution_count": 17,
   "metadata": {},
   "outputs": [],
   "source": [
    "from concurrent.futures import ThreadPoolExecutor\n",
    "import concurrent\n",
    "from tqdm import tqdm\n",
    "\n",
    "# Define a function that processes a batch\n",
    "def process_batch_with_progress(query):\n",
    "    cos_sub = process_query(query=query[\"sub_vector\"], \n",
    "                            metric=\"cosine\", \n",
    "                            table=sub_tbl, \n",
    "                            n_selects=[5, 10, 300, 400, 500, 600], \n",
    "                            cutoffs= [10, 15, 20], \n",
    "                            playtype = query[\"playtype\"], \n",
    "                            true_yards= query[\"yards\"], \n",
    "                            true_success=query[\"Success\"], \n",
    "                            procedure=\"Subtracted\")\n",
    "    \n",
    "    cos_conc = process_query(query=query[\"concatenated_vector\"], \n",
    "                            metric=\"cosine\", \n",
    "                            table=conc_tbl, \n",
    "                            n_selects=[5, 10, 300, 400, 500, 600], \n",
    "                            cutoffs= [10, 15, 20], \n",
    "                            playtype = query[\"playtype\"], \n",
    "                            true_yards= query[\"yards\"], \n",
    "                            true_success=query[\"Success\"], \n",
    "                            procedure=\"Concatenated\")\n",
    "    \n",
    "    l2_sub = process_query(query=query[\"sub_vector\"], \n",
    "                            metric=\"L2\", \n",
    "                            table=sub_tbl, \n",
    "                            n_selects=[5, 10, 300, 400, 500, 600], \n",
    "                            cutoffs= [10, 15, 20], \n",
    "                            playtype = query[\"playtype\"], \n",
    "                            true_yards= query[\"yards\"], \n",
    "                            true_success=query[\"Success\"], \n",
    "                            procedure=\"Subtracted\")\n",
    "    \n",
    "    l2_conc =process_query(query=query[\"concatenated_vector\"], \n",
    "                            metric=\"L2\", \n",
    "                            table=conc_tbl, \n",
    "                            n_selects=[5, 10, 300, 400, 500, 600], \n",
    "                            cutoffs= [10, 15, 20], \n",
    "                            playtype = query[\"playtype\"], \n",
    "                            true_yards= query[\"yards\"], \n",
    "                            true_success=query[\"Success\"], \n",
    "                            procedure=\"Concatenated\")\n",
    "    \n",
    "    pbar.update(1)  # Update the progress bar for each completed batch\n",
    "    return [cos_sub, cos_conc, l2_sub, l2_conc]"
   ]
  },
  {
   "cell_type": "code",
   "execution_count": 19,
   "metadata": {},
   "outputs": [
    {
     "name": "stderr",
     "output_type": "stream",
     "text": [
      "  0%|          | 0/1000 [00:00<?, ?it/s]"
     ]
    },
    {
     "name": "stderr",
     "output_type": "stream",
     "text": [
      "100%|██████████| 1000/1000 [09:31<00:00,  1.75it/s]\n"
     ]
    }
   ],
   "source": [
    "import random\n",
    "random.shuffle(query_vectors)\n",
    "\n",
    "test = query_vectors[:1000]\n",
    "\n",
    "res = []\n",
    "\n",
    "with tqdm(total=len(test)) as pbar:\n",
    "  for query in test:\n",
    "    res.append(process_batch_with_progress(query))"
   ]
  },
  {
   "cell_type": "code",
   "execution_count": 20,
   "metadata": {},
   "outputs": [],
   "source": [
    "results = pd.concat([pd.concat([pd.DataFrame(s) for s in d]) for d in res]).reset_index(drop = True)"
   ]
  },
  {
   "cell_type": "code",
   "execution_count": 28,
   "metadata": {},
   "outputs": [],
   "source": [
    "results.to_json(\"models/modeling/Helenos/results_knn.json\")"
   ]
  },
  {
   "cell_type": "code",
   "execution_count": 21,
   "metadata": {},
   "outputs": [],
   "source": [
    "test = results[(results[\"Procedure\"] == \"Concatenated\") & (results[\"PlayType\"] == 4) & (results[\"Metric\"] == \"L2\") & (results[\"Cutoff\"] == 20) & (results[\"n_selected\"] == 400) & (results[\"True_Yards\"] != 0)]"
   ]
  },
  {
   "cell_type": "code",
   "execution_count": 22,
   "metadata": {},
   "outputs": [
    {
     "data": {
      "image/png": "[encoded data removed]",
      "text/plain": [
       "<Figure size 800x800 with 1 Axes>"
      ]
     },
     "metadata": {},
     "output_type": "display_data"
    }
   ],
   "source": [
    "import numpy as np\n",
    "import matplotlib.pyplot as plt\n",
    "from scipy import stats\n",
    "\n",
    "theoretical_quantiles = stats.exponnorm.ppf(np.linspace(0.01, 0.99, 100), 3, 2, 2.8)\n",
    "inputt = np.array(test[\"True_Yards\"])\n",
    "inputt.sort()\n",
    "\n",
    "sample_quantiles = np.percentile(inputt, np.linspace(1, 99, 100))\n",
    "\n",
    "plt.figure(figsize=(8, 8))\n",
    "plt.scatter(theoretical_quantiles, sample_quantiles)\n",
    "plt.plot([theoretical_quantiles.min(), theoretical_quantiles.max()], [theoretical_quantiles.min(), theoretical_quantiles.max()], color='red', linestyle='--')\n",
    "plt.xlabel('Theoretical Quantiles')\n",
    "plt.ylabel('Sample Quantiles')\n",
    "plt.title('QQ Plot')\n",
    "plt.grid(True)\n",
    "plt.show()"
   ]
  },
  {
   "cell_type": "code",
   "execution_count": 23,
   "metadata": {},
   "outputs": [],
   "source": [
    "from sklearn.metrics import roc_auc_score\n",
    "\n",
    "def calculate_auc(data, var):\n",
    "    y_true = data['True_success']\n",
    "    y_pred = data[var]\n",
    "    auc = roc_auc_score(y_true, y_pred)\n",
    "    return auc\n",
    "\n",
    "from sklearn.metrics import accuracy_score\n",
    "\n",
    "def calculate_accuracy(data, var):\n",
    "    y_true = data['True_success']\n",
    "    y_pred = round(data[var])\n",
    "    accuracy = accuracy_score(y_true, y_pred)\n",
    "    return accuracy\n",
    "\n",
    "import numpy as np\n",
    "\n",
    "def calculate_rmse(data, var):\n",
    "    spe_data = data[data[\"True_success\"] == 1].reset_index(drop = True)\n",
    "    y_true = spe_data['True_yard']\n",
    "    y_pred = spe_data[var]\n",
    "    rmse = np.sqrt(((y_pred - y_true) ** 2).mean())\n",
    "    return rmse\n",
    "\n",
    "def calculate_rmse_trunc(data, var, trunc):\n",
    "    spe_data = data[data[\"True_success\"] == 1].reset_index(drop = True)\n",
    "    spe_data = spe_data[spe_data[\"True_yard\"] < trunc].reset_index(drop = True)\n",
    "    y_true = spe_data['True_yard']\n",
    "    y_pred = spe_data[var]\n",
    "    rmse = np.sqrt(((y_pred - y_true) ** 2).mean())\n",
    "    return rmse\n",
    "\n",
    "def eval_df(df, n_neighboors, var):\n",
    "    spec_df = df[df[\"N_neighboors\"] == n_neighboors].reset_index(drop = True)\n",
    "    \n",
    "    weight_rmse = calculate_rmse(spec_df, \"Pred_yard_weighted\")\n",
    "    mean_rmse = calculate_rmse(spec_df, \"Pred_yard_mean\")\n",
    "    \n",
    "    trunc_50_weight_rmse = calculate_rmse_trunc(spec_df, \"Pred_yard_weighted\", 51)\n",
    "    trunc_50_mean_rmse = calculate_rmse_trunc(spec_df, \"Pred_yard_mean\", 51)\n",
    "    \n",
    "    trunc_30_weight_rmse = calculate_rmse_trunc(spec_df, \"Pred_yard_weighted\", 31)\n",
    "    trunc_30_mean_rmse = calculate_rmse_trunc(spec_df, \"Pred_yard_mean\", 31)\n",
    "    \n",
    "    weight_acc = calculate_accuracy(spec_df, \"Pred_success_weighted\")\n",
    "    mean_acc = calculate_accuracy(spec_df, \"Pred_success_mean\")\n",
    "    \n",
    "    weight_auc = calculate_auc(spec_df, \"Pred_success_weighted\")\n",
    "    mean_auc = calculate_auc(spec_df, \"Pred_success_mean\")\n",
    "    \n",
    "    return {\"Procedure\" : var,\n",
    "            \"N_neighboor\" : n_neighboors,\n",
    "            \"weight_rmse\" : weight_rmse,\n",
    "            \"mean_rmse\" : mean_rmse,\n",
    "            \"trunc_50_weight_rmse\" : trunc_50_weight_rmse,\n",
    "            \"trunc_50_mean_rmse\" : trunc_50_mean_rmse,\n",
    "            \"trunc_30_weight_rmse\" : trunc_30_weight_rmse,\n",
    "            \"trunc_30_mean_rmse\" : trunc_30_mean_rmse,\n",
    "            \"weight_acc\" : weight_acc,\n",
    "            \"mean_acc\" : mean_acc,\n",
    "            \"weight_auc\" : weight_auc,\n",
    "            \"mean_auc\" : mean_auc}\n",
    "    \n",
    "from tqdm import tqdm\n",
    "\n",
    "def compile_seq(list_of_trajs):\n",
    "    merged_dict = {k : [] for k in list_of_trajs[0].keys()}\n",
    "\n",
    "    with tqdm(total=len(list_of_trajs)) as pbar:\n",
    "      for d in list_of_trajs:\n",
    "        for key, value in d.items():\n",
    "          merged_dict[key] += [value]\n",
    "        pbar.update(1)\n",
    "        \n",
    "    merged_dict = {k: np.array(v) for k,v in merged_dict.items()}\n",
    "    return merged_dict"
   ]
  },
  {
   "cell_type": "code",
   "execution_count": 24,
   "metadata": {},
   "outputs": [],
   "source": [
    "from scipy.stats import exponnorm, norm\n",
    "\n",
    "def one_hot(arr, length):\n",
    "    b = np.zeros((arr.size, length))\n",
    "    b[np.arange(arr.size), arr] = 1\n",
    "    return b\n",
    "\n",
    "def generate_preds(mean, scale, start, end):\n",
    "    return [norm.cdf(n+0.5, mean, scale)-norm.cdf(n-0.5, mean, scale) for n in range(start, end+1, 1)]\n",
    "\n",
    "def get_pred_proba(params, start, end):\n",
    "    preds = np.array([generate_preds(param[0], param[1], start, end) for param in params])\n",
    "    return preds"
   ]
  },
  {
   "cell_type": "code",
   "execution_count": 29,
   "metadata": {},
   "outputs": [],
   "source": [
    "size = 300"
   ]
  },
  {
   "cell_type": "code",
   "execution_count": 30,
   "metadata": {},
   "outputs": [],
   "source": [
    "test = results[(results[\"Procedure\"] == \"Subtracted\") & (results[\"PlayType\"] == 4) & (results[\"Metric\"] == \"cosine\") & (results[\"Cutoff\"] == 20) & (results[\"n_selected\"] == size)]\n",
    "test = test[test[\"True_Yards\"] != 0]\n",
    "test.loc[test['True_Yards'] > 20, 'True_Yards'] = 20"
   ]
  },
  {
   "cell_type": "code",
   "execution_count": 31,
   "metadata": {},
   "outputs": [
    {
     "data": {
      "text/html": [
       "<div>\n",
       "<style scoped>\n",
       "    .dataframe tbody tr th:only-of-type {\n",
       "        vertical-align: middle;\n",
       "    }\n",
       "\n",
       "    .dataframe tbody tr th {\n",
       "        vertical-align: top;\n",
       "    }\n",
       "\n",
       "    .dataframe thead th {\n",
       "        text-align: right;\n",
       "    }\n",
       "</style>\n",
       "<table border=\"1\" class=\"dataframe\">\n",
       "  <thead>\n",
       "    <tr style=\"text-align: right;\">\n",
       "      <th></th>\n",
       "      <th>Procedure</th>\n",
       "      <th>PlayType</th>\n",
       "      <th>Metric</th>\n",
       "      <th>Cutoff</th>\n",
       "      <th>n_selected</th>\n",
       "      <th>True_Yards</th>\n",
       "      <th>True_success</th>\n",
       "      <th>Avg_yards</th>\n",
       "      <th>Weighted_Avg_yards</th>\n",
       "      <th>Median_yards</th>\n",
       "      <th>Std_yards</th>\n",
       "      <th>Avg_success</th>\n",
       "      <th>Weighted_Avg_success</th>\n",
       "      <th>Mean</th>\n",
       "      <th>Scale</th>\n",
       "      <th>Rate</th>\n",
       "    </tr>\n",
       "  </thead>\n",
       "  <tbody>\n",
       "    <tr>\n",
       "      <th>8</th>\n",
       "      <td>Subtracted</td>\n",
       "      <td>4</td>\n",
       "      <td>cosine</td>\n",
       "      <td>20</td>\n",
       "      <td>300</td>\n",
       "      <td>18</td>\n",
       "      <td>1</td>\n",
       "      <td>5.650000</td>\n",
       "      <td>5.585249</td>\n",
       "      <td>4.0</td>\n",
       "      <td>6.970473</td>\n",
       "      <td>0.643333</td>\n",
       "      <td>0.643333</td>\n",
       "      <td>-1.484356</td>\n",
       "      <td>3.016143</td>\n",
       "      <td>2.365407</td>\n",
       "    </tr>\n",
       "    <tr>\n",
       "      <th>80</th>\n",
       "      <td>Subtracted</td>\n",
       "      <td>4</td>\n",
       "      <td>cosine</td>\n",
       "      <td>20</td>\n",
       "      <td>300</td>\n",
       "      <td>10</td>\n",
       "      <td>1</td>\n",
       "      <td>4.810000</td>\n",
       "      <td>4.872191</td>\n",
       "      <td>2.5</td>\n",
       "      <td>7.683352</td>\n",
       "      <td>0.640000</td>\n",
       "      <td>0.640000</td>\n",
       "      <td>-1.861222</td>\n",
       "      <td>4.543051</td>\n",
       "      <td>1.468441</td>\n",
       "    </tr>\n",
       "    <tr>\n",
       "      <th>440</th>\n",
       "      <td>Subtracted</td>\n",
       "      <td>4</td>\n",
       "      <td>cosine</td>\n",
       "      <td>20</td>\n",
       "      <td>300</td>\n",
       "      <td>8</td>\n",
       "      <td>1</td>\n",
       "      <td>5.516667</td>\n",
       "      <td>NaN</td>\n",
       "      <td>4.0</td>\n",
       "      <td>7.004978</td>\n",
       "      <td>0.690000</td>\n",
       "      <td>0.690000</td>\n",
       "      <td>0.190006</td>\n",
       "      <td>4.920084</td>\n",
       "      <td>1.082637</td>\n",
       "    </tr>\n",
       "    <tr>\n",
       "      <th>584</th>\n",
       "      <td>Subtracted</td>\n",
       "      <td>4</td>\n",
       "      <td>cosine</td>\n",
       "      <td>20</td>\n",
       "      <td>300</td>\n",
       "      <td>8</td>\n",
       "      <td>1</td>\n",
       "      <td>5.763333</td>\n",
       "      <td>5.601882</td>\n",
       "      <td>5.0</td>\n",
       "      <td>8.002957</td>\n",
       "      <td>0.680000</td>\n",
       "      <td>0.680000</td>\n",
       "      <td>3.379618</td>\n",
       "      <td>7.643133</td>\n",
       "      <td>0.311876</td>\n",
       "    </tr>\n",
       "    <tr>\n",
       "      <th>656</th>\n",
       "      <td>Subtracted</td>\n",
       "      <td>4</td>\n",
       "      <td>cosine</td>\n",
       "      <td>20</td>\n",
       "      <td>300</td>\n",
       "      <td>20</td>\n",
       "      <td>1</td>\n",
       "      <td>6.386667</td>\n",
       "      <td>6.124257</td>\n",
       "      <td>6.0</td>\n",
       "      <td>7.764266</td>\n",
       "      <td>0.693333</td>\n",
       "      <td>0.693333</td>\n",
       "      <td>3.825913</td>\n",
       "      <td>7.336365</td>\n",
       "      <td>0.349047</td>\n",
       "    </tr>\n",
       "    <tr>\n",
       "      <th>...</th>\n",
       "      <td>...</td>\n",
       "      <td>...</td>\n",
       "      <td>...</td>\n",
       "      <td>...</td>\n",
       "      <td>...</td>\n",
       "      <td>...</td>\n",
       "      <td>...</td>\n",
       "      <td>...</td>\n",
       "      <td>...</td>\n",
       "      <td>...</td>\n",
       "      <td>...</td>\n",
       "      <td>...</td>\n",
       "      <td>...</td>\n",
       "      <td>...</td>\n",
       "      <td>...</td>\n",
       "      <td>...</td>\n",
       "    </tr>\n",
       "    <tr>\n",
       "      <th>71360</th>\n",
       "      <td>Subtracted</td>\n",
       "      <td>4</td>\n",
       "      <td>cosine</td>\n",
       "      <td>20</td>\n",
       "      <td>300</td>\n",
       "      <td>3</td>\n",
       "      <td>1</td>\n",
       "      <td>5.463333</td>\n",
       "      <td>5.569766</td>\n",
       "      <td>3.5</td>\n",
       "      <td>7.231090</td>\n",
       "      <td>0.663333</td>\n",
       "      <td>0.663333</td>\n",
       "      <td>-1.878926</td>\n",
       "      <td>3.062141</td>\n",
       "      <td>2.397747</td>\n",
       "    </tr>\n",
       "    <tr>\n",
       "      <th>71504</th>\n",
       "      <td>Subtracted</td>\n",
       "      <td>4</td>\n",
       "      <td>cosine</td>\n",
       "      <td>20</td>\n",
       "      <td>300</td>\n",
       "      <td>9</td>\n",
       "      <td>1</td>\n",
       "      <td>5.970000</td>\n",
       "      <td>6.236299</td>\n",
       "      <td>5.0</td>\n",
       "      <td>7.136930</td>\n",
       "      <td>0.700000</td>\n",
       "      <td>0.700000</td>\n",
       "      <td>-0.538417</td>\n",
       "      <td>4.001575</td>\n",
       "      <td>1.626467</td>\n",
       "    </tr>\n",
       "    <tr>\n",
       "      <th>71720</th>\n",
       "      <td>Subtracted</td>\n",
       "      <td>4</td>\n",
       "      <td>cosine</td>\n",
       "      <td>20</td>\n",
       "      <td>300</td>\n",
       "      <td>5</td>\n",
       "      <td>1</td>\n",
       "      <td>5.343333</td>\n",
       "      <td>4.922769</td>\n",
       "      <td>4.0</td>\n",
       "      <td>7.298775</td>\n",
       "      <td>0.666667</td>\n",
       "      <td>0.666667</td>\n",
       "      <td>-1.011780</td>\n",
       "      <td>4.359204</td>\n",
       "      <td>1.457854</td>\n",
       "    </tr>\n",
       "    <tr>\n",
       "      <th>71792</th>\n",
       "      <td>Subtracted</td>\n",
       "      <td>4</td>\n",
       "      <td>cosine</td>\n",
       "      <td>20</td>\n",
       "      <td>300</td>\n",
       "      <td>20</td>\n",
       "      <td>1</td>\n",
       "      <td>5.516667</td>\n",
       "      <td>16.791320</td>\n",
       "      <td>4.0</td>\n",
       "      <td>7.921051</td>\n",
       "      <td>0.643333</td>\n",
       "      <td>0.643333</td>\n",
       "      <td>-1.730953</td>\n",
       "      <td>4.422972</td>\n",
       "      <td>1.638629</td>\n",
       "    </tr>\n",
       "    <tr>\n",
       "      <th>71864</th>\n",
       "      <td>Subtracted</td>\n",
       "      <td>4</td>\n",
       "      <td>cosine</td>\n",
       "      <td>20</td>\n",
       "      <td>300</td>\n",
       "      <td>10</td>\n",
       "      <td>1</td>\n",
       "      <td>5.526667</td>\n",
       "      <td>5.466811</td>\n",
       "      <td>4.5</td>\n",
       "      <td>6.818794</td>\n",
       "      <td>0.640000</td>\n",
       "      <td>0.640000</td>\n",
       "      <td>-0.922909</td>\n",
       "      <td>3.512684</td>\n",
       "      <td>1.836077</td>\n",
       "    </tr>\n",
       "  </tbody>\n",
       "</table>\n",
       "<p>391 rows × 16 columns</p>\n",
       "</div>"
      ],
      "text/plain": [
       "        Procedure  PlayType  Metric  Cutoff  n_selected  True_Yards  \\\n",
       "8      Subtracted         4  cosine      20         300          18   \n",
       "80     Subtracted         4  cosine      20         300          10   \n",
       "440    Subtracted         4  cosine      20         300           8   \n",
       "584    Subtracted         4  cosine      20         300           8   \n",
       "656    Subtracted         4  cosine      20         300          20   \n",
       "...           ...       ...     ...     ...         ...         ...   \n",
       "71360  Subtracted         4  cosine      20         300           3   \n",
       "71504  Subtracted         4  cosine      20         300           9   \n",
       "71720  Subtracted         4  cosine      20         300           5   \n",
       "71792  Subtracted         4  cosine      20         300          20   \n",
       "71864  Subtracted         4  cosine      20         300          10   \n",
       "\n",
       "       True_success  Avg_yards  Weighted_Avg_yards  Median_yards  Std_yards  \\\n",
       "8                 1   5.650000            5.585249           4.0   6.970473   \n",
       "80                1   4.810000            4.872191           2.5   7.683352   \n",
       "440               1   5.516667                 NaN           4.0   7.004978   \n",
       "584               1   5.763333            5.601882           5.0   8.002957   \n",
       "656               1   6.386667            6.124257           6.0   7.764266   \n",
       "...             ...        ...                 ...           ...        ...   \n",
       "71360             1   5.463333            5.569766           3.5   7.231090   \n",
       "71504             1   5.970000            6.236299           5.0   7.136930   \n",
       "71720             1   5.343333            4.922769           4.0   7.298775   \n",
       "71792             1   5.516667           16.791320           4.0   7.921051   \n",
       "71864             1   5.526667            5.466811           4.5   6.818794   \n",
       "\n",
       "       Avg_success  Weighted_Avg_success      Mean     Scale      Rate  \n",
       "8         0.643333              0.643333 -1.484356  3.016143  2.365407  \n",
       "80        0.640000              0.640000 -1.861222  4.543051  1.468441  \n",
       "440       0.690000              0.690000  0.190006  4.920084  1.082637  \n",
       "584       0.680000              0.680000  3.379618  7.643133  0.311876  \n",
       "656       0.693333              0.693333  3.825913  7.336365  0.349047  \n",
       "...            ...                   ...       ...       ...       ...  \n",
       "71360     0.663333              0.663333 -1.878926  3.062141  2.397747  \n",
       "71504     0.700000              0.700000 -0.538417  4.001575  1.626467  \n",
       "71720     0.666667              0.666667 -1.011780  4.359204  1.457854  \n",
       "71792     0.643333              0.643333 -1.730953  4.422972  1.638629  \n",
       "71864     0.640000              0.640000 -0.922909  3.512684  1.836077  \n",
       "\n",
       "[391 rows x 16 columns]"
      ]
     },
     "execution_count": 31,
     "metadata": {},
     "output_type": "execute_result"
    }
   ],
   "source": [
    "test"
   ]
  },
  {
   "cell_type": "code",
   "execution_count": 32,
   "metadata": {},
   "outputs": [
    {
     "data": {
      "text/plain": [
       "(391, 199)"
      ]
     },
     "execution_count": 32,
     "metadata": {},
     "output_type": "execute_result"
    }
   ],
   "source": [
    "Y_pred = get_pred_proba(test[[\"Avg_yards\", \"Std_yards\"]].values, -99, 99)\n",
    "Y_pred.shape"
   ]
  },
  {
   "cell_type": "code",
   "execution_count": 33,
   "metadata": {},
   "outputs": [],
   "source": [
    "check = np.array([v[0] if np.isnan(v[0]) == False else v[1] for v in test[[\"Weighted_Avg_yards\", \"Avg_yards\"]].values])"
   ]
  },
  {
   "cell_type": "code",
   "execution_count": 34,
   "metadata": {},
   "outputs": [],
   "source": [
    "Y_pred = one_hot(check.round().astype(\"int32\"), 199)"
   ]
  },
  {
   "cell_type": "code",
   "execution_count": 35,
   "metadata": {},
   "outputs": [],
   "source": [
    "Y_true = one_hot(np.array(test[\"True_Yards\"]), 199)"
   ]
  },
  {
   "cell_type": "code",
   "execution_count": 36,
   "metadata": {},
   "outputs": [
    {
     "data": {
      "image/png": "[encoded data removed]",
      "text/plain": [
       "<Figure size 640x480 with 1 Axes>"
      ]
     },
     "metadata": {},
     "output_type": "display_data"
    }
   ],
   "source": [
    "import matplotlib.pyplot as plt\n",
    "\n",
    "from sklearn.metrics import RocCurveDisplay\n",
    "\n",
    "RocCurveDisplay.from_predictions(\n",
    "    Y_true.ravel(),\n",
    "    Y_pred.ravel(),\n",
    "    name=\"micro-average OvR\",\n",
    "    color=\"darkorange\",\n",
    "    plot_chance_level=True,\n",
    ")\n",
    "plt.axis(\"square\")\n",
    "plt.xlabel(\"False Positive Rate\")\n",
    "plt.ylabel(\"True Positive Rate\")\n",
    "plt.title(\"Micro-averaged One-vs-Rest\\nReceiver Operating Characteristic\")\n",
    "plt.legend()\n",
    "plt.show()"
   ]
  },
  {
   "cell_type": "code",
   "execution_count": 37,
   "metadata": {},
   "outputs": [
    {
     "data": {
      "image/png": "[encoded data removed]",
      "text/plain": [
       "<Figure size 640x480 with 1 Axes>"
      ]
     },
     "metadata": {},
     "output_type": "display_data"
    }
   ],
   "source": [
    "RocCurveDisplay.from_predictions(\n",
    "    Y_true.ravel(),\n",
    "    Y_pred.ravel(),\n",
    "    name=\"micro-average OvR\",\n",
    "    color=\"darkorange\",\n",
    "    plot_chance_level=True,\n",
    ")\n",
    "plt.axis(\"square\")\n",
    "plt.xlabel(\"False Positive Rate\")\n",
    "plt.ylabel(\"True Positive Rate\")\n",
    "plt.title(\"Micro-averaged One-vs-Rest\\nReceiver Operating Characteristic\")\n",
    "plt.legend()\n",
    "plt.show()"
   ]
  },
  {
   "cell_type": "code",
   "execution_count": 38,
   "metadata": {},
   "outputs": [],
   "source": [
    "def CRPS(predicted_cdf, actual_yardage):\n",
    "    N = len(predicted_cdf)\n",
    "    C = 0\n",
    "\n",
    "    with tqdm(total=len(range(N))) as pbar:\n",
    "        for m in range(N):\n",
    "            for n in range(-99, 99, 1):\n",
    "                P_y_leq_n = exponnorm.cdf(n+0.5, predicted_cdf[m][2], predicted_cdf[m][0], predicted_cdf[m][1])  # Adjust the index to match the range\n",
    "                H_n_minus_Y_m = 1 if (n - actual_yardage[m]) >= 0 else 0\n",
    "                C += (P_y_leq_n - H_n_minus_Y_m) ** 2\n",
    "            pbar.update(1)\n",
    "\n",
    "    final_C = C/(199*N)\n",
    "    return final_C"
   ]
  },
  {
   "cell_type": "code",
   "execution_count": 39,
   "metadata": {},
   "outputs": [],
   "source": [
    "sizes = [5, 10, 300, 400, 500, 600]\n",
    "procedures = [\"Subtracted\", \"Concatenated\"]\n",
    "playtypes = [4, 7]\n",
    "metrics = [\"cosine\", \"L2\"]\n",
    "cutoffs = [10, 15, 20]"
   ]
  },
  {
   "cell_type": "code",
   "execution_count": 40,
   "metadata": {},
   "outputs": [
    {
     "name": "stdout",
     "output_type": "stream",
     "text": [
      "5\n",
      "0.498727288154083\n",
      "10\n",
      "0.5209815638598321\n",
      "300\n",
      "0.5179997818208265\n",
      "400\n",
      "0.5156179925091817\n",
      "500\n",
      "0.5107392637664998\n",
      "600\n",
      "0.5139634671094896\n"
     ]
    }
   ],
   "source": [
    "for size in [5, 10, 300, 400, 500, 600]:\n",
    "    print(size)\n",
    "    test = results[(results[\"Procedure\"] == \"Subtracted\") & (results[\"PlayType\"] == 4) & (results[\"Metric\"] == \"cosine\") & (results[\"Cutoff\"] == 20) & (results[\"n_selected\"] == size)]\n",
    "    \n",
    "    auc = calculate_auc(test, \"Weighted_Avg_success\")\n",
    "    print(auc)"
   ]
  },
  {
   "cell_type": "code",
   "execution_count": 41,
   "metadata": {},
   "outputs": [
    {
     "name": "stdout",
     "output_type": "stream",
     "text": [
      "5\n"
     ]
    },
    {
     "name": "stderr",
     "output_type": "stream",
     "text": [
      "100%|██████████| 391/391 [00:02<00:00, 144.51it/s]\n"
     ]
    },
    {
     "name": "stdout",
     "output_type": "stream",
     "text": [
      "0.029997326691881637\n",
      "10\n"
     ]
    },
    {
     "name": "stderr",
     "output_type": "stream",
     "text": [
      "100%|██████████| 391/391 [00:02<00:00, 145.85it/s]\n"
     ]
    },
    {
     "name": "stdout",
     "output_type": "stream",
     "text": [
      "0.0280411448874645\n",
      "300\n"
     ]
    },
    {
     "name": "stderr",
     "output_type": "stream",
     "text": [
      "100%|██████████| 391/391 [00:02<00:00, 145.77it/s]\n"
     ]
    },
    {
     "name": "stdout",
     "output_type": "stream",
     "text": [
      "0.0256057896987916\n",
      "400\n"
     ]
    },
    {
     "name": "stderr",
     "output_type": "stream",
     "text": [
      "100%|██████████| 391/391 [00:02<00:00, 145.89it/s]\n"
     ]
    },
    {
     "name": "stdout",
     "output_type": "stream",
     "text": [
      "0.025564467542901172\n",
      "500\n"
     ]
    },
    {
     "name": "stderr",
     "output_type": "stream",
     "text": [
      "100%|██████████| 391/391 [00:02<00:00, 146.47it/s]\n"
     ]
    },
    {
     "name": "stdout",
     "output_type": "stream",
     "text": [
      "0.025640953259951697\n",
      "600\n"
     ]
    },
    {
     "name": "stderr",
     "output_type": "stream",
     "text": [
      "100%|██████████| 391/391 [00:02<00:00, 145.66it/s]"
     ]
    },
    {
     "name": "stdout",
     "output_type": "stream",
     "text": [
      "0.02560735370755223\n"
     ]
    },
    {
     "name": "stderr",
     "output_type": "stream",
     "text": [
      "\n"
     ]
    }
   ],
   "source": [
    "for size in [5, 10, 300, 400, 500, 600]:\n",
    "    print(size)\n",
    "    test = results[(results[\"Procedure\"] == \"Subtracted\") & (results[\"PlayType\"] == 4) & (results[\"Metric\"] == \"cosine\") & (results[\"Cutoff\"] == 20) & (results[\"n_selected\"] == size)]\n",
    "    test = test[test[\"True_Yards\"] != 0]\n",
    "    test.loc[test['True_Yards'] > 20, 'True_Yards'] = 20\n",
    "    \n",
    "    crps = CRPS(test[[\"Mean\", \"Scale\", \"Rate\"]].values, np.array(test[\"True_Yards\"]))\n",
    "    print(crps)"
   ]
  },
  {
   "cell_type": "code",
   "execution_count": 42,
   "metadata": {},
   "outputs": [
    {
     "name": "stderr",
     "output_type": "stream",
     "text": [
      "100%|██████████| 391/391 [00:02<00:00, 145.03it/s]"
     ]
    },
    {
     "name": "stdout",
     "output_type": "stream",
     "text": [
      "0.023438028710742725\n"
     ]
    },
    {
     "name": "stderr",
     "output_type": "stream",
     "text": [
      "\n"
     ]
    }
   ],
   "source": [
    "bench = CRPS(np.array([[3,2,2.8] for e in test[\"True_Yards\"]]), np.array(test[\"True_Yards\"]))\n",
    "print(bench)"
   ]
  },
  {
   "cell_type": "code",
   "execution_count": 127,
   "metadata": {},
   "outputs": [
    {
     "name": "stdout",
     "output_type": "stream",
     "text": [
      "10\n"
     ]
    },
    {
     "name": "stderr",
     "output_type": "stream",
     "text": [
      "100%|██████████| 417/417 [00:02<00:00, 144.91it/s]\n"
     ]
    },
    {
     "name": "stdout",
     "output_type": "stream",
     "text": [
      "0.015167899470353331\n",
      "30\n"
     ]
    },
    {
     "name": "stderr",
     "output_type": "stream",
     "text": [
      "100%|██████████| 417/417 [00:02<00:00, 146.39it/s]\n"
     ]
    },
    {
     "name": "stdout",
     "output_type": "stream",
     "text": [
      "0.014774225311000443\n",
      "50\n"
     ]
    },
    {
     "name": "stderr",
     "output_type": "stream",
     "text": [
      "100%|██████████| 417/417 [00:02<00:00, 145.93it/s]\n"
     ]
    },
    {
     "name": "stdout",
     "output_type": "stream",
     "text": [
      "0.014753557258544126\n",
      "100\n"
     ]
    },
    {
     "name": "stderr",
     "output_type": "stream",
     "text": [
      "100%|██████████| 417/417 [00:02<00:00, 147.05it/s]\n"
     ]
    },
    {
     "name": "stdout",
     "output_type": "stream",
     "text": [
      "0.014740766295405312\n",
      "200\n"
     ]
    },
    {
     "name": "stderr",
     "output_type": "stream",
     "text": [
      "100%|██████████| 417/417 [00:02<00:00, 147.73it/s]\n"
     ]
    },
    {
     "name": "stdout",
     "output_type": "stream",
     "text": [
      "0.014716628531079929\n",
      "300\n"
     ]
    },
    {
     "name": "stderr",
     "output_type": "stream",
     "text": [
      "100%|██████████| 417/417 [00:02<00:00, 146.73it/s]\n"
     ]
    },
    {
     "name": "stdout",
     "output_type": "stream",
     "text": [
      "0.014752345651232075\n",
      "400\n"
     ]
    },
    {
     "name": "stderr",
     "output_type": "stream",
     "text": [
      "100%|██████████| 417/417 [00:02<00:00, 147.35it/s]\n"
     ]
    },
    {
     "name": "stdout",
     "output_type": "stream",
     "text": [
      "0.014756784238505056\n",
      "500\n"
     ]
    },
    {
     "name": "stderr",
     "output_type": "stream",
     "text": [
      "100%|██████████| 417/417 [00:02<00:00, 147.01it/s]\n"
     ]
    },
    {
     "name": "stdout",
     "output_type": "stream",
     "text": [
      "0.014757509775120815\n",
      "600\n"
     ]
    },
    {
     "name": "stderr",
     "output_type": "stream",
     "text": [
      "100%|██████████| 417/417 [00:02<00:00, 148.57it/s]\n"
     ]
    },
    {
     "name": "stdout",
     "output_type": "stream",
     "text": [
      "0.014725325868590645\n"
     ]
    },
    {
     "name": "stderr",
     "output_type": "stream",
     "text": [
      "100%|██████████| 417/417 [00:02<00:00, 146.01it/s]"
     ]
    },
    {
     "name": "stdout",
     "output_type": "stream",
     "text": [
      "0.014711275279701754\n"
     ]
    },
    {
     "name": "stderr",
     "output_type": "stream",
     "text": [
      "\n"
     ]
    }
   ],
   "source": [
    "for size in [10, 30, 50, 100, 200, 300, 400, 500, 600]:\n",
    "    print(size)\n",
    "    test = results[(results[\"Procedure\"] == \"Subtracted\") & (results[\"PlayType\"] == 7) & (results[\"Metric\"] == \"cosine\") & (results[\"Cutoff\"] == 20) & (results[\"n_selected\"] == size)]\n",
    "    \n",
    "    crps = CRPS(test[[\"Mean\", \"Scale\", \"Rate\"]].values, np.array(test[\"True_Yards\"]))\n",
    "    print(crps)\n",
    "    \n",
    "bench = CRPS(np.array([[0, 2, 2] for e in test[\"True_Yards\"]]), np.array(test[\"True_Yards\"]))\n",
    "print(bench)"
   ]
  },
  {
   "cell_type": "code",
   "execution_count": 23,
   "metadata": {},
   "outputs": [
    {
     "name": "stderr",
     "output_type": "stream",
     "text": [
      "100%|██████████| 52224/52224 [05:53<00:00, 147.92it/s]\n",
      "100%|██████████| 52224/52224 [05:46<00:00, 150.55it/s]\n",
      "100%|██████████| 52224/52224 [05:47<00:00, 150.48it/s]\n",
      "100%|██████████| 52224/52224 [05:48<00:00, 149.96it/s]\n",
      "100%|██████████| 52224/52224 [05:47<00:00, 150.37it/s]\n",
      "100%|██████████| 52224/52224 [05:48<00:00, 150.01it/s]\n",
      "100%|██████████| 52224/52224 [05:46<00:00, 150.55it/s]\n",
      "100%|██████████| 52224/52224 [05:45<00:00, 151.11it/s]\n",
      "100%|██████████| 52224/52224 [05:43<00:00, 151.89it/s]\n",
      "100%|██████████| 52224/52224 [05:45<00:00, 151.32it/s]\n",
      "100%|██████████| 52224/52224 [05:44<00:00, 151.46it/s]\n",
      "100%|██████████| 52224/52224 [05:45<00:00, 151.24it/s]\n"
     ]
    }
   ],
   "source": [
    "to_check = [30, 50, 70, 100, 120, 150]\n",
    "procedures = [\"conc_euclid\", \"sub_euclid\"]\n",
    "\n",
    "crps_dict = {\"procedure\" : [],\n",
    "             \"size\" : [],\n",
    "             \"CRPS\" : []}\n",
    "\n",
    "for procedure in procedures:\n",
    "    for n in to_check:\n",
    "        if procedure == \"conc_euclid\":\n",
    "            essai = run_concatenated_res[run_concatenated_res[\"Procedure\"] == \"conc_euclid\"]\n",
    "        else:\n",
    "            essai = run_sub_res[run_sub_res[\"Procedure\"] == \"sub_euclid\"]\n",
    "            \n",
    "        essai = essai[essai[\"N_neighboors\"] == n].reset_index(drop = True)\n",
    "\n",
    "        cdfs_params = essai[[\"Mean\", \"Scale\", \"Rate\"]].values\n",
    "        true_y = list(essai[\"True_yard\"])\n",
    "        \n",
    "        res = CRPS(cdfs_params, true_y)\n",
    "        \n",
    "        crps_dict[\"procedure\"].append(procedure)\n",
    "        crps_dict[\"size\"].append(n)\n",
    "        crps_dict[\"CRPS\"].append(res)"
   ]
  },
  {
   "cell_type": "code",
   "execution_count": 25,
   "metadata": {},
   "outputs": [
    {
     "data": {
      "text/html": [
       "<div>\n",
       "<style scoped>\n",
       "    .dataframe tbody tr th:only-of-type {\n",
       "        vertical-align: middle;\n",
       "    }\n",
       "\n",
       "    .dataframe tbody tr th {\n",
       "        vertical-align: top;\n",
       "    }\n",
       "\n",
       "    .dataframe thead th {\n",
       "        text-align: right;\n",
       "    }\n",
       "</style>\n",
       "<table border=\"1\" class=\"dataframe\">\n",
       "  <thead>\n",
       "    <tr style=\"text-align: right;\">\n",
       "      <th></th>\n",
       "      <th>procedure</th>\n",
       "      <th>size</th>\n",
       "      <th>CRPS</th>\n",
       "    </tr>\n",
       "  </thead>\n",
       "  <tbody>\n",
       "    <tr>\n",
       "      <th>11</th>\n",
       "      <td>sub_euclid</td>\n",
       "      <td>150</td>\n",
       "      <td>0.014619</td>\n",
       "    </tr>\n",
       "    <tr>\n",
       "      <th>10</th>\n",
       "      <td>sub_euclid</td>\n",
       "      <td>120</td>\n",
       "      <td>0.014637</td>\n",
       "    </tr>\n",
       "    <tr>\n",
       "      <th>5</th>\n",
       "      <td>conc_euclid</td>\n",
       "      <td>150</td>\n",
       "      <td>0.014645</td>\n",
       "    </tr>\n",
       "    <tr>\n",
       "      <th>4</th>\n",
       "      <td>conc_euclid</td>\n",
       "      <td>120</td>\n",
       "      <td>0.014668</td>\n",
       "    </tr>\n",
       "    <tr>\n",
       "      <th>9</th>\n",
       "      <td>sub_euclid</td>\n",
       "      <td>100</td>\n",
       "      <td>0.014671</td>\n",
       "    </tr>\n",
       "    <tr>\n",
       "      <th>3</th>\n",
       "      <td>conc_euclid</td>\n",
       "      <td>100</td>\n",
       "      <td>0.014700</td>\n",
       "    </tr>\n",
       "    <tr>\n",
       "      <th>8</th>\n",
       "      <td>sub_euclid</td>\n",
       "      <td>70</td>\n",
       "      <td>0.014776</td>\n",
       "    </tr>\n",
       "    <tr>\n",
       "      <th>2</th>\n",
       "      <td>conc_euclid</td>\n",
       "      <td>70</td>\n",
       "      <td>0.014794</td>\n",
       "    </tr>\n",
       "    <tr>\n",
       "      <th>7</th>\n",
       "      <td>sub_euclid</td>\n",
       "      <td>50</td>\n",
       "      <td>0.014905</td>\n",
       "    </tr>\n",
       "    <tr>\n",
       "      <th>1</th>\n",
       "      <td>conc_euclid</td>\n",
       "      <td>50</td>\n",
       "      <td>0.014919</td>\n",
       "    </tr>\n",
       "    <tr>\n",
       "      <th>6</th>\n",
       "      <td>sub_euclid</td>\n",
       "      <td>30</td>\n",
       "      <td>0.015192</td>\n",
       "    </tr>\n",
       "    <tr>\n",
       "      <th>0</th>\n",
       "      <td>conc_euclid</td>\n",
       "      <td>30</td>\n",
       "      <td>0.015236</td>\n",
       "    </tr>\n",
       "  </tbody>\n",
       "</table>\n",
       "</div>"
      ],
      "text/plain": [
       "      procedure  size      CRPS\n",
       "11   sub_euclid   150  0.014619\n",
       "10   sub_euclid   120  0.014637\n",
       "5   conc_euclid   150  0.014645\n",
       "4   conc_euclid   120  0.014668\n",
       "9    sub_euclid   100  0.014671\n",
       "3   conc_euclid   100  0.014700\n",
       "8    sub_euclid    70  0.014776\n",
       "2   conc_euclid    70  0.014794\n",
       "7    sub_euclid    50  0.014905\n",
       "1   conc_euclid    50  0.014919\n",
       "6    sub_euclid    30  0.015192\n",
       "0   conc_euclid    30  0.015236"
      ]
     },
     "execution_count": 25,
     "metadata": {},
     "output_type": "execute_result"
    }
   ],
   "source": [
    "pd.DataFrame(crps_dict).sort_values(\"CRPS\")"
   ]
  },
  {
   "cell_type": "code",
   "execution_count": 22,
   "metadata": {},
   "outputs": [
    {
     "name": "stderr",
     "output_type": "stream",
     "text": [
      "100%|██████████| 6/6 [00:00<00:00, 167772.16it/s]\n",
      "100%|██████████| 6/6 [00:00<00:00, 177224.11it/s]\n"
     ]
    },
    {
     "data": {
      "text/html": [
       "<div>\n",
       "<style scoped>\n",
       "    .dataframe tbody tr th:only-of-type {\n",
       "        vertical-align: middle;\n",
       "    }\n",
       "\n",
       "    .dataframe tbody tr th {\n",
       "        vertical-align: top;\n",
       "    }\n",
       "\n",
       "    .dataframe thead th {\n",
       "        text-align: right;\n",
       "    }\n",
       "</style>\n",
       "<table border=\"1\" class=\"dataframe\">\n",
       "  <thead>\n",
       "    <tr style=\"text-align: right;\">\n",
       "      <th></th>\n",
       "      <th>Procedure</th>\n",
       "      <th>N_neighboor</th>\n",
       "      <th>weight_rmse</th>\n",
       "      <th>mean_rmse</th>\n",
       "      <th>trunc_50_weight_rmse</th>\n",
       "      <th>trunc_50_mean_rmse</th>\n",
       "      <th>trunc_30_weight_rmse</th>\n",
       "      <th>trunc_30_mean_rmse</th>\n",
       "      <th>weight_acc</th>\n",
       "      <th>mean_acc</th>\n",
       "      <th>weight_auc</th>\n",
       "      <th>mean_auc</th>\n",
       "    </tr>\n",
       "  </thead>\n",
       "  <tbody>\n",
       "    <tr>\n",
       "      <th>0</th>\n",
       "      <td>concatenated</td>\n",
       "      <td>30</td>\n",
       "      <td>6.851933</td>\n",
       "      <td>6.619856</td>\n",
       "      <td>6.113102</td>\n",
       "      <td>5.856158</td>\n",
       "      <td>5.439543</td>\n",
       "      <td>5.150132</td>\n",
       "      <td>0.908318</td>\n",
       "      <td>0.912033</td>\n",
       "      <td>0.502551</td>\n",
       "      <td>0.496404</td>\n",
       "    </tr>\n",
       "    <tr>\n",
       "      <th>1</th>\n",
       "      <td>concatenated</td>\n",
       "      <td>50</td>\n",
       "      <td>6.769334</td>\n",
       "      <td>6.541464</td>\n",
       "      <td>6.017339</td>\n",
       "      <td>5.762088</td>\n",
       "      <td>5.333263</td>\n",
       "      <td>5.045199</td>\n",
       "      <td>0.908509</td>\n",
       "      <td>0.912033</td>\n",
       "      <td>0.506672</td>\n",
       "      <td>0.498285</td>\n",
       "    </tr>\n",
       "    <tr>\n",
       "      <th>2</th>\n",
       "      <td>concatenated</td>\n",
       "      <td>70</td>\n",
       "      <td>6.736755</td>\n",
       "      <td>6.511161</td>\n",
       "      <td>5.977429</td>\n",
       "      <td>5.723150</td>\n",
       "      <td>5.289005</td>\n",
       "      <td>5.001105</td>\n",
       "      <td>0.908509</td>\n",
       "      <td>0.912033</td>\n",
       "      <td>0.509561</td>\n",
       "      <td>0.500105</td>\n",
       "    </tr>\n",
       "    <tr>\n",
       "      <th>3</th>\n",
       "      <td>concatenated</td>\n",
       "      <td>100</td>\n",
       "      <td>6.709318</td>\n",
       "      <td>6.484490</td>\n",
       "      <td>5.944575</td>\n",
       "      <td>5.690705</td>\n",
       "      <td>5.253616</td>\n",
       "      <td>4.965862</td>\n",
       "      <td>0.908471</td>\n",
       "      <td>0.912033</td>\n",
       "      <td>0.507744</td>\n",
       "      <td>0.496443</td>\n",
       "    </tr>\n",
       "    <tr>\n",
       "      <th>4</th>\n",
       "      <td>concatenated</td>\n",
       "      <td>120</td>\n",
       "      <td>6.697987</td>\n",
       "      <td>6.473319</td>\n",
       "      <td>5.932062</td>\n",
       "      <td>5.678677</td>\n",
       "      <td>5.241185</td>\n",
       "      <td>4.954469</td>\n",
       "      <td>0.908471</td>\n",
       "      <td>0.912033</td>\n",
       "      <td>0.507634</td>\n",
       "      <td>0.495140</td>\n",
       "    </tr>\n",
       "    <tr>\n",
       "      <th>5</th>\n",
       "      <td>concatenated</td>\n",
       "      <td>150</td>\n",
       "      <td>6.690764</td>\n",
       "      <td>6.466782</td>\n",
       "      <td>5.924008</td>\n",
       "      <td>5.671894</td>\n",
       "      <td>5.231389</td>\n",
       "      <td>4.946040</td>\n",
       "      <td>0.908471</td>\n",
       "      <td>0.912033</td>\n",
       "      <td>0.508571</td>\n",
       "      <td>0.496174</td>\n",
       "    </tr>\n",
       "    <tr>\n",
       "      <th>0</th>\n",
       "      <td>subtracted</td>\n",
       "      <td>30</td>\n",
       "      <td>6.842616</td>\n",
       "      <td>6.613938</td>\n",
       "      <td>6.100183</td>\n",
       "      <td>5.847468</td>\n",
       "      <td>5.425711</td>\n",
       "      <td>5.140551</td>\n",
       "      <td>0.908318</td>\n",
       "      <td>0.911994</td>\n",
       "      <td>0.513477</td>\n",
       "      <td>0.506957</td>\n",
       "    </tr>\n",
       "    <tr>\n",
       "      <th>1</th>\n",
       "      <td>subtracted</td>\n",
       "      <td>50</td>\n",
       "      <td>6.762997</td>\n",
       "      <td>6.535607</td>\n",
       "      <td>6.012244</td>\n",
       "      <td>5.760563</td>\n",
       "      <td>5.327514</td>\n",
       "      <td>5.042032</td>\n",
       "      <td>0.908509</td>\n",
       "      <td>0.912033</td>\n",
       "      <td>0.515849</td>\n",
       "      <td>0.505547</td>\n",
       "    </tr>\n",
       "    <tr>\n",
       "      <th>2</th>\n",
       "      <td>subtracted</td>\n",
       "      <td>70</td>\n",
       "      <td>6.725890</td>\n",
       "      <td>6.499997</td>\n",
       "      <td>5.968965</td>\n",
       "      <td>5.717261</td>\n",
       "      <td>5.277261</td>\n",
       "      <td>4.991352</td>\n",
       "      <td>0.908509</td>\n",
       "      <td>0.912033</td>\n",
       "      <td>0.512552</td>\n",
       "      <td>0.499094</td>\n",
       "    </tr>\n",
       "    <tr>\n",
       "      <th>3</th>\n",
       "      <td>subtracted</td>\n",
       "      <td>100</td>\n",
       "      <td>6.695583</td>\n",
       "      <td>6.469781</td>\n",
       "      <td>5.935342</td>\n",
       "      <td>5.683272</td>\n",
       "      <td>5.241366</td>\n",
       "      <td>4.955084</td>\n",
       "      <td>0.908509</td>\n",
       "      <td>0.912033</td>\n",
       "      <td>0.509322</td>\n",
       "      <td>0.494930</td>\n",
       "    </tr>\n",
       "    <tr>\n",
       "      <th>4</th>\n",
       "      <td>subtracted</td>\n",
       "      <td>120</td>\n",
       "      <td>6.685388</td>\n",
       "      <td>6.459380</td>\n",
       "      <td>5.924176</td>\n",
       "      <td>5.671774</td>\n",
       "      <td>5.229663</td>\n",
       "      <td>4.943826</td>\n",
       "      <td>0.908471</td>\n",
       "      <td>0.912033</td>\n",
       "      <td>0.511205</td>\n",
       "      <td>0.498336</td>\n",
       "    </tr>\n",
       "    <tr>\n",
       "      <th>5</th>\n",
       "      <td>subtracted</td>\n",
       "      <td>150</td>\n",
       "      <td>6.681151</td>\n",
       "      <td>6.455123</td>\n",
       "      <td>5.918747</td>\n",
       "      <td>5.666254</td>\n",
       "      <td>5.223270</td>\n",
       "      <td>4.937626</td>\n",
       "      <td>0.908471</td>\n",
       "      <td>0.912033</td>\n",
       "      <td>0.510761</td>\n",
       "      <td>0.498772</td>\n",
       "    </tr>\n",
       "  </tbody>\n",
       "</table>\n",
       "</div>"
      ],
      "text/plain": [
       "      Procedure  N_neighboor  weight_rmse  mean_rmse  trunc_50_weight_rmse  \\\n",
       "0  concatenated           30     6.851933   6.619856              6.113102   \n",
       "1  concatenated           50     6.769334   6.541464              6.017339   \n",
       "2  concatenated           70     6.736755   6.511161              5.977429   \n",
       "3  concatenated          100     6.709318   6.484490              5.944575   \n",
       "4  concatenated          120     6.697987   6.473319              5.932062   \n",
       "5  concatenated          150     6.690764   6.466782              5.924008   \n",
       "0    subtracted           30     6.842616   6.613938              6.100183   \n",
       "1    subtracted           50     6.762997   6.535607              6.012244   \n",
       "2    subtracted           70     6.725890   6.499997              5.968965   \n",
       "3    subtracted          100     6.695583   6.469781              5.935342   \n",
       "4    subtracted          120     6.685388   6.459380              5.924176   \n",
       "5    subtracted          150     6.681151   6.455123              5.918747   \n",
       "\n",
       "   trunc_50_mean_rmse  trunc_30_weight_rmse  trunc_30_mean_rmse  weight_acc  \\\n",
       "0            5.856158              5.439543            5.150132    0.908318   \n",
       "1            5.762088              5.333263            5.045199    0.908509   \n",
       "2            5.723150              5.289005            5.001105    0.908509   \n",
       "3            5.690705              5.253616            4.965862    0.908471   \n",
       "4            5.678677              5.241185            4.954469    0.908471   \n",
       "5            5.671894              5.231389            4.946040    0.908471   \n",
       "0            5.847468              5.425711            5.140551    0.908318   \n",
       "1            5.760563              5.327514            5.042032    0.908509   \n",
       "2            5.717261              5.277261            4.991352    0.908509   \n",
       "3            5.683272              5.241366            4.955084    0.908509   \n",
       "4            5.671774              5.229663            4.943826    0.908471   \n",
       "5            5.666254              5.223270            4.937626    0.908471   \n",
       "\n",
       "   mean_acc  weight_auc  mean_auc  \n",
       "0  0.912033    0.502551  0.496404  \n",
       "1  0.912033    0.506672  0.498285  \n",
       "2  0.912033    0.509561  0.500105  \n",
       "3  0.912033    0.507744  0.496443  \n",
       "4  0.912033    0.507634  0.495140  \n",
       "5  0.912033    0.508571  0.496174  \n",
       "0  0.911994    0.513477  0.506957  \n",
       "1  0.912033    0.515849  0.505547  \n",
       "2  0.912033    0.512552  0.499094  \n",
       "3  0.912033    0.509322  0.494930  \n",
       "4  0.912033    0.511205  0.498336  \n",
       "5  0.912033    0.510761  0.498772  "
      ]
     },
     "execution_count": 22,
     "metadata": {},
     "output_type": "execute_result"
    }
   ],
   "source": [
    "conc_run = pd.DataFrame(compile_seq([eval_df(run_concatenated_res, n, \"concatenated\") for n in to_check]))\n",
    "sub_run = pd.DataFrame(compile_seq([eval_df(run_sub_res, n, \"subtracted\") for n in to_check]))\n",
    "\n",
    "pd.concat([conc_run, sub_run])"
   ]
  },
  {
   "cell_type": "code",
   "execution_count": null,
   "metadata": {},
   "outputs": [],
   "source": []
  }
 ],
 "metadata": {
  "kernelspec": {
   "display_name": "nflgpt",
   "language": "python",
   "name": "python3"
  },
  "language_info": {
   "codemirror_mode": {
    "name": "ipython",
    "version": 3
   },
   "file_extension": ".py",
   "mimetype": "text/x-python",
   "name": "python",
   "nbconvert_exporter": "python",
   "pygments_lexer": "ipython3",
   "version": "3.11.4"
  }
 },
 "nbformat": 4,
 "nbformat_minor": 2
}
