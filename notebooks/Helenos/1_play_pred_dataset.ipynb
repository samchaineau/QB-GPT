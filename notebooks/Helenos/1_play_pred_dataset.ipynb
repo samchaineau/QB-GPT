{
 "cells": [
  {
   "cell_type": "code",
   "execution_count": 1,
   "metadata": {},
   "outputs": [],
   "source": [
    "import os\n",
    "import pandas as pd\n",
    "import numpy as np\n",
    "import polars as pl\n",
    "import nfl_data_py as nfl\n",
    "\n",
    "env = \"local\""
   ]
  },
  {
   "cell_type": "code",
   "execution_count": 2,
   "metadata": {},
   "outputs": [],
   "source": [
    "if env == \"local\":\n",
    "    os.chdir(\"/Users/samuel/Documents/GitHub/QB-GPT/\")\n",
    "else:\n",
    "    from google.colab import drive\n",
    "    drive.mount('/content/gdrive')\n",
    "    os.chdir(\"/content/gdrive/MyDrive/NFL_Challenge/NFL-GPT/NFL data\")"
   ]
  },
  {
   "cell_type": "code",
   "execution_count": 3,
   "metadata": {},
   "outputs": [
    {
     "name": "stdout",
     "output_type": "stream",
     "text": [
      "2017 done.\n",
      "2018 done.\n",
      "2019 done.\n",
      "2020 done.\n",
      "2021 done.\n",
      "2022 done.\n",
      "2023 done.\n",
      "Downcasting floats.\n"
     ]
    }
   ],
   "source": [
    "years_to_get = [2017, 2018, 2019, 2020, 2021, 2022, 2023]\n",
    "season_data = pl.from_pandas(nfl.import_pbp_data(years_to_get))\n",
    "rosters = pl.from_pandas(nfl.import_seasonal_rosters(years_to_get))"
   ]
  },
  {
   "cell_type": "code",
   "execution_count": 4,
   "metadata": {},
   "outputs": [],
   "source": [
    "plays_index = pl.read_parquet(\"index/plays_index.parquet\")\n",
    "positions_index = pl.read_parquet(\"index/positions_index.parquet\")\n",
    "OL_df = pl.DataFrame({\"position\" : [\"OL\"],\n",
    "                      \"position_ID\" : [28],\n",
    "                      \"Cat\" : [\"Pos\"]})\n",
    "\n",
    "new_positions_index = pl.concat([positions_index, OL_df])"
   ]
  },
  {
   "cell_type": "code",
   "execution_count": 5,
   "metadata": {},
   "outputs": [],
   "source": [
    "team_index = (season_data.\n",
    "              select(\"home_team\").\n",
    "              rename({\"home_team\" : \"team\"}).\n",
    "              unique().\n",
    "              with_columns(pl.when(pl.col(\"team\") == \"OAK\").\n",
    "                           then(pl.lit(\"LV\")).\n",
    "                           otherwise(pl.col(\"team\")).\n",
    "                           alias(\"team\")).\n",
    "              with_columns(pl.arange(0, 32).alias(\"team_ID\")))"
   ]
  },
  {
   "cell_type": "code",
   "execution_count": 6,
   "metadata": {},
   "outputs": [],
   "source": [
    "yards_index = (pl.DataFrame({\"yards_gained\" : range(-99, 100), \n",
    "                            \"yard_ID\" : range(0, 199)}).\n",
    "                with_columns(pl.col(\"yards_gained\").cast(pl.Int32)).\n",
    "                with_columns(pl.col(\"yard_ID\").cast(pl.Int32)))"
   ]
  },
  {
   "cell_type": "code",
   "execution_count": 7,
   "metadata": {},
   "outputs": [],
   "source": [
    "season_index = (pl.DataFrame({\"season\" : [2017, 2018, 2019, 2020, 2021, 2022, 2023], \n",
    "                            \"season_ID\" : [0, 1, 2, 3, 4, 5, 6]}).\n",
    "                with_columns(pl.col(\"season\").cast(pl.Int64)).\n",
    "                with_columns(pl.col(\"season_ID\").cast(pl.Int32)))"
   ]
  },
  {
   "cell_type": "code",
   "execution_count": 12,
   "metadata": {},
   "outputs": [
    {
     "data": {
      "text/html": [
       "<div><style>\n",
       ".dataframe > thead > tr > th,\n",
       ".dataframe > tbody > tr > td {\n",
       "  text-align: right;\n",
       "  white-space: pre-wrap;\n",
       "}\n",
       "</style>\n",
       "<small>shape: (21_509, 4)</small><table border=\"1\" class=\"dataframe\"><thead><tr><th>season</th><th>position</th><th>player_id</th><th>player_ID</th></tr><tr><td>i32</td><td>str</td><td>str</td><td>i64</td></tr></thead><tbody><tr><td>2021</td><td>&quot;LB&quot;</td><td>&quot;00-0033819&quot;</td><td>0</td></tr><tr><td>2018</td><td>&quot;DB&quot;</td><td>&quot;00-0033819&quot;</td><td>0</td></tr><tr><td>2022</td><td>&quot;LB&quot;</td><td>&quot;00-0033819&quot;</td><td>0</td></tr><tr><td>2019</td><td>&quot;DB&quot;</td><td>&quot;00-0033819&quot;</td><td>0</td></tr><tr><td>2020</td><td>&quot;DB&quot;</td><td>&quot;00-0033819&quot;</td><td>0</td></tr><tr><td>2017</td><td>&quot;DB&quot;</td><td>&quot;00-0033819&quot;</td><td>0</td></tr><tr><td>2020</td><td>&quot;DB&quot;</td><td>&quot;00-0035938&quot;</td><td>1</td></tr><tr><td>2020</td><td>&quot;WR&quot;</td><td>&quot;00-0035547&quot;</td><td>2</td></tr><tr><td>2019</td><td>&quot;TE&quot;</td><td>&quot;00-0035547&quot;</td><td>2</td></tr><tr><td>2021</td><td>&quot;TE&quot;</td><td>&quot;00-0035547&quot;</td><td>2</td></tr><tr><td>2023</td><td>&quot;TE&quot;</td><td>&quot;00-0035547&quot;</td><td>2</td></tr><tr><td>2022</td><td>&quot;TE&quot;</td><td>&quot;00-0035547&quot;</td><td>2</td></tr><tr><td>&hellip;</td><td>&hellip;</td><td>&hellip;</td><td>&hellip;</td></tr><tr><td>2017</td><td>&quot;DB&quot;</td><td>&quot;00-0031334&quot;</td><td>7220</td></tr><tr><td>2018</td><td>&quot;DB&quot;</td><td>&quot;00-0031334&quot;</td><td>7220</td></tr><tr><td>2023</td><td>&quot;LB&quot;</td><td>&quot;00-0037560&quot;</td><td>7221</td></tr><tr><td>2022</td><td>&quot;LB&quot;</td><td>&quot;00-0037560&quot;</td><td>7221</td></tr><tr><td>2019</td><td>&quot;DL&quot;</td><td>&quot;00-0034520&quot;</td><td>7222</td></tr><tr><td>2018</td><td>&quot;DL&quot;</td><td>&quot;00-0034520&quot;</td><td>7222</td></tr><tr><td>2020</td><td>&quot;DL&quot;</td><td>&quot;00-0035816&quot;</td><td>7223</td></tr><tr><td>2023</td><td>&quot;DL&quot;</td><td>&quot;00-0035816&quot;</td><td>7223</td></tr><tr><td>2022</td><td>&quot;DL&quot;</td><td>&quot;00-0035816&quot;</td><td>7223</td></tr><tr><td>2021</td><td>&quot;DL&quot;</td><td>&quot;00-0035816&quot;</td><td>7223</td></tr><tr><td>2019</td><td>&quot;QB&quot;</td><td>&quot;00-0034737&quot;</td><td>7224</td></tr><tr><td>2018</td><td>&quot;QB&quot;</td><td>&quot;00-0034737&quot;</td><td>7224</td></tr></tbody></table></div>"
      ],
      "text/plain": [
       "shape: (21_509, 4)\n",
       "┌────────┬──────────┬────────────┬───────────┐\n",
       "│ season ┆ position ┆ player_id  ┆ player_ID │\n",
       "│ ---    ┆ ---      ┆ ---        ┆ ---       │\n",
       "│ i32    ┆ str      ┆ str        ┆ i64       │\n",
       "╞════════╪══════════╪════════════╪═══════════╡\n",
       "│ 2021   ┆ LB       ┆ 00-0033819 ┆ 0         │\n",
       "│ 2018   ┆ DB       ┆ 00-0033819 ┆ 0         │\n",
       "│ 2022   ┆ LB       ┆ 00-0033819 ┆ 0         │\n",
       "│ 2019   ┆ DB       ┆ 00-0033819 ┆ 0         │\n",
       "│ …      ┆ …        ┆ …          ┆ …         │\n",
       "│ 2022   ┆ DL       ┆ 00-0035816 ┆ 7223      │\n",
       "│ 2021   ┆ DL       ┆ 00-0035816 ┆ 7223      │\n",
       "│ 2019   ┆ QB       ┆ 00-0034737 ┆ 7224      │\n",
       "│ 2018   ┆ QB       ┆ 00-0034737 ┆ 7224      │\n",
       "└────────┴──────────┴────────────┴───────────┘"
      ]
     },
     "execution_count": 12,
     "metadata": {},
     "output_type": "execute_result"
    }
   ],
   "source": [
    "rosters_index = (rosters.\n",
    "                 select(\"season\", \"team\", \"position\", \"player_name\", \"jersey_number\", \"player_id\").\n",
    "                 unique().\n",
    "                 with_columns(pl.col(\"team\").str.replace(\"OAK\", \"LV\")).\n",
    "                 with_columns(pl.when(pl.col(\"jersey_number\").is_null()).\n",
    "                              then(pl.lit(0.0)).\n",
    "                              otherwise(pl.col(\"jersey_number\")).\n",
    "                              alias(\"jersey_number\")))\n",
    "\n",
    "sub_index = (rosters_index.\n",
    "             select(\"player_id\").\n",
    "             unique().\n",
    "             with_columns(pl.arange(0, 7225).alias(\"player_ID\")))\n",
    "\n",
    "rosters_index = (rosters_index.\n",
    "                 join(sub_index,\n",
    "                      on = [\"player_id\"],\n",
    "                      how = \"left\").\n",
    "                 select(\"season\", \"position\", \"player_id\", \"player_ID\").\n",
    "                 unique())\n",
    "\n",
    "rosters_index.sort(\"player_ID\")"
   ]
  },
  {
   "cell_type": "code",
   "execution_count": 13,
   "metadata": {},
   "outputs": [],
   "source": [
    "spec_data = (season_data.\n",
    "             select(\"season\", \"old_game_id\", \"play_id\", \"home_team\", \"away_team\", \"posteam\", \"defteam\", \"down\", \"offense_players\", \"defense_players\", \"play_type\", \"yards_gained\").\n",
    "             filter(pl.col(\"play_type\").is_not_null()).\n",
    "             filter(pl.col(\"play_type\") != \"no_play\").\n",
    "             filter(pl.col(\"offense_players\") != \"\").\n",
    "             with_columns(pl.when(pl.col(\"down\").is_null()).\n",
    "                          then(pl.lit(0.0)).\n",
    "                          otherwise(pl.col(\"down\")).\n",
    "                          alias(\"down\")).\n",
    "             filter(pl.col(\"play_type\").\n",
    "                    is_in([\"run\", \"pass\"])).\n",
    "             with_columns(pl.when(pl.col(\"yards_gained\") > 0).\n",
    "                          then(pl.lit(1.0)).\n",
    "                          otherwise(pl.lit(0.0)).\n",
    "                          alias(\"Success\")).\n",
    "             melt(id_vars = [\"season\", \"old_game_id\", \"play_id\", \"home_team\", \"away_team\", \"posteam\", \"defteam\", \"down\", \"play_type\", \"yards_gained\", \"Success\"], \n",
    "                  value_vars = [\"offense_players\", \"defense_players\"],\n",
    "                  variable_name = \"team\",\n",
    "                  value_name = \"players\").\n",
    "             with_columns(pl.col(\"players\").str.split(\";\")).\n",
    "             explode(\"players\").\n",
    "             rename({\"players\" : \"player_id\"}).\n",
    "             join(rosters.\n",
    "                  select(\"season\", \"player_id\", \"depth_chart_position\").\n",
    "                  with_columns(pl.col(\"season\").cast(pl.Int64)).\n",
    "                  rename({\"depth_chart_position\" : \"position\"}).\n",
    "                  unique(),\n",
    "                  how = \"left\",\n",
    "                  on = [\"season\", \"player_id\"]).\n",
    "             with_columns(pl.col(\"team\").str.replace(\"_players\", \"\")).\n",
    "             filter(pl.col(\"position\").is_not_null()).\n",
    "             rename({\"team\" : \"OffDef\"}).\n",
    "             with_columns(pl.when(pl.col(\"OffDef\") == \"offense\").\n",
    "                          then(pl.col(\"posteam\")).\n",
    "                          otherwise(pl.col(\"defteam\")).\n",
    "                          alias(\"team\")).\n",
    "             drop(\"home_team\", \"away_team\", \"posteam\", \"defteam\").\n",
    "             with_columns(pl.when(pl.col(\"team\") == \"OAK\").\n",
    "                          then(pl.lit(\"LV\")).\n",
    "                          otherwise(pl.col(\"team\")).\n",
    "                          alias(\"team\")).\n",
    "             join(rosters_index.\n",
    "                  select(\"season\", \"player_id\", \"player_ID\").\n",
    "                  with_columns(pl.col(\"season\").cast(pl.Int64)),\n",
    "                  on = [\"season\", \"player_id\"],\n",
    "                  how = \"left\").\n",
    "             with_columns(pl.col(\"player_ID\").cumcount().over(\"player_ID\").alias(\"count\")).\n",
    "             with_columns(pl.when(pl.col(\"count\") < 25).\n",
    "              then(pl.lit(7_225)).\n",
    "              otherwise(pl.col(\"player_ID\")).\n",
    "              alias(\"player_ID\")).\n",
    "             drop(\"count\", \"player_id\"))"
   ]
  },
  {
   "cell_type": "code",
   "execution_count": 14,
   "metadata": {},
   "outputs": [],
   "source": [
    "spec_data = (spec_data.\n",
    "               join(new_positions_index.\n",
    "                    drop(\"Cat\"), \n",
    "                    on = \"position\",\n",
    "                    how = \"left\").\n",
    "               drop(\"position\").\n",
    "               group_by(\"season\", \"old_game_id\", \"play_id\", \"team\", \"OffDef\", \"down\", \"play_type\", \"yards_gained\", \"Success\").\n",
    "               agg(pl.col(\"position_ID\"),\n",
    "                    pl.col(\"player_ID\")).\n",
    "               with_columns(pl.when(pl.col(\"OffDef\") == \"offense\").\n",
    "                              then(pl.lit(1)).\n",
    "                              otherwise(pl.lit(0)).\n",
    "                              alias(\"OffDef_ID\")).\n",
    "               drop(\"OffDef\").\n",
    "               join(plays_index.\n",
    "                    rename({\"PlayType\" : \"play_type\"}),\n",
    "                    on = \"play_type\",\n",
    "                    how = \"left\").\n",
    "               drop(\"play_type\").\n",
    "               join(team_index,\n",
    "                    on = \"team\",\n",
    "                    how = \"left\").\n",
    "               drop(\"team\").\n",
    "               with_columns(pl.col(\"down\").cast(pl.Int32).alias(\"down_ID\")).\n",
    "               drop(\"down\").\n",
    "               rename({\"old_game_id\" : \"gameId\",\n",
    "                         \"play_id\" : \"playId\"}).\n",
    "               with_columns(pl.col(\"position_ID\").list.lengths().alias(\"Length\")).\n",
    "               filter(pl.col(\"Length\") == 11).\n",
    "               drop(\"Length\").\n",
    "               with_columns(pl.col(\"gameId\").cast(pl.Int32)).\n",
    "               with_columns(pl.col(\"playId\").cast(pl.Int32)).\n",
    "               with_columns(pl.col(\"yards_gained\").cast(pl.Int32)).\n",
    "               join(season_index, \n",
    "                    on = \"season\",\n",
    "                    how = \"left\").\n",
    "               drop(\"season\"))"
   ]
  },
  {
   "cell_type": "code",
   "execution_count": 15,
   "metadata": {},
   "outputs": [],
   "source": [
    "new_data = (spec_data.\n",
    "            select(\"gameId\", \"playId\", \"OffDef_ID\").\n",
    "            unique().\n",
    "            group_by(\"gameId\", \"playId\").\n",
    "            count().\n",
    "            filter(pl.col(\"count\") == 2).\n",
    "            drop(\"count\").\n",
    "            join(spec_data,\n",
    "                 on = [\"gameId\", \"playId\"],\n",
    "                 how = \"left\"))"
   ]
  },
  {
   "cell_type": "code",
   "execution_count": 16,
   "metadata": {},
   "outputs": [
    {
     "data": {
      "text/html": [
       "<div><style>\n",
       ".dataframe > thead > tr > th,\n",
       ".dataframe > tbody > tr > td {\n",
       "  text-align: right;\n",
       "  white-space: pre-wrap;\n",
       "}\n",
       "</style>\n",
       "<small>shape: (125, 2)</small><table border=\"1\" class=\"dataframe\"><thead><tr><th>yards_gained</th><th>count</th></tr><tr><td>i32</td><td>u32</td></tr></thead><tbody><tr><td>-30</td><td>2</td></tr><tr><td>99</td><td>2</td></tr><tr><td>93</td><td>2</td></tr><tr><td>-26</td><td>2</td></tr><tr><td>86</td><td>2</td></tr><tr><td>-23</td><td>4</td></tr><tr><td>89</td><td>4</td></tr><tr><td>98</td><td>4</td></tr><tr><td>92</td><td>4</td></tr><tr><td>85</td><td>4</td></tr><tr><td>94</td><td>4</td></tr><tr><td>87</td><td>4</td></tr><tr><td>&hellip;</td><td>&hellip;</td></tr><tr><td>10</td><td>9458</td></tr><tr><td>11</td><td>10402</td></tr><tr><td>9</td><td>14888</td></tr><tr><td>8</td><td>14936</td></tr><tr><td>7</td><td>17384</td></tr><tr><td>6</td><td>20582</td></tr><tr><td>1</td><td>23808</td></tr><tr><td>5</td><td>24202</td></tr><tr><td>4</td><td>26066</td></tr><tr><td>3</td><td>27218</td></tr><tr><td>2</td><td>28310</td></tr><tr><td>0</td><td>100380</td></tr></tbody></table></div>"
      ],
      "text/plain": [
       "shape: (125, 2)\n",
       "┌──────────────┬────────┐\n",
       "│ yards_gained ┆ count  │\n",
       "│ ---          ┆ ---    │\n",
       "│ i32          ┆ u32    │\n",
       "╞══════════════╪════════╡\n",
       "│ -30          ┆ 2      │\n",
       "│ 99           ┆ 2      │\n",
       "│ 93           ┆ 2      │\n",
       "│ -26          ┆ 2      │\n",
       "│ …            ┆ …      │\n",
       "│ 4            ┆ 26066  │\n",
       "│ 3            ┆ 27218  │\n",
       "│ 2            ┆ 28310  │\n",
       "│ 0            ┆ 100380 │\n",
       "└──────────────┴────────┘"
      ]
     },
     "execution_count": 16,
     "metadata": {},
     "output_type": "execute_result"
    }
   ],
   "source": [
    "(new_data.\n",
    " select(\"yards_gained\").\n",
    " group_by(\"yards_gained\").\n",
    " count().\n",
    " sort(\"count\"))"
   ]
  },
  {
   "cell_type": "code",
   "execution_count": 17,
   "metadata": {},
   "outputs": [],
   "source": [
    "from sklearn.model_selection import train_test_split\n",
    "\n",
    "train_test_df = (new_data.\n",
    "                 select(\"season_ID\", \"gameId\", \"playId\").\n",
    "                 unique()).to_pandas()\n",
    "\n",
    "train, test = train_test_split(train_test_df, test_size= 0.3, stratify = train_test_df[\"season_ID\"].to_numpy())"
   ]
  },
  {
   "cell_type": "code",
   "execution_count": 18,
   "metadata": {},
   "outputs": [],
   "source": [
    "train_data = (pl.from_pandas(train).\n",
    "              join(new_data,\n",
    "                   on = [\"season_ID\", \"gameId\", \"playId\"],\n",
    "                   how = \"left\"))\n",
    "\n",
    "test_data = (pl.from_pandas(test).\n",
    "             join(new_data,\n",
    "                  on = [\"season_ID\", \"gameId\", \"playId\"],\n",
    "                  how = \"left\"))"
   ]
  },
  {
   "cell_type": "code",
   "execution_count": 32,
   "metadata": {},
   "outputs": [
    {
     "data": {
      "text/html": [
       "<div><style>\n",
       ".dataframe > thead > tr > th,\n",
       ".dataframe > tbody > tr > td {\n",
       "  text-align: right;\n",
       "  white-space: pre-wrap;\n",
       "}\n",
       "</style>\n",
       "<small>shape: (2, 2)</small><table border=\"1\" class=\"dataframe\"><thead><tr><th>literal</th><th>count</th></tr><tr><td>i32</td><td>u32</td></tr></thead><tbody><tr><td>1</td><td>198658</td></tr><tr><td>0</td><td>94656</td></tr></tbody></table></div>"
      ],
      "text/plain": [
       "shape: (2, 2)\n",
       "┌─────────┬────────┐\n",
       "│ literal ┆ count  │\n",
       "│ ---     ┆ ---    │\n",
       "│ i32     ┆ u32    │\n",
       "╞═════════╪════════╡\n",
       "│ 1       ┆ 198658 │\n",
       "│ 0       ┆ 94656  │\n",
       "└─────────┴────────┘"
      ]
     },
     "execution_count": 32,
     "metadata": {},
     "output_type": "execute_result"
    }
   ],
   "source": [
    "train_data.select(\"yards_gained\").group_by(\"yards_gained\").count().with_columns(pl.when(pl.col(\"yards_gained\") > 0).then(pl.lit(1)).otherwise(pl.lit(0))).select(\"literal\", \"count\").group_by(\"literal\").sum()"
   ]
  },
  {
   "cell_type": "code",
   "execution_count": 39,
   "metadata": {},
   "outputs": [],
   "source": [
    "pos_val = 0\n",
    "scrim_val = 99\n",
    "start_val = 1032"
   ]
  },
  {
   "cell_type": "code",
   "execution_count": 40,
   "metadata": {},
   "outputs": [
    {
     "data": {
      "text/html": [
       "<div><style>\n",
       ".dataframe > thead > tr > th,\n",
       ".dataframe > tbody > tr > td {\n",
       "  text-align: right;\n",
       "  white-space: pre-wrap;\n",
       "}\n",
       "</style>\n",
       "<small>shape: (0, 1)</small><table border=\"1\" class=\"dataframe\"><thead><tr><th>position_ID</th></tr><tr><td>i64</td></tr></thead><tbody></tbody></table></div>"
      ],
      "text/plain": [
       "shape: (0, 1)\n",
       "┌─────────────┐\n",
       "│ position_ID │\n",
       "│ ---         │\n",
       "│ i64         │\n",
       "╞═════════════╡\n",
       "└─────────────┘"
      ]
     },
     "execution_count": 40,
     "metadata": {},
     "output_type": "execute_result"
    }
   ],
   "source": [
    "train_data.select(\"position_ID\").explode(\"position_ID\").unique().filter(pl.col(\"position_ID\").is_null())"
   ]
  },
  {
   "cell_type": "code",
   "execution_count": 41,
   "metadata": {},
   "outputs": [
    {
     "data": {
      "text/html": [
       "<div><style>\n",
       ".dataframe > thead > tr > th,\n",
       ".dataframe > tbody > tr > td {\n",
       "  text-align: right;\n",
       "  white-space: pre-wrap;\n",
       "}\n",
       "</style>\n",
       "<small>shape: (0, 1)</small><table border=\"1\" class=\"dataframe\"><thead><tr><th>position_ID</th></tr><tr><td>i64</td></tr></thead><tbody></tbody></table></div>"
      ],
      "text/plain": [
       "shape: (0, 1)\n",
       "┌─────────────┐\n",
       "│ position_ID │\n",
       "│ ---         │\n",
       "│ i64         │\n",
       "╞═════════════╡\n",
       "└─────────────┘"
      ]
     },
     "execution_count": 41,
     "metadata": {},
     "output_type": "execute_result"
    }
   ],
   "source": [
    "test_data.select(\"position_ID\").explode(\"position_ID\").unique().filter(pl.col(\"position_ID\").is_null())"
   ]
  },
  {
   "cell_type": "code",
   "execution_count": 42,
   "metadata": {},
   "outputs": [],
   "source": [
    "train_seq_dict = {str(row[\"gameId\"]) + \"_\" + str(row[\"playId\"]) + \"_\" + str(row[\"OffDef_ID\"]) : \n",
    "    {\"input_ids\" : [10877 for i in range(len(row[\"position_ID\"]))],\n",
    "     \"player_ids\": row[\"player_ID\"],\n",
    "     \"position_ids\": row[\"position_ID\"],\n",
    "     \"OffDef\" : [row[\"OffDef_ID\"] for i in range(len(row[\"position_ID\"]))],\n",
    "     \"token_type_ids\" : [0 for i in range(len(row[\"position_ID\"]))],\n",
    "     \"pos_ids\" : [pos_val for i in range(len(row[\"position_ID\"]))],\n",
    "     \"team_ID\" : [row[\"team_ID\"] for i in range(len(row[\"position_ID\"]))],\n",
    "     \"start_ids\" : [start_val for i in range(len(row[\"position_ID\"]))],\n",
    "     \"scrim_ids\" : [scrim_val for i in range(len(row[\"position_ID\"]))],\n",
    "     \"attention_mask\" : [1 for i in range(len(row[\"position_ID\"]))],\n",
    "     \"PlayType\" : [row[\"PlayType_ID\"] for i in range(len(row[\"position_ID\"]))],\n",
    "     \"down_ID\" : [row[\"down_ID\"] for i in range(len(row[\"position_ID\"]))],\n",
    "     \"season_ID\" : [row[\"season_ID\"] for i in range(len(row[\"position_ID\"]))],\n",
    "     \"yard_gained\" : float(row[\"yards_gained\"]),\n",
    "     \"Success\" : row[\"Success\"],\n",
    "     \"playId\" : row[\"playId\"],\n",
    "     \"gameId\" : row[\"gameId\"]} for row in train_data.iter_rows(named=True)}\n",
    "\n",
    "test_seq_dict = {str(row[\"gameId\"]) + \"_\" + str(row[\"playId\"]) + \"_\" + str(row[\"OffDef_ID\"]) : \n",
    "    {\"input_ids\" : [10877 for i in range(len(row[\"position_ID\"]))],\n",
    "     \"player_ids\": row[\"player_ID\"],\n",
    "     \"position_ids\": row[\"position_ID\"],\n",
    "     \"OffDef\" : [row[\"OffDef_ID\"] for i in range(len(row[\"position_ID\"]))],\n",
    "     \"token_type_ids\" : [0 for i in range(len(row[\"position_ID\"]))],\n",
    "     \"pos_ids\" : [pos_val for i in range(len(row[\"position_ID\"]))],\n",
    "     \"team_ID\" : [row[\"team_ID\"] for i in range(len(row[\"position_ID\"]))],\n",
    "     \"start_ids\" : [start_val for i in range(len(row[\"position_ID\"]))],\n",
    "     \"scrim_ids\" : [scrim_val for i in range(len(row[\"position_ID\"]))],\n",
    "     \"attention_mask\" : [1 for i in range(len(row[\"position_ID\"]))],\n",
    "     \"PlayType\" : [row[\"PlayType_ID\"] for i in range(len(row[\"position_ID\"]))],\n",
    "     \"down_ID\" : [row[\"down_ID\"] for i in range(len(row[\"position_ID\"]))],\n",
    "     \"season_ID\" : [row[\"season_ID\"] for i in range(len(row[\"position_ID\"]))],\n",
    "     \"yard_gained\" : float(row[\"yards_gained\"]),\n",
    "     \"Success\" : row[\"Success\"],\n",
    "     \"playId\" : row[\"playId\"],\n",
    "     \"gameId\" : row[\"gameId\"]} for row in test_data.iter_rows(named=True)}"
   ]
  },
  {
   "cell_type": "code",
   "execution_count": 43,
   "metadata": {},
   "outputs": [],
   "source": [
    "train_common_keys = [str(row[\"gameId\"]) + \"_\" + str(row[\"playId\"]) for row in train_data.iter_rows(named=True)]\n",
    "train_off_keys = [v + \"_1\" for v in train_common_keys]\n",
    "train_def_keys = [v + \"_0\" for v in train_common_keys]\n",
    "\n",
    "test_common_keys = [str(row[\"gameId\"]) + \"_\" + str(row[\"playId\"]) for row in test_data.iter_rows(named=True)]\n",
    "test_off_keys = [v + \"_1\" for v in test_common_keys]\n",
    "test_def_keys = [v + \"_0\" for v in test_common_keys]\n",
    "\n",
    "train_off_seq = [train_seq_dict[v] for v in train_off_keys]\n",
    "train_def_seq = [train_seq_dict[v] for v in train_def_keys]\n",
    "\n",
    "test_off_seq = [test_seq_dict[v] for v in test_off_keys]\n",
    "test_def_seq = [test_seq_dict[v] for v in test_def_keys]"
   ]
  },
  {
   "cell_type": "code",
   "execution_count": 44,
   "metadata": {},
   "outputs": [],
   "source": [
    "from tqdm import tqdm\n",
    "\n",
    "def compile_seq(list_of_trajs):\n",
    "    merged_dict = {k : [] for k in list_of_trajs[0].keys()}\n",
    "\n",
    "    with tqdm(total=len(list_of_trajs)) as pbar:\n",
    "      for d in list_of_trajs:\n",
    "        for key, value in d.items():\n",
    "          merged_dict[key] += [value]\n",
    "        pbar.update(1)\n",
    "        \n",
    "    merged_dict = {k: np.array(v) for k,v in merged_dict.items()}\n",
    "    return merged_dict"
   ]
  },
  {
   "cell_type": "code",
   "execution_count": 45,
   "metadata": {},
   "outputs": [
    {
     "name": "stderr",
     "output_type": "stream",
     "text": [
      "100%|██████████| 293150/293150 [00:00<00:00, 796405.58it/s]\n",
      "100%|██████████| 293150/293150 [00:00<00:00, 877679.28it/s]\n",
      "100%|██████████| 125636/125636 [00:00<00:00, 725101.04it/s]\n",
      "100%|██████████| 125636/125636 [00:00<00:00, 885428.31it/s]\n"
     ]
    }
   ],
   "source": [
    "train_OFF = compile_seq(train_off_seq)\n",
    "train_DEF = compile_seq(train_def_seq)\n",
    "\n",
    "test_OFF = compile_seq(test_off_seq)\n",
    "test_DEF = compile_seq(test_def_seq)"
   ]
  },
  {
   "cell_type": "code",
   "execution_count": 46,
   "metadata": {},
   "outputs": [],
   "source": [
    "train = {\"off\" : train_OFF,\n",
    "        \"def\" : train_DEF}\n",
    "\n",
    "test = {\"off\" : test_OFF,\n",
    "        \"def\" : test_DEF}"
   ]
  },
  {
   "cell_type": "code",
   "execution_count": 57,
   "metadata": {},
   "outputs": [],
   "source": [
    "import tensorflow as tf\n",
    "\n",
    "train_total = tf.data.Dataset.from_tensor_slices(train)\n",
    "train_labels = tf.data.Dataset.from_tensor_slices(train_OFF[\"yard_gained\"])\n",
    "\n",
    "# Combine A, B, and Y in each element of the dataset.\n",
    "train_dataset = tf.data.Dataset.zip((train_total, train_labels))\n",
    "\n",
    "test_total = tf.data.Dataset.from_tensor_slices(test)\n",
    "test_labels = tf.data.Dataset.from_tensor_slices(test_OFF[\"yard_gained\"])\n",
    "\n",
    "# Combine A, B, and Y in each element of the dataset.\n",
    "test_dataset = tf.data.Dataset.zip((test_total, test_labels))\n",
    "\n",
    "tf.data.Dataset.save(train_dataset, \"data_models/Helenos_categ/train_play_prediction_pois\")\n",
    "tf.data.Dataset.save(test_dataset, \"data_models/Helenos_categ/test_play_prediction_pois\")"
   ]
  },
  {
   "cell_type": "code",
   "execution_count": 119,
   "metadata": {},
   "outputs": [],
   "source": [
    "train_labels = tf.data.Dataset.from_tensor_slices(train_OFF[\"Success\"])\n",
    "train_dataset = tf.data.Dataset.zip((train_total, train_labels))\n",
    "\n",
    "test_labels = tf.data.Dataset.from_tensor_slices(test_OFF[\"Success\"])\n",
    "test_dataset = tf.data.Dataset.zip((test_total, test_labels))\n",
    "\n",
    "tf.data.Dataset.save(train_dataset, \"data_models/Helenos_binary/train_play_prediction_binary\")\n",
    "tf.data.Dataset.save(test_dataset, \"data_models/Helenos_binary/test_play_prediction_binary\")"
   ]
  },
  {
   "cell_type": "code",
   "execution_count": null,
   "metadata": {},
   "outputs": [],
   "source": []
  }
 ],
 "metadata": {
  "kernelspec": {
   "display_name": "nflgpt",
   "language": "python",
   "name": "python3"
  },
  "language_info": {
   "codemirror_mode": {
    "name": "ipython",
    "version": 3
   },
   "file_extension": ".py",
   "mimetype": "text/x-python",
   "name": "python",
   "nbconvert_exporter": "python",
   "pygments_lexer": "ipython3",
   "version": "3.11.4"
  },
  "orig_nbformat": 4
 },
 "nbformat": 4,
 "nbformat_minor": 2
}
