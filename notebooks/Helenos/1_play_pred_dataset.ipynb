{
 "cells": [
  {
   "cell_type": "code",
   "execution_count": 1,
   "metadata": {},
   "outputs": [],
   "source": [
    "import os\n",
    "import pandas as pd\n",
    "import numpy as np\n",
    "import polars as pl\n",
    "import nfl_data_py as nfl\n",
    "\n",
    "env = \"local\""
   ]
  },
  {
   "cell_type": "code",
   "execution_count": 2,
   "metadata": {},
   "outputs": [],
   "source": [
    "if env == \"local\":\n",
    "    os.chdir(\"/Users/samuel/Documents/GitHub/QB-GPT/\")\n",
    "else:\n",
    "    from google.colab import drive\n",
    "    drive.mount('/content/gdrive')\n",
    "    os.chdir(\"/content/gdrive/MyDrive/NFL_Challenge/NFL-GPT/NFL data\")"
   ]
  },
  {
   "cell_type": "code",
   "execution_count": 15,
   "metadata": {},
   "outputs": [
    {
     "name": "stdout",
     "output_type": "stream",
     "text": [
      "2017 done.\n",
      "2018 done.\n",
      "2019 done.\n",
      "2020 done.\n",
      "2021 done.\n",
      "2022 done.\n",
      "2023 done.\n",
      "Downcasting floats.\n"
     ]
    }
   ],
   "source": [
    "years_to_get = [2017, 2018, 2019, 2020, 2021, 2022, 2023]\n",
    "season_data = pl.from_pandas(nfl.import_pbp_data(years_to_get))\n",
    "rosters = pl.from_pandas(nfl.import_seasonal_rosters(years_to_get))"
   ]
  },
  {
   "cell_type": "code",
   "execution_count": 44,
   "metadata": {},
   "outputs": [],
   "source": [
    "plays_index = pl.read_parquet(\"index/plays_index.parquet\")\n",
    "positions_index = pl.read_parquet(\"index/positions_index.parquet\")\n",
    "OL_df = pl.DataFrame({\"position\" : [\"OL\"],\n",
    "                      \"position_ID\" : [28],\n",
    "                      \"Cat\" : [\"Pos\"]})\n",
    "\n",
    "new_positions_index = pl.concat([positions_index, OL_df])"
   ]
  },
  {
   "cell_type": "code",
   "execution_count": 5,
   "metadata": {},
   "outputs": [],
   "source": [
    "team_index = (season_data.\n",
    "              select(\"home_team\").\n",
    "              rename({\"home_team\" : \"team\"}).\n",
    "              unique().\n",
    "              with_columns(pl.when(pl.col(\"team\") == \"OAK\").\n",
    "                           then(pl.lit(\"LV\")).\n",
    "                           otherwise(pl.col(\"team\")).\n",
    "                           alias(\"team\")).\n",
    "              with_columns(pl.arange(0, 32).alias(\"team_ID\")))"
   ]
  },
  {
   "cell_type": "code",
   "execution_count": 6,
   "metadata": {},
   "outputs": [],
   "source": [
    "yards_index = (pl.DataFrame({\"yards_gained\" : range(-99, 100), \n",
    "                            \"yard_ID\" : range(0, 199)}).\n",
    "                with_columns(pl.col(\"yards_gained\").cast(pl.Int32)).\n",
    "                with_columns(pl.col(\"yard_ID\").cast(pl.Int32)))"
   ]
  },
  {
   "cell_type": "code",
   "execution_count": 21,
   "metadata": {},
   "outputs": [],
   "source": [
    "season_index = (pl.DataFrame({\"season\" : [2017, 2018, 2019, 2020, 2021, 2022, 2023], \n",
    "                            \"season_ID\" : [0, 1, 2, 3, 4, 5, 6]}).\n",
    "                with_columns(pl.col(\"season\").cast(pl.Int64)).\n",
    "                with_columns(pl.col(\"season_ID\").cast(pl.Int32)))"
   ]
  },
  {
   "cell_type": "code",
   "execution_count": 22,
   "metadata": {},
   "outputs": [],
   "source": [
    "rosters_index = (rosters.\n",
    "                 select(\"season\", \"team\", \"position\", \"player_name\", \"jersey_number\", \"player_id\").\n",
    "                 unique().\n",
    "                 with_columns(pl.col(\"team\").str.replace(\"OAK\", \"LV\")).\n",
    "                 with_columns(pl.when(pl.col(\"jersey_number\").is_null()).\n",
    "                              then(pl.lit(0.0)).\n",
    "                              otherwise(pl.col(\"jersey_number\")).\n",
    "                              alias(\"jersey_number\")))\n",
    "\n",
    "index_max = rosters_index.shape[0]\n",
    "\n",
    "rosters_index = (rosters_index.\n",
    "                 with_columns(pl.arange(0, index_max).alias(\"player_ID\")))"
   ]
  },
  {
   "cell_type": "code",
   "execution_count": 34,
   "metadata": {},
   "outputs": [
    {
     "data": {
      "text/plain": [
       "21505"
      ]
     },
     "execution_count": 34,
     "metadata": {},
     "output_type": "execute_result"
    }
   ],
   "source": [
    "index_max"
   ]
  },
  {
   "cell_type": "code",
   "execution_count": 138,
   "metadata": {},
   "outputs": [],
   "source": [
    "spec_data = (season_data.\n",
    "             select(\"season\", \"old_game_id\", \"play_id\", \"home_team\", \"away_team\", \"posteam\", \"defteam\", \"down\", \"offense_players\", \"defense_players\", \"play_type\", \"yards_gained\").\n",
    "             filter(pl.col(\"play_type\").is_not_null()).\n",
    "             filter(pl.col(\"play_type\") != \"no_play\").\n",
    "             filter(pl.col(\"offense_players\") != \"\").\n",
    "             with_columns(pl.when(pl.col(\"down\").is_null()).\n",
    "                          then(pl.lit(0.0)).\n",
    "                          otherwise(pl.col(\"down\")).\n",
    "                          alias(\"down\")).\n",
    "             filter(pl.col(\"play_type\").\n",
    "                    is_in([\"run\", \"pass\"])).\n",
    "             with_columns(pl.when(pl.col(\"yards_gained\") > 0).\n",
    "                          then(pl.lit(1.0)).\n",
    "                          otherwise(pl.lit(0.0)).\n",
    "                          alias(\"Success\")).\n",
    "             melt(id_vars = [\"season\", \"old_game_id\", \"play_id\", \"home_team\", \"away_team\", \"posteam\", \"defteam\", \"down\", \"play_type\", \"yards_gained\", \"Success\"], \n",
    "                  value_vars = [\"offense_players\", \"defense_players\"],\n",
    "                  variable_name = \"team\",\n",
    "                  value_name = \"players\").\n",
    "             with_columns(pl.col(\"players\").str.split(\";\")).\n",
    "             explode(\"players\").\n",
    "             rename({\"players\" : \"player_id\"}).\n",
    "             join(rosters.\n",
    "                  select(\"season\", \"player_id\", \"position\").\n",
    "                  with_columns(pl.col(\"season\").cast(pl.Int64)).\n",
    "                  unique(),\n",
    "                  how = \"left\",\n",
    "                  on = [\"season\", \"player_id\"]).\n",
    "             with_columns(pl.col(\"team\").str.replace(\"_players\", \"\")).\n",
    "             rename({\"team\" : \"OffDef\"}).\n",
    "             with_columns(pl.when(pl.col(\"OffDef\") == \"offense\").\n",
    "                          then(pl.col(\"posteam\")).\n",
    "                          otherwise(pl.col(\"defteam\")).\n",
    "                          alias(\"team\")).\n",
    "             drop(\"home_team\", \"away_team\", \"posteam\", \"defteam\").\n",
    "             with_columns(pl.when(pl.col(\"team\") == \"OAK\").\n",
    "                          then(pl.lit(\"LV\")).\n",
    "                          otherwise(pl.col(\"team\")).\n",
    "                          alias(\"team\")).\n",
    "             join(rosters_index.\n",
    "                  select(\"season\", \"team\", \"player_id\", \"player_ID\").\n",
    "                  with_columns(pl.col(\"season\").cast(pl.Int64)),\n",
    "                  on = [\"season\", \"team\", \"player_id\"],\n",
    "                  how = \"left\").\n",
    "             with_columns(pl.col(\"player_ID\").cumcount().over(\"player_ID\").alias(\"count\")).\n",
    "             with_columns(pl.when(pl.col(\"count\") < 25).\n",
    "              then(pl.lit(index_max)).\n",
    "              otherwise(pl.col(\"player_ID\")).\n",
    "              alias(\"player_ID\")).\n",
    "             drop(\"player_id\"))"
   ]
  },
  {
   "cell_type": "code",
   "execution_count": 139,
   "metadata": {},
   "outputs": [],
   "source": [
    "spec_data = (spec_data.\n",
    "               join(new_positions_index.\n",
    "                    drop(\"Cat\"), \n",
    "                    on = \"position\",\n",
    "                    how = \"left\").\n",
    "               drop(\"position\").\n",
    "               group_by(\"season\", \"old_game_id\", \"play_id\", \"team\", \"OffDef\", \"down\", \"play_type\", \"yards_gained\", \"Success\").\n",
    "               agg(pl.col(\"position_ID\"),\n",
    "                    pl.col(\"player_ID\")).\n",
    "               with_columns(pl.when(pl.col(\"OffDef\") == \"offense\").\n",
    "                              then(pl.lit(1)).\n",
    "                              otherwise(pl.lit(0)).\n",
    "                              alias(\"OffDef_ID\")).\n",
    "               drop(\"OffDef\").\n",
    "               join(plays_index.\n",
    "                    rename({\"PlayType\" : \"play_type\"}),\n",
    "                    on = \"play_type\",\n",
    "                    how = \"left\").\n",
    "               drop(\"play_type\").\n",
    "               join(team_index,\n",
    "                    on = \"team\",\n",
    "                    how = \"left\").\n",
    "               drop(\"team\").\n",
    "               with_columns(pl.col(\"down\").cast(pl.Int32).alias(\"down_ID\")).\n",
    "               drop(\"down\").\n",
    "               rename({\"old_game_id\" : \"gameId\",\n",
    "                         \"play_id\" : \"playId\"}).\n",
    "               with_columns(pl.col(\"position_ID\").list.lengths().alias(\"Length\")).\n",
    "               filter(pl.col(\"Length\") == 11).\n",
    "               drop(\"Length\").\n",
    "               with_columns(pl.col(\"gameId\").cast(pl.Int32)).\n",
    "               with_columns(pl.col(\"playId\").cast(pl.Int32)).\n",
    "               with_columns(pl.col(\"yards_gained\").cast(pl.Int32)).\n",
    "               join(season_index, \n",
    "                    on = \"season\",\n",
    "                    how = \"left\").\n",
    "               drop(\"season\"))"
   ]
  },
  {
   "cell_type": "code",
   "execution_count": 140,
   "metadata": {},
   "outputs": [],
   "source": [
    "new_data = (spec_data.\n",
    "            select(\"gameId\", \"playId\", \"OffDef_ID\").\n",
    "            unique().\n",
    "            group_by(\"gameId\", \"playId\").\n",
    "            count().\n",
    "            filter(pl.col(\"count\") == 2).\n",
    "            drop(\"count\").\n",
    "            join(spec_data,\n",
    "                 on = [\"gameId\", \"playId\"],\n",
    "                 how = \"left\"))"
   ]
  },
  {
   "cell_type": "code",
   "execution_count": 141,
   "metadata": {},
   "outputs": [
    {
     "data": {
      "text/html": [
       "<div><style>\n",
       ".dataframe > thead > tr > th,\n",
       ".dataframe > tbody > tr > td {\n",
       "  text-align: right;\n",
       "  white-space: pre-wrap;\n",
       "}\n",
       "</style>\n",
       "<small>shape: (5, 1)</small><table border=\"1\" class=\"dataframe\"><thead><tr><th>down_ID</th></tr><tr><td>i32</td></tr></thead><tbody><tr><td>0</td></tr><tr><td>1</td></tr><tr><td>2</td></tr><tr><td>3</td></tr><tr><td>4</td></tr></tbody></table></div>"
      ],
      "text/plain": [
       "shape: (5, 1)\n",
       "┌─────────┐\n",
       "│ down_ID │\n",
       "│ ---     │\n",
       "│ i32     │\n",
       "╞═════════╡\n",
       "│ 0       │\n",
       "│ 1       │\n",
       "│ 2       │\n",
       "│ 3       │\n",
       "│ 4       │\n",
       "└─────────┘"
      ]
     },
     "execution_count": 141,
     "metadata": {},
     "output_type": "execute_result"
    }
   ],
   "source": [
    "new_data.select(\"down_ID\").unique()"
   ]
  },
  {
   "cell_type": "code",
   "execution_count": 142,
   "metadata": {},
   "outputs": [],
   "source": [
    "from sklearn.model_selection import train_test_split\n",
    "\n",
    "train_test_df = (new_data.\n",
    "                 select(\"season_ID\", \"gameId\", \"playId\").\n",
    "                 unique()).to_pandas()\n",
    "\n",
    "train, test = train_test_split(train_test_df, test_size= 0.3, stratify = train_test_df[\"season_ID\"].to_numpy())"
   ]
  },
  {
   "cell_type": "code",
   "execution_count": 143,
   "metadata": {},
   "outputs": [],
   "source": [
    "train_data = (pl.from_pandas(train).\n",
    "              join(new_data,\n",
    "                   on = [\"season_ID\", \"gameId\", \"playId\"],\n",
    "                   how = \"left\"))\n",
    "\n",
    "test_data = (pl.from_pandas(test).\n",
    "             join(new_data,\n",
    "                  on = [\"season_ID\", \"gameId\", \"playId\"],\n",
    "                  how = \"left\"))"
   ]
  },
  {
   "cell_type": "code",
   "execution_count": 144,
   "metadata": {},
   "outputs": [
    {
     "data": {
      "text/plain": [
       "[2, 4, 2, 12, 2, 12, 4, 2, 4, 2, 2]"
      ]
     },
     "execution_count": 144,
     "metadata": {},
     "output_type": "execute_result"
    }
   ],
   "source": [
    "test_data.select(\"position_ID\").to_series().to_list()[0]"
   ]
  },
  {
   "cell_type": "code",
   "execution_count": 145,
   "metadata": {},
   "outputs": [],
   "source": [
    "pos_val = 0\n",
    "scrim_val = 99\n",
    "start_val = 1032"
   ]
  },
  {
   "cell_type": "code",
   "execution_count": 146,
   "metadata": {},
   "outputs": [
    {
     "data": {
      "text/html": [
       "<div><style>\n",
       ".dataframe > thead > tr > th,\n",
       ".dataframe > tbody > tr > td {\n",
       "  text-align: right;\n",
       "  white-space: pre-wrap;\n",
       "}\n",
       "</style>\n",
       "<small>shape: (1, 11)</small><table border=\"1\" class=\"dataframe\"><thead><tr><th>season_ID</th><th>gameId</th><th>playId</th><th>yards_gained</th><th>Success</th><th>position_ID</th><th>player_ID</th><th>OffDef_ID</th><th>PlayType_ID</th><th>team_ID</th><th>down_ID</th></tr><tr><td>u32</td><td>u32</td><td>u32</td><td>u32</td><td>u32</td><td>u32</td><td>u32</td><td>u32</td><td>u32</td><td>u32</td><td>u32</td></tr></thead><tbody><tr><td>0</td><td>0</td><td>0</td><td>0</td><td>0</td><td>0</td><td>0</td><td>0</td><td>0</td><td>0</td><td>0</td></tr></tbody></table></div>"
      ],
      "text/plain": [
       "shape: (1, 11)\n",
       "┌───────────┬────────┬────────┬──────────────┬───┬───────────┬─────────────┬─────────┬─────────┐\n",
       "│ season_ID ┆ gameId ┆ playId ┆ yards_gained ┆ … ┆ OffDef_ID ┆ PlayType_ID ┆ team_ID ┆ down_ID │\n",
       "│ ---       ┆ ---    ┆ ---    ┆ ---          ┆   ┆ ---       ┆ ---         ┆ ---     ┆ ---     │\n",
       "│ u32       ┆ u32    ┆ u32    ┆ u32          ┆   ┆ u32       ┆ u32         ┆ u32     ┆ u32     │\n",
       "╞═══════════╪════════╪════════╪══════════════╪═══╪═══════════╪═════════════╪═════════╪═════════╡\n",
       "│ 0         ┆ 0      ┆ 0      ┆ 0            ┆ … ┆ 0         ┆ 0           ┆ 0       ┆ 0       │\n",
       "└───────────┴────────┴────────┴──────────────┴───┴───────────┴─────────────┴─────────┴─────────┘"
      ]
     },
     "execution_count": 146,
     "metadata": {},
     "output_type": "execute_result"
    }
   ],
   "source": [
    "train_data.null_count()"
   ]
  },
  {
   "cell_type": "code",
   "execution_count": 147,
   "metadata": {},
   "outputs": [
    {
     "data": {
      "text/plain": [
       "['season_ID',\n",
       " 'gameId',\n",
       " 'playId',\n",
       " 'yards_gained',\n",
       " 'Success',\n",
       " 'position_ID',\n",
       " 'player_ID',\n",
       " 'OffDef_ID',\n",
       " 'PlayType_ID',\n",
       " 'team_ID',\n",
       " 'down_ID']"
      ]
     },
     "execution_count": 147,
     "metadata": {},
     "output_type": "execute_result"
    }
   ],
   "source": [
    "test_data.columns"
   ]
  },
  {
   "cell_type": "code",
   "execution_count": 161,
   "metadata": {},
   "outputs": [],
   "source": [
    "train_seq_dict = {str(row[\"gameId\"]) + \"_\" + str(row[\"playId\"]) + \"_\" + str(row[\"OffDef_ID\"]) : \n",
    "    {\"input_ids\" : [10877 for i in range(len(row[\"position_ID\"]))],\n",
    "     \"player_ids\": row[\"player_ID\"],\n",
    "     \"position_ids\": row[\"position_ID\"],\n",
    "     \"OffDef\" : [row[\"OffDef_ID\"] for i in range(len(row[\"position_ID\"]))],\n",
    "     \"token_type_ids\" : [0 for i in range(len(row[\"position_ID\"]))],\n",
    "     \"pos_ids\" : [pos_val for i in range(len(row[\"position_ID\"]))],\n",
    "     \"team_ID\" : [row[\"team_ID\"] for i in range(len(row[\"position_ID\"]))],\n",
    "     \"start_ids\" : [start_val for i in range(len(row[\"position_ID\"]))],\n",
    "     \"scrim_ids\" : [scrim_val for i in range(len(row[\"position_ID\"]))],\n",
    "     \"attention_mask\" : [1 for i in range(len(row[\"position_ID\"]))],\n",
    "     \"PlayType\" : [row[\"PlayType_ID\"] for i in range(len(row[\"position_ID\"]))],\n",
    "     \"down_ID\" : [row[\"down_ID\"] for i in range(len(row[\"position_ID\"]))],\n",
    "     \"season_ID\" : [row[\"season_ID\"] for i in range(len(row[\"position_ID\"]))],\n",
    "     \"yard_gained\" : float(row[\"yards_gained\"]),\n",
    "     \"Success\" : row[\"Success\"],\n",
    "     \"playId\" : row[\"playId\"],\n",
    "     \"gameId\" : row[\"gameId\"]} for row in train_data.iter_rows(named=True)}\n",
    "\n",
    "test_seq_dict = {str(row[\"gameId\"]) + \"_\" + str(row[\"playId\"]) + \"_\" + str(row[\"OffDef_ID\"]) : \n",
    "    {\"input_ids\" : [10877 for i in range(len(row[\"position_ID\"]))],\n",
    "     \"player_ids\": row[\"player_ID\"],\n",
    "     \"position_ids\": row[\"position_ID\"],\n",
    "     \"OffDef\" : [row[\"OffDef_ID\"] for i in range(len(row[\"position_ID\"]))],\n",
    "     \"token_type_ids\" : [0 for i in range(len(row[\"position_ID\"]))],\n",
    "     \"pos_ids\" : [pos_val for i in range(len(row[\"position_ID\"]))],\n",
    "     \"team_ID\" : [row[\"team_ID\"] for i in range(len(row[\"position_ID\"]))],\n",
    "     \"start_ids\" : [start_val for i in range(len(row[\"position_ID\"]))],\n",
    "     \"scrim_ids\" : [scrim_val for i in range(len(row[\"position_ID\"]))],\n",
    "     \"attention_mask\" : [1 for i in range(len(row[\"position_ID\"]))],\n",
    "     \"PlayType\" : [row[\"PlayType_ID\"] for i in range(len(row[\"position_ID\"]))],\n",
    "     \"down_ID\" : [row[\"down_ID\"] for i in range(len(row[\"position_ID\"]))],\n",
    "     \"season_ID\" : [row[\"season_ID\"] for i in range(len(row[\"position_ID\"]))],\n",
    "     \"yard_gained\" : float(row[\"yards_gained\"]),\n",
    "     \"Success\" : row[\"Success\"],\n",
    "     \"playId\" : row[\"playId\"],\n",
    "     \"gameId\" : row[\"gameId\"]} for row in test_data.iter_rows(named=True)}"
   ]
  },
  {
   "cell_type": "code",
   "execution_count": 162,
   "metadata": {},
   "outputs": [],
   "source": [
    "train_common_keys = [str(row[\"gameId\"]) + \"_\" + str(row[\"playId\"]) for row in train_data.iter_rows(named=True)]\n",
    "train_off_keys = [v + \"_1\" for v in train_common_keys]\n",
    "train_def_keys = [v + \"_0\" for v in train_common_keys]\n",
    "\n",
    "test_common_keys = [str(row[\"gameId\"]) + \"_\" + str(row[\"playId\"]) for row in test_data.iter_rows(named=True)]\n",
    "test_off_keys = [v + \"_1\" for v in test_common_keys]\n",
    "test_def_keys = [v + \"_0\" for v in test_common_keys]\n",
    "\n",
    "train_off_seq = [train_seq_dict[v] for v in train_off_keys]\n",
    "train_def_seq = [train_seq_dict[v] for v in train_def_keys]\n",
    "\n",
    "test_off_seq = [test_seq_dict[v] for v in test_off_keys]\n",
    "test_def_seq = [test_seq_dict[v] for v in test_def_keys]"
   ]
  },
  {
   "cell_type": "code",
   "execution_count": 163,
   "metadata": {},
   "outputs": [],
   "source": [
    "from tqdm import tqdm\n",
    "\n",
    "def compile_seq(list_of_trajs):\n",
    "    merged_dict = {k : [] for k in list_of_trajs[0].keys()}\n",
    "\n",
    "    with tqdm(total=len(list_of_trajs)) as pbar:\n",
    "      for d in list_of_trajs:\n",
    "        for key, value in d.items():\n",
    "          merged_dict[key] += [value]\n",
    "        pbar.update(1)\n",
    "        \n",
    "    merged_dict = {k: np.array(v) for k,v in merged_dict.items()}\n",
    "    return merged_dict"
   ]
  },
  {
   "cell_type": "code",
   "execution_count": 164,
   "metadata": {},
   "outputs": [
    {
     "name": "stderr",
     "output_type": "stream",
     "text": [
      "  0%|          | 0/290864 [00:00<?, ?it/s]"
     ]
    },
    {
     "name": "stderr",
     "output_type": "stream",
     "text": [
      "100%|██████████| 290864/290864 [00:00<00:00, 821083.23it/s]\n",
      "100%|██████████| 290864/290864 [00:00<00:00, 855368.60it/s]\n",
      "100%|██████████| 124656/124656 [00:00<00:00, 638953.17it/s]\n",
      "100%|██████████| 124656/124656 [00:00<00:00, 835255.94it/s]\n"
     ]
    }
   ],
   "source": [
    "train_OFF = compile_seq(train_off_seq)\n",
    "train_DEF = compile_seq(train_def_seq)\n",
    "\n",
    "test_OFF = compile_seq(test_off_seq)\n",
    "test_DEF = compile_seq(test_def_seq)"
   ]
  },
  {
   "cell_type": "code",
   "execution_count": 165,
   "metadata": {},
   "outputs": [],
   "source": [
    "train_OFF = {k : v.astype(float) for k,v in train_OFF.items()}\n",
    "train_DEF = {k : v.astype(float) for k,v in train_DEF.items()}\n",
    "\n",
    "test_OFF = {k : v.astype(float) for k,v in test_OFF.items()}\n",
    "test_DEF = {k : v.astype(float) for k,v in test_DEF.items()}"
   ]
  },
  {
   "cell_type": "code",
   "execution_count": 166,
   "metadata": {},
   "outputs": [],
   "source": [
    "train = {\"off\" : train_OFF,\n",
    "         \"def\" : train_DEF}\n",
    "\n",
    "test = {\"off\" : test_OFF,\n",
    "         \"def\" : test_DEF}"
   ]
  },
  {
   "cell_type": "code",
   "execution_count": 167,
   "metadata": {},
   "outputs": [],
   "source": [
    "import tensorflow as tf\n",
    "\n",
    "train_labels = train_OFF[\"yard_gained\"]\n",
    "train_dataset = tf.data.Dataset.from_tensor_slices((train, train_labels))\n",
    "\n",
    "test_labels = test_OFF[\"yard_gained\"]\n",
    "test_dataset = tf.data.Dataset.from_tensor_slices((test, test_labels))\n",
    "\n",
    "tf.data.Dataset.save(train_dataset, \"data_models/Helenos_categ/train_play_prediction_reg\")\n",
    "tf.data.Dataset.save(test_dataset, \"data_models/Helenos_categ/test_play_prediction_reg\")"
   ]
  },
  {
   "cell_type": "code",
   "execution_count": 168,
   "metadata": {},
   "outputs": [],
   "source": [
    "train_labels = train_OFF[\"Success\"]\n",
    "train_dataset = tf.data.Dataset.from_tensor_slices((train, train_labels))\n",
    "\n",
    "test_labels = test_OFF[\"Success\"]\n",
    "test_dataset = tf.data.Dataset.from_tensor_slices((test, test_labels))\n",
    "\n",
    "tf.data.Dataset.save(train_dataset, \"data_models/Helenos_binary/train_play_prediction_binary\")\n",
    "tf.data.Dataset.save(test_dataset, \"data_models/Helenos_binary/test_play_prediction_binary\")"
   ]
  },
  {
   "cell_type": "code",
   "execution_count": 38,
   "metadata": {},
   "outputs": [
    {
     "data": {
      "text/html": [
       "<div><style>\n",
       ".dataframe > thead > tr > th,\n",
       ".dataframe > tbody > tr > td {\n",
       "  text-align: right;\n",
       "  white-space: pre-wrap;\n",
       "}\n",
       "</style>\n",
       "<small>shape: (199, 2)</small><table border=\"1\" class=\"dataframe\"><thead><tr><th>yards_gained</th><th>yard_ID</th></tr><tr><td>i32</td><td>i32</td></tr></thead><tbody><tr><td>-99</td><td>0</td></tr><tr><td>-98</td><td>1</td></tr><tr><td>-97</td><td>2</td></tr><tr><td>-96</td><td>3</td></tr><tr><td>-95</td><td>4</td></tr><tr><td>-94</td><td>5</td></tr><tr><td>-93</td><td>6</td></tr><tr><td>-92</td><td>7</td></tr><tr><td>-91</td><td>8</td></tr><tr><td>-90</td><td>9</td></tr><tr><td>-89</td><td>10</td></tr><tr><td>-88</td><td>11</td></tr><tr><td>&hellip;</td><td>&hellip;</td></tr><tr><td>88</td><td>187</td></tr><tr><td>89</td><td>188</td></tr><tr><td>90</td><td>189</td></tr><tr><td>91</td><td>190</td></tr><tr><td>92</td><td>191</td></tr><tr><td>93</td><td>192</td></tr><tr><td>94</td><td>193</td></tr><tr><td>95</td><td>194</td></tr><tr><td>96</td><td>195</td></tr><tr><td>97</td><td>196</td></tr><tr><td>98</td><td>197</td></tr><tr><td>99</td><td>198</td></tr></tbody></table></div>"
      ],
      "text/plain": [
       "shape: (199, 2)\n",
       "┌──────────────┬─────────┐\n",
       "│ yards_gained ┆ yard_ID │\n",
       "│ ---          ┆ ---     │\n",
       "│ i32          ┆ i32     │\n",
       "╞══════════════╪═════════╡\n",
       "│ -99          ┆ 0       │\n",
       "│ -98          ┆ 1       │\n",
       "│ -97          ┆ 2       │\n",
       "│ -96          ┆ 3       │\n",
       "│ …            ┆ …       │\n",
       "│ 96           ┆ 195     │\n",
       "│ 97           ┆ 196     │\n",
       "│ 98           ┆ 197     │\n",
       "│ 99           ┆ 198     │\n",
       "└──────────────┴─────────┘"
      ]
     },
     "execution_count": 38,
     "metadata": {},
     "output_type": "execute_result"
    }
   ],
   "source": [
    "yards_index"
   ]
  },
  {
   "cell_type": "code",
   "execution_count": 37,
   "metadata": {},
   "outputs": [
    {
     "data": {
      "text/plain": [
       "Counter({99: 67236,\n",
       "         101: 18886,\n",
       "         102: 18054,\n",
       "         103: 17420,\n",
       "         104: 15910,\n",
       "         100: 15838,\n",
       "         105: 13688,\n",
       "         106: 11574,\n",
       "         107: 9948,\n",
       "         108: 9930,\n",
       "         110: 6820,\n",
       "         109: 6302,\n",
       "         98: 5710,\n",
       "         111: 5418,\n",
       "         112: 4684,\n",
       "         113: 4162,\n",
       "         97: 3884,\n",
       "         114: 3366,\n",
       "         115: 3080,\n",
       "         116: 2616,\n",
       "         96: 2520,\n",
       "         117: 2314,\n",
       "         118: 2044,\n",
       "         119: 1870,\n",
       "         95: 1860,\n",
       "         92: 1654,\n",
       "         120: 1592,\n",
       "         94: 1530,\n",
       "         91: 1500,\n",
       "         93: 1446,\n",
       "         121: 1334,\n",
       "         90: 1186,\n",
       "         122: 1162,\n",
       "         123: 1090,\n",
       "         124: 984,\n",
       "         89: 794,\n",
       "         125: 738,\n",
       "         126: 676,\n",
       "         127: 628,\n",
       "         128: 542,\n",
       "         129: 480,\n",
       "         88: 452,\n",
       "         130: 428,\n",
       "         131: 394,\n",
       "         132: 382,\n",
       "         133: 360,\n",
       "         134: 286,\n",
       "         135: 272,\n",
       "         87: 266,\n",
       "         137: 266,\n",
       "         136: 242,\n",
       "         138: 238,\n",
       "         139: 234,\n",
       "         140: 212,\n",
       "         86: 200,\n",
       "         141: 192,\n",
       "         143: 184,\n",
       "         144: 164,\n",
       "         142: 146,\n",
       "         145: 138,\n",
       "         150: 126,\n",
       "         148: 122,\n",
       "         85: 118,\n",
       "         146: 112,\n",
       "         149: 110,\n",
       "         147: 106,\n",
       "         151: 92,\n",
       "         153: 86,\n",
       "         174: 82,\n",
       "         154: 82,\n",
       "         152: 76,\n",
       "         84: 68,\n",
       "         157: 62,\n",
       "         156: 56,\n",
       "         155: 52,\n",
       "         160: 48,\n",
       "         83: 46,\n",
       "         163: 46,\n",
       "         158: 40,\n",
       "         82: 36,\n",
       "         166: 36,\n",
       "         159: 36,\n",
       "         168: 32,\n",
       "         161: 32,\n",
       "         167: 30,\n",
       "         171: 26,\n",
       "         162: 26,\n",
       "         165: 26,\n",
       "         170: 22,\n",
       "         169: 20,\n",
       "         81: 20,\n",
       "         164: 18,\n",
       "         173: 18,\n",
       "         172: 12,\n",
       "         176: 12,\n",
       "         179: 12,\n",
       "         178: 12,\n",
       "         80: 12,\n",
       "         183: 10,\n",
       "         177: 10,\n",
       "         180: 10,\n",
       "         182: 8,\n",
       "         75: 6,\n",
       "         79: 6,\n",
       "         71: 6,\n",
       "         77: 6,\n",
       "         190: 6,\n",
       "         187: 6,\n",
       "         196: 6,\n",
       "         197: 4,\n",
       "         175: 4,\n",
       "         181: 4,\n",
       "         78: 4,\n",
       "         189: 4,\n",
       "         186: 2,\n",
       "         192: 2,\n",
       "         188: 2,\n",
       "         73: 2,\n",
       "         76: 2,\n",
       "         191: 2,\n",
       "         193: 2,\n",
       "         69: 2,\n",
       "         198: 2})"
      ]
     },
     "execution_count": 37,
     "metadata": {},
     "output_type": "execute_result"
    }
   ],
   "source": [
    "from collections import Counter\n",
    "Counter(train_OFF[\"yard_ID\"])"
   ]
  },
  {
   "cell_type": "code",
   "execution_count": 27,
   "metadata": {},
   "outputs": [
    {
     "data": {
      "text/plain": [
       "0.6760797104559175"
      ]
     },
     "execution_count": 27,
     "metadata": {},
     "output_type": "execute_result"
    }
   ],
   "source": [
    "189040/(90572+189040)"
   ]
  },
  {
   "cell_type": "code",
   "execution_count": null,
   "metadata": {},
   "outputs": [],
   "source": []
  }
 ],
 "metadata": {
  "kernelspec": {
   "display_name": "nflgpt",
   "language": "python",
   "name": "python3"
  },
  "language_info": {
   "codemirror_mode": {
    "name": "ipython",
    "version": 3
   },
   "file_extension": ".py",
   "mimetype": "text/x-python",
   "name": "python",
   "nbconvert_exporter": "python",
   "pygments_lexer": "ipython3",
   "version": "3.11.4"
  },
  "orig_nbformat": 4
 },
 "nbformat": 4,
 "nbformat_minor": 2
}
