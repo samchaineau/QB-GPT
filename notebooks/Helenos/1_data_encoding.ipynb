{
 "cells": [
  {
   "cell_type": "code",
   "execution_count": 40,
   "metadata": {},
   "outputs": [],
   "source": [
    "import os\n",
    "import pandas as pd\n",
    "import tensorflow as tf\n",
    "import tensorflow_probability as tfp\n",
    "import numpy as np\n",
    "import polars as pl\n",
    "\n",
    "env = \"local\""
   ]
  },
  {
   "cell_type": "code",
   "execution_count": 41,
   "metadata": {},
   "outputs": [],
   "source": [
    "if env == \"local\":\n",
    "    os.chdir(\"/Users/samuel/Documents/GitHub/QB-GPT/\")\n",
    "else:\n",
    "    from google.colab import drive\n",
    "    drive.mount('/content/gdrive')\n",
    "    os.chdir(\"/content/gdrive/MyDrive/NFL_Challenge/NFL-GPT/NFL data\")"
   ]
  },
  {
   "cell_type": "code",
   "execution_count": 42,
   "metadata": {},
   "outputs": [
    {
     "data": {
      "text/plain": [
       "['data_models',\n",
       " '.DS_Store',\n",
       " 'app',\n",
       " 'LICENSE',\n",
       " 'models',\n",
       " 'README.md',\n",
       " '.gitignore',\n",
       " '.gitattributes',\n",
       " 'data_preprocessing',\n",
       " 'index',\n",
       " '.git',\n",
       " 'notebooks']"
      ]
     },
     "execution_count": 42,
     "metadata": {},
     "output_type": "execute_result"
    }
   ],
   "source": [
    "os.listdir()"
   ]
  },
  {
   "cell_type": "code",
   "execution_count": 43,
   "metadata": {},
   "outputs": [
    {
     "name": "stdout",
     "output_type": "stream",
     "text": [
      "Train length is :  141673\n",
      "Test length is :  60718\n"
     ]
    }
   ],
   "source": [
    "training_data = tf.data.Dataset.load(\"data_models/Helenos/train_data\")\n",
    "testing_data = tf.data.Dataset.load(\"data_models/Helenos/test_data\")\n",
    "\n",
    "train_length = [i for i,_ in enumerate(training_data)][-1] + 1\n",
    "test_length = [i for i,_ in enumerate(testing_data)][-1] + 1\n",
    "\n",
    "print(\"Train length is : \", str(train_length))\n",
    "print(\"Test length is : \", str(test_length))\n",
    "\n",
    "batch_size = 32\n",
    "\n",
    "training_data = training_data.shuffle(train_length).batch(batch_size)\n",
    "testing_data = testing_data.shuffle(test_length).batch(batch_size)"
   ]
  },
  {
   "cell_type": "code",
   "execution_count": 44,
   "metadata": {},
   "outputs": [
    {
     "name": "stdout",
     "output_type": "stream",
     "text": [
      "WARNING:tensorflow:Detecting that an object or model or tf.train.Checkpoint is being deleted with unrestored values. See the following logs for the specific values in question. To silence these warnings, use `status.expect_partial()`. See https://www.tensorflow.org/api_docs/python/tf/train/Checkpoint#restorefor details about the status object returned by the restore function.\n",
      "WARNING:tensorflow:Value in checkpoint could not be found in the restored object: (root).Logits.kernel\n",
      "WARNING:tensorflow:Value in checkpoint could not be found in the restored object: (root).Logits.bias\n",
      "WARNING:tensorflow:Value in checkpoint could not be found in the restored object: (root).optimizer._iterations\n",
      "WARNING:tensorflow:Value in checkpoint could not be found in the restored object: (root).optimizer._learning_rate\n",
      "WARNING:tensorflow:Value in checkpoint could not be found in the restored object: (root).optimizer._variables.1\n",
      "WARNING:tensorflow:Value in checkpoint could not be found in the restored object: (root).optimizer._variables.2\n",
      "WARNING:tensorflow:Value in checkpoint could not be found in the restored object: (root).optimizer._variables.3\n",
      "WARNING:tensorflow:Value in checkpoint could not be found in the restored object: (root).optimizer._variables.4\n",
      "WARNING:tensorflow:Value in checkpoint could not be found in the restored object: (root).optimizer._variables.5\n",
      "WARNING:tensorflow:Value in checkpoint could not be found in the restored object: (root).optimizer._variables.6\n",
      "WARNING:tensorflow:Value in checkpoint could not be found in the restored object: (root).optimizer._variables.7\n",
      "WARNING:tensorflow:Value in checkpoint could not be found in the restored object: (root).optimizer._variables.8\n",
      "WARNING:tensorflow:Value in checkpoint could not be found in the restored object: (root).optimizer._variables.9\n",
      "WARNING:tensorflow:Value in checkpoint could not be found in the restored object: (root).optimizer._variables.10\n",
      "WARNING:tensorflow:Value in checkpoint could not be found in the restored object: (root).optimizer._variables.11\n",
      "WARNING:tensorflow:Value in checkpoint could not be found in the restored object: (root).optimizer._variables.12\n",
      "WARNING:tensorflow:Value in checkpoint could not be found in the restored object: (root).optimizer._variables.13\n",
      "WARNING:tensorflow:Value in checkpoint could not be found in the restored object: (root).optimizer._variables.14\n",
      "WARNING:tensorflow:Value in checkpoint could not be found in the restored object: (root).optimizer._variables.15\n",
      "WARNING:tensorflow:Value in checkpoint could not be found in the restored object: (root).optimizer._variables.16\n",
      "WARNING:tensorflow:Value in checkpoint could not be found in the restored object: (root).optimizer._variables.17\n",
      "WARNING:tensorflow:Value in checkpoint could not be found in the restored object: (root).optimizer._variables.18\n",
      "WARNING:tensorflow:Value in checkpoint could not be found in the restored object: (root).optimizer._variables.19\n",
      "WARNING:tensorflow:Value in checkpoint could not be found in the restored object: (root).optimizer._variables.20\n",
      "WARNING:tensorflow:Value in checkpoint could not be found in the restored object: (root).optimizer._variables.21\n",
      "WARNING:tensorflow:Value in checkpoint could not be found in the restored object: (root).optimizer._variables.22\n",
      "WARNING:tensorflow:Value in checkpoint could not be found in the restored object: (root).optimizer._variables.23\n",
      "WARNING:tensorflow:Value in checkpoint could not be found in the restored object: (root).optimizer._variables.24\n",
      "WARNING:tensorflow:Value in checkpoint could not be found in the restored object: (root).optimizer._variables.25\n",
      "WARNING:tensorflow:Value in checkpoint could not be found in the restored object: (root).optimizer._variables.26\n",
      "WARNING:tensorflow:Value in checkpoint could not be found in the restored object: (root).optimizer._variables.27\n",
      "WARNING:tensorflow:Value in checkpoint could not be found in the restored object: (root).optimizer._variables.28\n",
      "WARNING:tensorflow:Value in checkpoint could not be found in the restored object: (root).optimizer._variables.29\n",
      "WARNING:tensorflow:Value in checkpoint could not be found in the restored object: (root).optimizer._variables.30\n",
      "WARNING:tensorflow:Value in checkpoint could not be found in the restored object: (root).optimizer._variables.31\n",
      "WARNING:tensorflow:Value in checkpoint could not be found in the restored object: (root).optimizer._variables.32\n",
      "WARNING:tensorflow:Value in checkpoint could not be found in the restored object: (root).optimizer._variables.33\n",
      "WARNING:tensorflow:Value in checkpoint could not be found in the restored object: (root).optimizer._variables.34\n",
      "WARNING:tensorflow:Value in checkpoint could not be found in the restored object: (root).optimizer._variables.35\n",
      "WARNING:tensorflow:Value in checkpoint could not be found in the restored object: (root).optimizer._variables.36\n",
      "WARNING:tensorflow:Value in checkpoint could not be found in the restored object: (root).optimizer._variables.37\n",
      "WARNING:tensorflow:Value in checkpoint could not be found in the restored object: (root).optimizer._variables.38\n",
      "WARNING:tensorflow:Value in checkpoint could not be found in the restored object: (root).optimizer._variables.39\n",
      "WARNING:tensorflow:Value in checkpoint could not be found in the restored object: (root).optimizer._variables.40\n",
      "WARNING:tensorflow:Value in checkpoint could not be found in the restored object: (root).optimizer._variables.41\n",
      "WARNING:tensorflow:Value in checkpoint could not be found in the restored object: (root).optimizer._variables.42\n",
      "WARNING:tensorflow:Value in checkpoint could not be found in the restored object: (root).optimizer._variables.43\n",
      "WARNING:tensorflow:Value in checkpoint could not be found in the restored object: (root).optimizer._variables.44\n"
     ]
    }
   ],
   "source": [
    "from models.modeling.QBGPT.models import QBGPT, LargeQBGPT\n",
    "\n",
    "moves_to_pred = 10876\n",
    "input_size = 10878\n",
    "starts_size = 1033\n",
    "scrimmage_size = 100\n",
    "positions_id = 29\n",
    "\n",
    "temp_ids = 52\n",
    "off_def_size = 2\n",
    "token_type_size = 3\n",
    "play_type_size = 9\n",
    "\n",
    "model_large = LargeQBGPT(input_vocab_size = input_size,\n",
    "                         positional_vocab_size = temp_ids,\n",
    "                         position_vocab_size=positions_id,\n",
    "                         start_vocab_size=starts_size,\n",
    "                         scrimmage_vocab_size=scrimmage_size,\n",
    "                         offdef_vocab_size = off_def_size,\n",
    "                         type_vocab_size = token_type_size,\n",
    "                         playtype_vocab_size = play_type_size,\n",
    "                         embedding_dim = 256,\n",
    "                         hidden_dim = 256,\n",
    "                         to_pred_size = moves_to_pred)\n",
    "\n",
    "model_medium = QBGPT(input_vocab_size = input_size,\n",
    "                    positional_vocab_size = temp_ids,\n",
    "                    position_vocab_size=positions_id,\n",
    "                    start_vocab_size=starts_size,\n",
    "                    scrimmage_vocab_size=scrimmage_size,\n",
    "                    offdef_vocab_size = off_def_size,\n",
    "                    type_vocab_size = token_type_size,\n",
    "                    playtype_vocab_size = play_type_size,\n",
    "                    embedding_dim = 256,\n",
    "                    hidden_dim = 256,\n",
    "                    to_pred_size = moves_to_pred)\n",
    "\n",
    "model_small = QBGPT(input_vocab_size = input_size,\n",
    "                    positional_vocab_size = temp_ids,\n",
    "                    position_vocab_size=positions_id,\n",
    "                    start_vocab_size=starts_size,\n",
    "                    scrimmage_vocab_size=scrimmage_size,\n",
    "                    offdef_vocab_size = off_def_size,\n",
    "                    type_vocab_size = token_type_size,\n",
    "                    playtype_vocab_size = play_type_size,\n",
    "                    embedding_dim = 128,\n",
    "                    hidden_dim = 128,\n",
    "                    to_pred_size = moves_to_pred)\n",
    "\n",
    "model_tiny = QBGPT(input_vocab_size = input_size,\n",
    "                    positional_vocab_size = temp_ids,\n",
    "                    position_vocab_size=positions_id,\n",
    "                    start_vocab_size=starts_size,\n",
    "                    scrimmage_vocab_size=scrimmage_size,\n",
    "                    offdef_vocab_size = off_def_size,\n",
    "                    type_vocab_size = token_type_size,\n",
    "                    playtype_vocab_size = play_type_size,\n",
    "                    embedding_dim = 64,\n",
    "                    hidden_dim = 64,\n",
    "                    to_pred_size = moves_to_pred)"
   ]
  },
  {
   "cell_type": "code",
   "execution_count": 45,
   "metadata": {},
   "outputs": [
    {
     "data": {
      "text/plain": [
       "<tensorflow.python.checkpoint.checkpoint.CheckpointLoadStatus at 0x331103150>"
      ]
     },
     "execution_count": 45,
     "metadata": {},
     "output_type": "execute_result"
    }
   ],
   "source": [
    "model_tiny.load_weights(\"models/modeling/QBGPT/weights/model_tiny/QBGPT\")\n",
    "model_small.load_weights(\"models/modeling/QBGPT/weights/model_small/QBGPT\")\n",
    "model_medium.load_weights(\"models/modeling/QBGPT/weights/model_medium/QBGPT\")\n",
    "model_large.load_weights(\"models/modeling/QBGPT/weights/model_large/QBGPT\")"
   ]
  },
  {
   "cell_type": "code",
   "execution_count": 46,
   "metadata": {},
   "outputs": [
    {
     "name": "stdout",
     "output_type": "stream",
     "text": [
      "WARNING:tensorflow:Detecting that an object or model or tf.train.Checkpoint is being deleted with unrestored values. See the following logs for the specific values in question. To silence these warnings, use `status.expect_partial()`. See https://www.tensorflow.org/api_docs/python/tf/train/Checkpoint#restorefor details about the status object returned by the restore function.\n",
      "WARNING:tensorflow:Value in checkpoint could not be found in the restored object: (root).Logits.kernel\n",
      "WARNING:tensorflow:Value in checkpoint could not be found in the restored object: (root).Logits.bias\n",
      "WARNING:tensorflow:Value in checkpoint could not be found in the restored object: (root).optimizer._iterations\n",
      "WARNING:tensorflow:Value in checkpoint could not be found in the restored object: (root).optimizer._learning_rate\n",
      "WARNING:tensorflow:Value in checkpoint could not be found in the restored object: (root).Encoder.DenseHead.kernel\n",
      "WARNING:tensorflow:Value in checkpoint could not be found in the restored object: (root).Encoder.DenseHead.bias\n",
      "WARNING:tensorflow:Value in checkpoint could not be found in the restored object: (root).optimizer._variables.1\n",
      "WARNING:tensorflow:Value in checkpoint could not be found in the restored object: (root).optimizer._variables.2\n",
      "WARNING:tensorflow:Value in checkpoint could not be found in the restored object: (root).optimizer._variables.3\n",
      "WARNING:tensorflow:Value in checkpoint could not be found in the restored object: (root).optimizer._variables.4\n",
      "WARNING:tensorflow:Value in checkpoint could not be found in the restored object: (root).optimizer._variables.5\n",
      "WARNING:tensorflow:Value in checkpoint could not be found in the restored object: (root).optimizer._variables.6\n",
      "WARNING:tensorflow:Value in checkpoint could not be found in the restored object: (root).optimizer._variables.7\n",
      "WARNING:tensorflow:Value in checkpoint could not be found in the restored object: (root).optimizer._variables.8\n",
      "WARNING:tensorflow:Value in checkpoint could not be found in the restored object: (root).optimizer._variables.9\n",
      "WARNING:tensorflow:Value in checkpoint could not be found in the restored object: (root).optimizer._variables.10\n",
      "WARNING:tensorflow:Value in checkpoint could not be found in the restored object: (root).optimizer._variables.11\n",
      "WARNING:tensorflow:Value in checkpoint could not be found in the restored object: (root).optimizer._variables.12\n",
      "WARNING:tensorflow:Value in checkpoint could not be found in the restored object: (root).optimizer._variables.13\n",
      "WARNING:tensorflow:Value in checkpoint could not be found in the restored object: (root).optimizer._variables.14\n",
      "WARNING:tensorflow:Value in checkpoint could not be found in the restored object: (root).optimizer._variables.15\n",
      "WARNING:tensorflow:Value in checkpoint could not be found in the restored object: (root).optimizer._variables.16\n",
      "WARNING:tensorflow:Value in checkpoint could not be found in the restored object: (root).optimizer._variables.17\n",
      "WARNING:tensorflow:Value in checkpoint could not be found in the restored object: (root).optimizer._variables.18\n",
      "WARNING:tensorflow:Value in checkpoint could not be found in the restored object: (root).optimizer._variables.19\n",
      "WARNING:tensorflow:Value in checkpoint could not be found in the restored object: (root).optimizer._variables.20\n",
      "WARNING:tensorflow:Value in checkpoint could not be found in the restored object: (root).optimizer._variables.21\n",
      "WARNING:tensorflow:Value in checkpoint could not be found in the restored object: (root).optimizer._variables.22\n",
      "WARNING:tensorflow:Value in checkpoint could not be found in the restored object: (root).optimizer._variables.23\n",
      "WARNING:tensorflow:Value in checkpoint could not be found in the restored object: (root).optimizer._variables.24\n",
      "WARNING:tensorflow:Value in checkpoint could not be found in the restored object: (root).optimizer._variables.25\n",
      "WARNING:tensorflow:Value in checkpoint could not be found in the restored object: (root).optimizer._variables.26\n",
      "WARNING:tensorflow:Value in checkpoint could not be found in the restored object: (root).optimizer._variables.27\n",
      "WARNING:tensorflow:Value in checkpoint could not be found in the restored object: (root).optimizer._variables.28\n",
      "WARNING:tensorflow:Value in checkpoint could not be found in the restored object: (root).optimizer._variables.29\n",
      "WARNING:tensorflow:Value in checkpoint could not be found in the restored object: (root).optimizer._variables.30\n",
      "WARNING:tensorflow:Value in checkpoint could not be found in the restored object: (root).optimizer._variables.31\n",
      "WARNING:tensorflow:Value in checkpoint could not be found in the restored object: (root).optimizer._variables.32\n",
      "WARNING:tensorflow:Value in checkpoint could not be found in the restored object: (root).optimizer._variables.33\n",
      "WARNING:tensorflow:Value in checkpoint could not be found in the restored object: (root).optimizer._variables.34\n",
      "WARNING:tensorflow:Value in checkpoint could not be found in the restored object: (root).optimizer._variables.35\n",
      "WARNING:tensorflow:Value in checkpoint could not be found in the restored object: (root).optimizer._variables.36\n",
      "WARNING:tensorflow:Value in checkpoint could not be found in the restored object: (root).optimizer._variables.37\n",
      "WARNING:tensorflow:Value in checkpoint could not be found in the restored object: (root).optimizer._variables.38\n",
      "WARNING:tensorflow:Value in checkpoint could not be found in the restored object: (root).optimizer._variables.39\n",
      "WARNING:tensorflow:Value in checkpoint could not be found in the restored object: (root).optimizer._variables.40\n",
      "WARNING:tensorflow:Value in checkpoint could not be found in the restored object: (root).optimizer._variables.41\n",
      "WARNING:tensorflow:Value in checkpoint could not be found in the restored object: (root).optimizer._variables.42\n",
      "WARNING:tensorflow:Value in checkpoint could not be found in the restored object: (root).optimizer._variables.43\n",
      "WARNING:tensorflow:Value in checkpoint could not be found in the restored object: (root).optimizer._variables.44\n",
      "WARNING:tensorflow:Value in checkpoint could not be found in the restored object: (root).Encoder.Attention1.NormIn.gamma\n",
      "WARNING:tensorflow:Value in checkpoint could not be found in the restored object: (root).Encoder.Attention1.NormIn.beta\n",
      "WARNING:tensorflow:Value in checkpoint could not be found in the restored object: (root).Encoder.Attention1.Query.kernel\n",
      "WARNING:tensorflow:Value in checkpoint could not be found in the restored object: (root).Encoder.Attention1.Key.kernel\n",
      "WARNING:tensorflow:Value in checkpoint could not be found in the restored object: (root).Encoder.Attention1.Value.kernel\n",
      "WARNING:tensorflow:Value in checkpoint could not be found in the restored object: (root).Encoder.Attention1.DenseAtt.kernel\n",
      "WARNING:tensorflow:Value in checkpoint could not be found in the restored object: (root).Encoder.Attention1.DenseOut.kernel\n",
      "WARNING:tensorflow:Value in checkpoint could not be found in the restored object: (root).Encoder.Attention1.DenseOut.bias\n",
      "WARNING:tensorflow:Value in checkpoint could not be found in the restored object: (root).Encoder.Attention1.NormOut.gamma\n",
      "WARNING:tensorflow:Value in checkpoint could not be found in the restored object: (root).Encoder.Attention1.NormOut.beta\n",
      "WARNING:tensorflow:Value in checkpoint could not be found in the restored object: (root).Encoder.Embedding.InputEmbedding.Embedding.embeddings\n",
      "WARNING:tensorflow:Value in checkpoint could not be found in the restored object: (root).Encoder.Embedding.PositionalEmbedding.Embedding.embeddings\n",
      "WARNING:tensorflow:Value in checkpoint could not be found in the restored object: (root).Encoder.Embedding.PositionEmbedding.Embedding.embeddings\n",
      "WARNING:tensorflow:Value in checkpoint could not be found in the restored object: (root).Encoder.Embedding.ScrimEmbedding.Embedding.embeddings\n",
      "WARNING:tensorflow:Value in checkpoint could not be found in the restored object: (root).Encoder.Embedding.StartEmbedding.Embedding.embeddings\n",
      "WARNING:tensorflow:Value in checkpoint could not be found in the restored object: (root).Encoder.Embedding.OffDefEmbedding.Embedding.embeddings\n",
      "WARNING:tensorflow:Value in checkpoint could not be found in the restored object: (root).Encoder.Embedding.TypeEmbedding.Embedding.embeddings\n",
      "WARNING:tensorflow:Value in checkpoint could not be found in the restored object: (root).Encoder.Embedding.PlayTypeEmbedding.Embedding.embeddings\n",
      "WARNING:tensorflow:Detecting that an object or model or tf.train.Checkpoint is being deleted with unrestored values. See the following logs for the specific values in question. To silence these warnings, use `status.expect_partial()`. See https://www.tensorflow.org/api_docs/python/tf/train/Checkpoint#restorefor details about the status object returned by the restore function.\n",
      "WARNING:tensorflow:Value in checkpoint could not be found in the restored object: (root).SpeToken.embeddings\n",
      "WARNING:tensorflow:Value in checkpoint could not be found in the restored object: (root).BaseEncoder.DenseHead.kernel\n",
      "WARNING:tensorflow:Value in checkpoint could not be found in the restored object: (root).BaseEncoder.DenseHead.bias\n",
      "WARNING:tensorflow:Value in checkpoint could not be found in the restored object: (root).CrossAttention.NormIn.gamma\n",
      "WARNING:tensorflow:Value in checkpoint could not be found in the restored object: (root).CrossAttention.NormIn.beta\n",
      "WARNING:tensorflow:Value in checkpoint could not be found in the restored object: (root).CrossAttention.Query.kernel\n",
      "WARNING:tensorflow:Value in checkpoint could not be found in the restored object: (root).CrossAttention.Key.kernel\n",
      "WARNING:tensorflow:Value in checkpoint could not be found in the restored object: (root).CrossAttention.DenseOut.kernel\n",
      "WARNING:tensorflow:Value in checkpoint could not be found in the restored object: (root).CrossAttention.DenseOut.bias\n",
      "WARNING:tensorflow:Value in checkpoint could not be found in the restored object: (root).CrossAttention.NormOut.gamma\n",
      "WARNING:tensorflow:Value in checkpoint could not be found in the restored object: (root).CrossAttention.NormOut.beta\n",
      "WARNING:tensorflow:Value in checkpoint could not be found in the restored object: (root).Attention.NormIn.gamma\n",
      "WARNING:tensorflow:Value in checkpoint could not be found in the restored object: (root).Attention.NormIn.beta\n",
      "WARNING:tensorflow:Value in checkpoint could not be found in the restored object: (root).Attention.Query.kernel\n",
      "WARNING:tensorflow:Value in checkpoint could not be found in the restored object: (root).Attention.Key.kernel\n",
      "WARNING:tensorflow:Value in checkpoint could not be found in the restored object: (root).Attention.DenseOut.kernel\n",
      "WARNING:tensorflow:Value in checkpoint could not be found in the restored object: (root).Attention.DenseOut.bias\n",
      "WARNING:tensorflow:Value in checkpoint could not be found in the restored object: (root).Attention.NormOut.gamma\n",
      "WARNING:tensorflow:Value in checkpoint could not be found in the restored object: (root).Attention.NormOut.beta\n",
      "WARNING:tensorflow:Value in checkpoint could not be found in the restored object: (root).BaseEncoder.Attention1.NormIn.gamma\n",
      "WARNING:tensorflow:Value in checkpoint could not be found in the restored object: (root).BaseEncoder.Attention1.NormIn.beta\n",
      "WARNING:tensorflow:Value in checkpoint could not be found in the restored object: (root).BaseEncoder.Attention1.Query.kernel\n",
      "WARNING:tensorflow:Value in checkpoint could not be found in the restored object: (root).BaseEncoder.Attention1.Key.kernel\n",
      "WARNING:tensorflow:Value in checkpoint could not be found in the restored object: (root).BaseEncoder.Attention1.Value.kernel\n",
      "WARNING:tensorflow:Value in checkpoint could not be found in the restored object: (root).BaseEncoder.Attention1.DenseAtt.kernel\n",
      "WARNING:tensorflow:Value in checkpoint could not be found in the restored object: (root).BaseEncoder.Attention1.DenseOut.kernel\n",
      "WARNING:tensorflow:Value in checkpoint could not be found in the restored object: (root).BaseEncoder.Attention1.DenseOut.bias\n",
      "WARNING:tensorflow:Value in checkpoint could not be found in the restored object: (root).BaseEncoder.Attention1.NormOut.gamma\n",
      "WARNING:tensorflow:Value in checkpoint could not be found in the restored object: (root).BaseEncoder.Attention1.NormOut.beta\n",
      "WARNING:tensorflow:Value in checkpoint could not be found in the restored object: (root).SpeEncoder.TeamEmbedding.Embedding.embeddings\n",
      "WARNING:tensorflow:Value in checkpoint could not be found in the restored object: (root).SpeEncoder.PlayerEmbedding.Embedding.embeddings\n",
      "WARNING:tensorflow:Value in checkpoint could not be found in the restored object: (root).SpeEncoder.SeasonEmbedding.Embedding.embeddings\n",
      "WARNING:tensorflow:Value in checkpoint could not be found in the restored object: (root).SpeEncoder.DownEmbedding.Embedding.embeddings\n",
      "WARNING:tensorflow:Value in checkpoint could not be found in the restored object: (root).BaseEncoder.Embedding.InputEmbedding.Embedding.embeddings\n",
      "WARNING:tensorflow:Value in checkpoint could not be found in the restored object: (root).BaseEncoder.Embedding.PositionalEmbedding.Embedding.embeddings\n",
      "WARNING:tensorflow:Value in checkpoint could not be found in the restored object: (root).BaseEncoder.Embedding.PositionEmbedding.Embedding.embeddings\n",
      "WARNING:tensorflow:Value in checkpoint could not be found in the restored object: (root).BaseEncoder.Embedding.ScrimEmbedding.Embedding.embeddings\n",
      "WARNING:tensorflow:Value in checkpoint could not be found in the restored object: (root).BaseEncoder.Embedding.StartEmbedding.Embedding.embeddings\n",
      "WARNING:tensorflow:Value in checkpoint could not be found in the restored object: (root).BaseEncoder.Embedding.OffDefEmbedding.Embedding.embeddings\n",
      "WARNING:tensorflow:Value in checkpoint could not be found in the restored object: (root).BaseEncoder.Embedding.TypeEmbedding.Embedding.embeddings\n",
      "WARNING:tensorflow:Value in checkpoint could not be found in the restored object: (root).BaseEncoder.Embedding.PlayTypeEmbedding.Embedding.embeddings\n",
      "WARNING:tensorflow:Detecting that an object or model or tf.train.Checkpoint is being deleted with unrestored values. See the following logs for the specific values in question. To silence these warnings, use `status.expect_partial()`. See https://www.tensorflow.org/api_docs/python/tf/train/Checkpoint#restorefor details about the status object returned by the restore function.\n",
      "WARNING:tensorflow:Value in checkpoint could not be found in the restored object: (root).Logits.kernel\n",
      "WARNING:tensorflow:Value in checkpoint could not be found in the restored object: (root).Logits.bias\n",
      "WARNING:tensorflow:Value in checkpoint could not be found in the restored object: (root).optimizer._iterations\n",
      "WARNING:tensorflow:Value in checkpoint could not be found in the restored object: (root).optimizer._learning_rate\n",
      "WARNING:tensorflow:Value in checkpoint could not be found in the restored object: (root).Encoder.DenseHead.kernel\n",
      "WARNING:tensorflow:Value in checkpoint could not be found in the restored object: (root).Encoder.DenseHead.bias\n",
      "WARNING:tensorflow:Value in checkpoint could not be found in the restored object: (root).optimizer._variables.1\n",
      "WARNING:tensorflow:Value in checkpoint could not be found in the restored object: (root).optimizer._variables.2\n",
      "WARNING:tensorflow:Value in checkpoint could not be found in the restored object: (root).optimizer._variables.3\n",
      "WARNING:tensorflow:Value in checkpoint could not be found in the restored object: (root).optimizer._variables.4\n",
      "WARNING:tensorflow:Value in checkpoint could not be found in the restored object: (root).optimizer._variables.5\n",
      "WARNING:tensorflow:Value in checkpoint could not be found in the restored object: (root).optimizer._variables.6\n",
      "WARNING:tensorflow:Value in checkpoint could not be found in the restored object: (root).optimizer._variables.7\n",
      "WARNING:tensorflow:Value in checkpoint could not be found in the restored object: (root).optimizer._variables.8\n",
      "WARNING:tensorflow:Value in checkpoint could not be found in the restored object: (root).optimizer._variables.9\n",
      "WARNING:tensorflow:Value in checkpoint could not be found in the restored object: (root).optimizer._variables.10\n",
      "WARNING:tensorflow:Value in checkpoint could not be found in the restored object: (root).optimizer._variables.11\n",
      "WARNING:tensorflow:Value in checkpoint could not be found in the restored object: (root).optimizer._variables.12\n",
      "WARNING:tensorflow:Value in checkpoint could not be found in the restored object: (root).optimizer._variables.13\n",
      "WARNING:tensorflow:Value in checkpoint could not be found in the restored object: (root).optimizer._variables.14\n",
      "WARNING:tensorflow:Value in checkpoint could not be found in the restored object: (root).optimizer._variables.15\n",
      "WARNING:tensorflow:Value in checkpoint could not be found in the restored object: (root).optimizer._variables.16\n",
      "WARNING:tensorflow:Value in checkpoint could not be found in the restored object: (root).optimizer._variables.17\n",
      "WARNING:tensorflow:Value in checkpoint could not be found in the restored object: (root).optimizer._variables.18\n",
      "WARNING:tensorflow:Value in checkpoint could not be found in the restored object: (root).optimizer._variables.19\n",
      "WARNING:tensorflow:Value in checkpoint could not be found in the restored object: (root).optimizer._variables.20\n",
      "WARNING:tensorflow:Value in checkpoint could not be found in the restored object: (root).optimizer._variables.21\n",
      "WARNING:tensorflow:Value in checkpoint could not be found in the restored object: (root).optimizer._variables.22\n",
      "WARNING:tensorflow:Value in checkpoint could not be found in the restored object: (root).optimizer._variables.23\n",
      "WARNING:tensorflow:Value in checkpoint could not be found in the restored object: (root).optimizer._variables.24\n",
      "WARNING:tensorflow:Value in checkpoint could not be found in the restored object: (root).optimizer._variables.25\n",
      "WARNING:tensorflow:Value in checkpoint could not be found in the restored object: (root).optimizer._variables.26\n",
      "WARNING:tensorflow:Value in checkpoint could not be found in the restored object: (root).optimizer._variables.27\n",
      "WARNING:tensorflow:Value in checkpoint could not be found in the restored object: (root).optimizer._variables.28\n",
      "WARNING:tensorflow:Value in checkpoint could not be found in the restored object: (root).optimizer._variables.29\n",
      "WARNING:tensorflow:Value in checkpoint could not be found in the restored object: (root).optimizer._variables.30\n",
      "WARNING:tensorflow:Value in checkpoint could not be found in the restored object: (root).optimizer._variables.31\n",
      "WARNING:tensorflow:Value in checkpoint could not be found in the restored object: (root).optimizer._variables.32\n",
      "WARNING:tensorflow:Value in checkpoint could not be found in the restored object: (root).optimizer._variables.33\n",
      "WARNING:tensorflow:Value in checkpoint could not be found in the restored object: (root).optimizer._variables.34\n",
      "WARNING:tensorflow:Value in checkpoint could not be found in the restored object: (root).optimizer._variables.35\n",
      "WARNING:tensorflow:Value in checkpoint could not be found in the restored object: (root).optimizer._variables.36\n",
      "WARNING:tensorflow:Value in checkpoint could not be found in the restored object: (root).optimizer._variables.37\n",
      "WARNING:tensorflow:Value in checkpoint could not be found in the restored object: (root).optimizer._variables.38\n",
      "WARNING:tensorflow:Value in checkpoint could not be found in the restored object: (root).optimizer._variables.39\n",
      "WARNING:tensorflow:Value in checkpoint could not be found in the restored object: (root).optimizer._variables.40\n",
      "WARNING:tensorflow:Value in checkpoint could not be found in the restored object: (root).optimizer._variables.41\n",
      "WARNING:tensorflow:Value in checkpoint could not be found in the restored object: (root).optimizer._variables.42\n",
      "WARNING:tensorflow:Value in checkpoint could not be found in the restored object: (root).optimizer._variables.43\n",
      "WARNING:tensorflow:Value in checkpoint could not be found in the restored object: (root).optimizer._variables.44\n",
      "WARNING:tensorflow:Value in checkpoint could not be found in the restored object: (root).Encoder.Attention1.NormIn.gamma\n",
      "WARNING:tensorflow:Value in checkpoint could not be found in the restored object: (root).Encoder.Attention1.NormIn.beta\n",
      "WARNING:tensorflow:Value in checkpoint could not be found in the restored object: (root).Encoder.Attention1.Query.kernel\n",
      "WARNING:tensorflow:Value in checkpoint could not be found in the restored object: (root).Encoder.Attention1.Key.kernel\n",
      "WARNING:tensorflow:Value in checkpoint could not be found in the restored object: (root).Encoder.Attention1.Value.kernel\n",
      "WARNING:tensorflow:Value in checkpoint could not be found in the restored object: (root).Encoder.Attention1.DenseAtt.kernel\n",
      "WARNING:tensorflow:Value in checkpoint could not be found in the restored object: (root).Encoder.Attention1.DenseOut.kernel\n",
      "WARNING:tensorflow:Value in checkpoint could not be found in the restored object: (root).Encoder.Attention1.DenseOut.bias\n",
      "WARNING:tensorflow:Value in checkpoint could not be found in the restored object: (root).Encoder.Attention1.NormOut.gamma\n",
      "WARNING:tensorflow:Value in checkpoint could not be found in the restored object: (root).Encoder.Attention1.NormOut.beta\n",
      "WARNING:tensorflow:Value in checkpoint could not be found in the restored object: (root).Encoder.Embedding.InputEmbedding.Embedding.embeddings\n",
      "WARNING:tensorflow:Value in checkpoint could not be found in the restored object: (root).Encoder.Embedding.PositionalEmbedding.Embedding.embeddings\n",
      "WARNING:tensorflow:Value in checkpoint could not be found in the restored object: (root).Encoder.Embedding.PositionEmbedding.Embedding.embeddings\n",
      "WARNING:tensorflow:Value in checkpoint could not be found in the restored object: (root).Encoder.Embedding.ScrimEmbedding.Embedding.embeddings\n",
      "WARNING:tensorflow:Value in checkpoint could not be found in the restored object: (root).Encoder.Embedding.StartEmbedding.Embedding.embeddings\n",
      "WARNING:tensorflow:Value in checkpoint could not be found in the restored object: (root).Encoder.Embedding.OffDefEmbedding.Embedding.embeddings\n",
      "WARNING:tensorflow:Value in checkpoint could not be found in the restored object: (root).Encoder.Embedding.TypeEmbedding.Embedding.embeddings\n",
      "WARNING:tensorflow:Value in checkpoint could not be found in the restored object: (root).Encoder.Embedding.PlayTypeEmbedding.Embedding.embeddings\n",
      "WARNING:tensorflow:Detecting that an object or model or tf.train.Checkpoint is being deleted with unrestored values. See the following logs for the specific values in question. To silence these warnings, use `status.expect_partial()`. See https://www.tensorflow.org/api_docs/python/tf/train/Checkpoint#restorefor details about the status object returned by the restore function.\n",
      "WARNING:tensorflow:Value in checkpoint could not be found in the restored object: (root).SpeToken.embeddings\n",
      "WARNING:tensorflow:Value in checkpoint could not be found in the restored object: (root).BaseEncoder.DenseHead.kernel\n",
      "WARNING:tensorflow:Value in checkpoint could not be found in the restored object: (root).BaseEncoder.DenseHead.bias\n",
      "WARNING:tensorflow:Value in checkpoint could not be found in the restored object: (root).CrossAttention.NormIn.gamma\n",
      "WARNING:tensorflow:Value in checkpoint could not be found in the restored object: (root).CrossAttention.NormIn.beta\n",
      "WARNING:tensorflow:Value in checkpoint could not be found in the restored object: (root).CrossAttention.Query.kernel\n",
      "WARNING:tensorflow:Value in checkpoint could not be found in the restored object: (root).CrossAttention.Key.kernel\n",
      "WARNING:tensorflow:Value in checkpoint could not be found in the restored object: (root).CrossAttention.DenseOut.kernel\n",
      "WARNING:tensorflow:Value in checkpoint could not be found in the restored object: (root).CrossAttention.DenseOut.bias\n",
      "WARNING:tensorflow:Value in checkpoint could not be found in the restored object: (root).CrossAttention.NormOut.gamma\n",
      "WARNING:tensorflow:Value in checkpoint could not be found in the restored object: (root).CrossAttention.NormOut.beta\n",
      "WARNING:tensorflow:Value in checkpoint could not be found in the restored object: (root).Attention.NormIn.gamma\n",
      "WARNING:tensorflow:Value in checkpoint could not be found in the restored object: (root).Attention.NormIn.beta\n",
      "WARNING:tensorflow:Value in checkpoint could not be found in the restored object: (root).Attention.Query.kernel\n",
      "WARNING:tensorflow:Value in checkpoint could not be found in the restored object: (root).Attention.Key.kernel\n",
      "WARNING:tensorflow:Value in checkpoint could not be found in the restored object: (root).Attention.DenseOut.kernel\n",
      "WARNING:tensorflow:Value in checkpoint could not be found in the restored object: (root).Attention.DenseOut.bias\n",
      "WARNING:tensorflow:Value in checkpoint could not be found in the restored object: (root).Attention.NormOut.gamma\n",
      "WARNING:tensorflow:Value in checkpoint could not be found in the restored object: (root).Attention.NormOut.beta\n",
      "WARNING:tensorflow:Value in checkpoint could not be found in the restored object: (root).BaseEncoder.Attention1.NormIn.gamma\n",
      "WARNING:tensorflow:Value in checkpoint could not be found in the restored object: (root).BaseEncoder.Attention1.NormIn.beta\n",
      "WARNING:tensorflow:Value in checkpoint could not be found in the restored object: (root).BaseEncoder.Attention1.Query.kernel\n",
      "WARNING:tensorflow:Value in checkpoint could not be found in the restored object: (root).BaseEncoder.Attention1.Key.kernel\n",
      "WARNING:tensorflow:Value in checkpoint could not be found in the restored object: (root).BaseEncoder.Attention1.Value.kernel\n",
      "WARNING:tensorflow:Value in checkpoint could not be found in the restored object: (root).BaseEncoder.Attention1.DenseAtt.kernel\n",
      "WARNING:tensorflow:Value in checkpoint could not be found in the restored object: (root).BaseEncoder.Attention1.DenseOut.kernel\n",
      "WARNING:tensorflow:Value in checkpoint could not be found in the restored object: (root).BaseEncoder.Attention1.DenseOut.bias\n",
      "WARNING:tensorflow:Value in checkpoint could not be found in the restored object: (root).BaseEncoder.Attention1.NormOut.gamma\n",
      "WARNING:tensorflow:Value in checkpoint could not be found in the restored object: (root).BaseEncoder.Attention1.NormOut.beta\n",
      "WARNING:tensorflow:Value in checkpoint could not be found in the restored object: (root).SpeEncoder.TeamEmbedding.Embedding.embeddings\n",
      "WARNING:tensorflow:Value in checkpoint could not be found in the restored object: (root).SpeEncoder.PlayerEmbedding.Embedding.embeddings\n",
      "WARNING:tensorflow:Value in checkpoint could not be found in the restored object: (root).SpeEncoder.SeasonEmbedding.Embedding.embeddings\n",
      "WARNING:tensorflow:Value in checkpoint could not be found in the restored object: (root).SpeEncoder.DownEmbedding.Embedding.embeddings\n",
      "WARNING:tensorflow:Value in checkpoint could not be found in the restored object: (root).BaseEncoder.Embedding.InputEmbedding.Embedding.embeddings\n",
      "WARNING:tensorflow:Value in checkpoint could not be found in the restored object: (root).BaseEncoder.Embedding.PositionalEmbedding.Embedding.embeddings\n",
      "WARNING:tensorflow:Value in checkpoint could not be found in the restored object: (root).BaseEncoder.Embedding.PositionEmbedding.Embedding.embeddings\n",
      "WARNING:tensorflow:Value in checkpoint could not be found in the restored object: (root).BaseEncoder.Embedding.ScrimEmbedding.Embedding.embeddings\n",
      "WARNING:tensorflow:Value in checkpoint could not be found in the restored object: (root).BaseEncoder.Embedding.StartEmbedding.Embedding.embeddings\n",
      "WARNING:tensorflow:Value in checkpoint could not be found in the restored object: (root).BaseEncoder.Embedding.OffDefEmbedding.Embedding.embeddings\n",
      "WARNING:tensorflow:Value in checkpoint could not be found in the restored object: (root).BaseEncoder.Embedding.TypeEmbedding.Embedding.embeddings\n",
      "WARNING:tensorflow:Value in checkpoint could not be found in the restored object: (root).BaseEncoder.Embedding.PlayTypeEmbedding.Embedding.embeddings\n"
     ]
    }
   ],
   "source": [
    "from models.modeling.StratFormer.models import StratEncoder\n",
    "\n",
    "tiny_encoder = StratEncoder(num_spec_token= 1,\n",
    "                            hidden_dim=64,\n",
    "                            team_vocab_size=32,\n",
    "                            player_vocab_size=7229,\n",
    "                            season_vocab_size= 7,\n",
    "                            down_vocab_size= 5,\n",
    "                            base_encoder=model_tiny.Encoder)\n",
    "\n",
    "small_encoder = StratEncoder(num_spec_token= 1,\n",
    "                            hidden_dim=128,\n",
    "                            team_vocab_size=32,\n",
    "                            player_vocab_size=7229,\n",
    "                            season_vocab_size= 7,\n",
    "                            down_vocab_size= 5,\n",
    "                            base_encoder=model_small.Encoder)\n",
    "\n",
    "medium_encoder = StratEncoder(num_spec_token= 1,\n",
    "                            hidden_dim=256,\n",
    "                            team_vocab_size=32,\n",
    "                            player_vocab_size=7229,\n",
    "                            season_vocab_size= 7,\n",
    "                            down_vocab_size= 5,\n",
    "                            base_encoder=model_medium.Encoder)\n",
    "\n",
    "large_encoder = StratEncoder(num_spec_token= 1,\n",
    "                            hidden_dim=256,\n",
    "                            team_vocab_size=32,\n",
    "                            player_vocab_size=7229,\n",
    "                            season_vocab_size= 7,\n",
    "                            down_vocab_size= 5,\n",
    "                            base_encoder=model_large.Encoder)"
   ]
  },
  {
   "cell_type": "code",
   "execution_count": 47,
   "metadata": {},
   "outputs": [
    {
     "data": {
      "text/plain": [
       "<tensorflow.python.checkpoint.checkpoint.CheckpointLoadStatus at 0x2c26f9bd0>"
      ]
     },
     "execution_count": 47,
     "metadata": {},
     "output_type": "execute_result"
    }
   ],
   "source": [
    "tiny_encoder.load_weights(\"models/modeling/StratFormer/weights/stratformer_tiny/StratFormer/\")\n",
    "small_encoder.load_weights(\"models/modeling/StratFormer/weights/stratformer_small/StratFormer/\")\n",
    "medium_encoder.load_weights(\"models/modeling/StratFormer/weights/stratformer_medium/StratFormer/\")\n",
    "large_encoder.load_weights(\"models/modeling/StratFormer/weights/stratformer_large/StratFormer/\")"
   ]
  },
  {
   "cell_type": "markdown",
   "metadata": {},
   "source": [
    "## Encoding"
   ]
  },
  {
   "cell_type": "markdown",
   "metadata": {},
   "source": [
    "### Off Def encoding"
   ]
  },
  {
   "cell_type": "code",
   "execution_count": 48,
   "metadata": {},
   "outputs": [],
   "source": [
    "def convert_success(value):\n",
    "    return tf.cast(value !=0, dtype=\"int32\")"
   ]
  },
  {
   "cell_type": "code",
   "execution_count": 51,
   "metadata": {},
   "outputs": [
    {
     "name": "stderr",
     "output_type": "stream",
     "text": [
      "Processing: 100%|███████████████████████████████████████████████| 4428/4428 [10:25<00:00,  7.08it/s]\n"
     ]
    }
   ],
   "source": [
    "from tqdm import tqdm\n",
    "import gc\n",
    "\n",
    "encodings = []\n",
    "\n",
    "for batch in tqdm(training_data, desc=\"Processing\", total=len(training_data), ncols=100):\n",
    "\n",
    "  off_encoding = tiny_encoder(batch[\"off\"])[:,0,:]\n",
    "  def_encoding = tiny_encoder(batch[\"def\"])[:,0,:]\n",
    "  \n",
    "  _ = gc.collect()\n",
    "  encodings.append({\"gameId\" : batch[\"off\"][\"gameId\"],\n",
    "                    \"playId\" : batch[\"off\"][\"playId\"],\n",
    "                    \"Off\" : off_encoding,\n",
    "                    \"Def\" : def_encoding,\n",
    "                    \"playtype\" : batch[\"off\"][\"PlayType\"],\n",
    "                    \"Success\" : convert_success(batch[\"off\"][\"yards_gained\"]),\n",
    "                    \"yards_gained\" : batch[\"off\"][\"yards_gained\"]})"
   ]
  },
  {
   "cell_type": "code",
   "execution_count": 53,
   "metadata": {},
   "outputs": [
    {
     "name": "stderr",
     "output_type": "stream",
     "text": [
      "Processing: 100%|███████████████████████████████████████████████| 1898/1898 [04:25<00:00,  7.16it/s]\n"
     ]
    }
   ],
   "source": [
    "test_encodings = []\n",
    "\n",
    "for batch in tqdm(testing_data, desc=\"Processing\", total=len(testing_data), ncols=100):\n",
    "\n",
    "  off_encoding = tiny_encoder(batch[\"off\"])[:,0,:]\n",
    "  def_encoding = tiny_encoder(batch[\"def\"])[:,0,:]\n",
    "  \n",
    "  _ = gc.collect()\n",
    "  test_encodings.append({\"gameId\" : batch[\"off\"][\"gameId\"],\n",
    "                         \"playId\" : batch[\"off\"][\"playId\"],\n",
    "                         \"Off\" : off_encoding,\n",
    "                         \"Def\" : def_encoding,\n",
    "                         \"playtype\" : batch[\"off\"][\"PlayType\"],\n",
    "                         \"Success\" : convert_success(batch[\"off\"][\"yards_gained\"]),\n",
    "                         \"yards_gained\" : batch[\"off\"][\"yards_gained\"]})"
   ]
  },
  {
   "cell_type": "code",
   "execution_count": 54,
   "metadata": {},
   "outputs": [],
   "source": [
    "def unbatch_dict(d : dict):\n",
    "    conc_vector = tf.concat([d[\"Off\"], d[\"Def\"]], axis = 1).numpy()\n",
    "    sub_vector = np.array(d[\"Off\"]-d[\"Def\"])\n",
    "    \n",
    "    l_of_b = [{\"gameId\" : np.array(d[\"gameId\"])[i],\n",
    "               \"playId\" : np.array(d[\"playId\"])[i],\n",
    "               \"concatenated_vector\" : conc_vector[i],\n",
    "               \"sub_vector\" : sub_vector[i],\n",
    "               \"playtype\" :np.unique(np.array(d[\"playtype\"])[i])[0],\n",
    "               \"Success\" : np.array(d[\"Success\"])[i],\n",
    "               \"yards\" :  np.array(d[\"yards_gained\"])[i]} for i in range(d[\"Success\"].shape[0])]\n",
    "    return l_of_b\n",
    "\n",
    "def append_id(d, i):\n",
    "    d_copy = d.copy()\n",
    "    d_copy['id'] = i\n",
    "    return d_copy"
   ]
  },
  {
   "cell_type": "code",
   "execution_count": 55,
   "metadata": {},
   "outputs": [],
   "source": [
    "from tqdm import tqdm\n",
    "\n",
    "def compile_seq(list_of_trajs):\n",
    "    merged_dict = {k : [] for k in list_of_trajs[0].keys()}\n",
    "\n",
    "    with tqdm(total=len(list_of_trajs)) as pbar:\n",
    "      for d in list_of_trajs:\n",
    "        for key, value in d.items():\n",
    "          merged_dict[key] += [value]\n",
    "        pbar.update(1)\n",
    "        \n",
    "    merged_dict = {k: np.array(v) for k,v in merged_dict.items()}\n",
    "    return merged_dict"
   ]
  },
  {
   "cell_type": "code",
   "execution_count": 56,
   "metadata": {},
   "outputs": [
    {
     "name": "stdout",
     "output_type": "stream",
     "text": [
      "141673\n",
      "60718\n"
     ]
    }
   ],
   "source": [
    "encodings_unb = [unbatch_dict(d) for d in encodings]\n",
    "encodings_unb = [d for l in encodings_unb for d in l]\n",
    "print(len(encodings_unb))\n",
    "\n",
    "test_encodings_unb = [unbatch_dict(d) for d in test_encodings]\n",
    "test_encodings_unb = [d for l in test_encodings_unb for d in l]\n",
    "print(len(test_encodings_unb))"
   ]
  },
  {
   "cell_type": "code",
   "execution_count": 57,
   "metadata": {},
   "outputs": [],
   "source": [
    "encodings_unb = [append_id(encodings_unb[i], i) for i in range(len(encodings_unb))]\n",
    "test_encodings_unb = [append_id(test_encodings_unb[i], i) for i in range(len(test_encodings_unb))]"
   ]
  },
  {
   "cell_type": "code",
   "execution_count": 58,
   "metadata": {},
   "outputs": [
    {
     "name": "stderr",
     "output_type": "stream",
     "text": [
      "100%|██████████| 141673/141673 [00:00<00:00, 1407229.71it/s]\n",
      "100%|██████████| 60718/60718 [00:00<00:00, 1623951.83it/s]\n"
     ]
    }
   ],
   "source": [
    "train_dataset = compile_seq(encodings_unb)\n",
    "test_dataset = compile_seq(test_encodings_unb)"
   ]
  },
  {
   "cell_type": "code",
   "execution_count": 59,
   "metadata": {},
   "outputs": [],
   "source": [
    "train_total = tf.data.Dataset.from_tensor_slices(train_dataset)\n",
    "tf.data.Dataset.save(train_total, \"data_models/Helenos/encoded_train_tiny\")\n",
    "\n",
    "test_total = tf.data.Dataset.from_tensor_slices(test_dataset)\n",
    "tf.data.Dataset.save(test_total, \"data_models/Helenos/encoded_test_tiny\")"
   ]
  },
  {
   "cell_type": "code",
   "execution_count": null,
   "metadata": {},
   "outputs": [],
   "source": []
  }
 ],
 "metadata": {
  "kernelspec": {
   "display_name": "nflgpt",
   "language": "python",
   "name": "python3"
  },
  "language_info": {
   "codemirror_mode": {
    "name": "ipython",
    "version": 3
   },
   "file_extension": ".py",
   "mimetype": "text/x-python",
   "name": "python",
   "nbconvert_exporter": "python",
   "pygments_lexer": "ipython3",
   "version": "3.11.4"
  }
 },
 "nbformat": 4,
 "nbformat_minor": 2
}
