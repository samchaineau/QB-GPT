{
 "cells": [
  {
   "cell_type": "code",
   "execution_count": 1,
   "metadata": {},
   "outputs": [],
   "source": [
    "import os\n",
    "import pandas as pd\n",
    "import numpy as np\n",
    "import polars as pl\n",
    "import nfl_data_py as nfl"
   ]
  },
  {
   "cell_type": "code",
   "execution_count": 3,
   "metadata": {},
   "outputs": [
    {
     "name": "stdout",
     "output_type": "stream",
     "text": [
      "2017 done.\n",
      "2018 done.\n",
      "2019 done.\n",
      "2020 done.\n",
      "2021 done.\n",
      "2022 done.\n",
      "Downcasting floats.\n"
     ]
    }
   ],
   "source": [
    "years_to_get = [2017, 2018, 2019, 2020, 2021, 2022]\n",
    "season_data = pl.from_pandas(nfl.import_pbp_data(years_to_get))\n",
    "rosters = pl.from_pandas(nfl.import_seasonal_rosters(years_to_get))"
   ]
  },
  {
   "cell_type": "code",
   "execution_count": 84,
   "metadata": {},
   "outputs": [
    {
     "data": {
      "text/html": [
       "<div><style>\n",
       ".dataframe > thead > tr > th,\n",
       ".dataframe > tbody > tr > td {\n",
       "  text-align: right;\n",
       "  white-space: pre-wrap;\n",
       "}\n",
       "</style>\n",
       "<small>shape: (8, 2)</small><table border=\"1\" class=\"dataframe\"><thead><tr><th>PlayType</th><th>PlayType_ID</th></tr><tr><td>str</td><td>i64</td></tr></thead><tbody><tr><td>&quot;extra_point&quot;</td><td>0</td></tr><tr><td>&quot;field_goal&quot;</td><td>1</td></tr><tr><td>&quot;kickoff&quot;</td><td>2</td></tr><tr><td>&quot;no_play&quot;</td><td>3</td></tr><tr><td>&quot;pass&quot;</td><td>4</td></tr><tr><td>&quot;punt&quot;</td><td>5</td></tr><tr><td>&quot;qb_spike&quot;</td><td>6</td></tr><tr><td>&quot;run&quot;</td><td>7</td></tr></tbody></table></div>"
      ],
      "text/plain": [
       "shape: (8, 2)\n",
       "┌─────────────┬─────────────┐\n",
       "│ PlayType    ┆ PlayType_ID │\n",
       "│ ---         ┆ ---         │\n",
       "│ str         ┆ i64         │\n",
       "╞═════════════╪═════════════╡\n",
       "│ extra_point ┆ 0           │\n",
       "│ field_goal  ┆ 1           │\n",
       "│ kickoff     ┆ 2           │\n",
       "│ no_play     ┆ 3           │\n",
       "│ pass        ┆ 4           │\n",
       "│ punt        ┆ 5           │\n",
       "│ qb_spike    ┆ 6           │\n",
       "│ run         ┆ 7           │\n",
       "└─────────────┴─────────────┘"
      ]
     },
     "execution_count": 84,
     "metadata": {},
     "output_type": "execute_result"
    }
   ],
   "source": [
    "plays_index = pl.read_parquet(\"plays_index.parquet\")\n",
    "plays_index"
   ]
  },
  {
   "cell_type": "code",
   "execution_count": 73,
   "metadata": {},
   "outputs": [
    {
     "data": {
      "text/html": [
       "<div><style>\n",
       ".dataframe > thead > tr > th,\n",
       ".dataframe > tbody > tr > td {\n",
       "  text-align: right;\n",
       "  white-space: pre-wrap;\n",
       "}\n",
       "</style>\n",
       "<small>shape: (29, 3)</small><table border=\"1\" class=\"dataframe\"><thead><tr><th>position</th><th>position_ID</th><th>Cat</th></tr><tr><td>str</td><td>i64</td><td>str</td></tr></thead><tbody><tr><td>&quot;C&quot;</td><td>13246</td><td>&quot;Pos&quot;</td></tr><tr><td>&quot;CB&quot;</td><td>13247</td><td>&quot;Pos&quot;</td></tr><tr><td>&quot;DB&quot;</td><td>13248</td><td>&quot;Pos&quot;</td></tr><tr><td>&quot;DE&quot;</td><td>13249</td><td>&quot;Pos&quot;</td></tr><tr><td>&quot;DL&quot;</td><td>13250</td><td>&quot;Pos&quot;</td></tr><tr><td>&quot;DT&quot;</td><td>13251</td><td>&quot;Pos&quot;</td></tr><tr><td>&quot;FB&quot;</td><td>13252</td><td>&quot;Pos&quot;</td></tr><tr><td>&quot;FS&quot;</td><td>13253</td><td>&quot;Pos&quot;</td></tr><tr><td>&quot;G&quot;</td><td>13254</td><td>&quot;Pos&quot;</td></tr><tr><td>&quot;HB&quot;</td><td>13255</td><td>&quot;Pos&quot;</td></tr><tr><td>&quot;ILB&quot;</td><td>13256</td><td>&quot;Pos&quot;</td></tr><tr><td>&quot;K&quot;</td><td>13257</td><td>&quot;Pos&quot;</td></tr><tr><td>&hellip;</td><td>&hellip;</td><td>&hellip;</td></tr><tr><td>&quot;OLB&quot;</td><td>13263</td><td>&quot;Pos&quot;</td></tr><tr><td>&quot;OT&quot;</td><td>13264</td><td>&quot;Pos&quot;</td></tr><tr><td>&quot;P&quot;</td><td>13265</td><td>&quot;Pos&quot;</td></tr><tr><td>&quot;QB&quot;</td><td>13266</td><td>&quot;Pos&quot;</td></tr><tr><td>&quot;RB&quot;</td><td>13267</td><td>&quot;Pos&quot;</td></tr><tr><td>&quot;S&quot;</td><td>13268</td><td>&quot;Pos&quot;</td></tr><tr><td>&quot;SAF&quot;</td><td>13269</td><td>&quot;Pos&quot;</td></tr><tr><td>&quot;SS&quot;</td><td>13270</td><td>&quot;Pos&quot;</td></tr><tr><td>&quot;T&quot;</td><td>13271</td><td>&quot;Pos&quot;</td></tr><tr><td>&quot;TE&quot;</td><td>13272</td><td>&quot;Pos&quot;</td></tr><tr><td>&quot;WR&quot;</td><td>13273</td><td>&quot;Pos&quot;</td></tr><tr><td>&quot;OL&quot;</td><td>13275</td><td>&quot;Pos&quot;</td></tr></tbody></table></div>"
      ],
      "text/plain": [
       "shape: (29, 3)\n",
       "┌──────────┬─────────────┬─────┐\n",
       "│ position ┆ position_ID ┆ Cat │\n",
       "│ ---      ┆ ---         ┆ --- │\n",
       "│ str      ┆ i64         ┆ str │\n",
       "╞══════════╪═════════════╪═════╡\n",
       "│ C        ┆ 13246       ┆ Pos │\n",
       "│ CB       ┆ 13247       ┆ Pos │\n",
       "│ DB       ┆ 13248       ┆ Pos │\n",
       "│ DE       ┆ 13249       ┆ Pos │\n",
       "│ …        ┆ …           ┆ …   │\n",
       "│ T        ┆ 13271       ┆ Pos │\n",
       "│ TE       ┆ 13272       ┆ Pos │\n",
       "│ WR       ┆ 13273       ┆ Pos │\n",
       "│ OL       ┆ 13275       ┆ Pos │\n",
       "└──────────┴─────────────┴─────┘"
      ]
     },
     "execution_count": 73,
     "metadata": {},
     "output_type": "execute_result"
    }
   ],
   "source": [
    "positions_index = pl.read_parquet(\"positions_index.parquet\")\n",
    "OL_df = pl.DataFrame({\"position\" : [\"OL\"],\n",
    "                      \"position_ID\" : [13275],\n",
    "                      \"Cat\" : [\"Pos\"]})\n",
    "\n",
    "new_positions_index = pl.concat([positions_index, OL_df])\n",
    "new_positions_index"
   ]
  },
  {
   "cell_type": "code",
   "execution_count": 92,
   "metadata": {},
   "outputs": [],
   "source": [
    "team_index = (season_data.\n",
    "              select(\"home_team\").\n",
    "              rename({\"home_team\" : \"team\"}).\n",
    "              unique().\n",
    "              with_columns(pl.when(pl.col(\"team\") == \"OAK\").\n",
    "                           then(pl.lit(\"LV\")).\n",
    "                           otherwise(pl.col(\"team\")).\n",
    "                           alias(\"team\")).\n",
    "              with_columns(pl.arange(0, 32).alias(\"team_ID\")))"
   ]
  },
  {
   "cell_type": "code",
   "execution_count": 165,
   "metadata": {},
   "outputs": [],
   "source": [
    "yards_index = (pl.DataFrame({\"yards_gained\" : range(-99, 100), \n",
    "                            \"yard_ID\" : range(0, 199)}).\n",
    "                with_columns(pl.col(\"yards_gained\").cast(pl.Int32)).\n",
    "                with_columns(pl.col(\"yard_ID\").cast(pl.Int32)))"
   ]
  },
  {
   "cell_type": "code",
   "execution_count": 166,
   "metadata": {},
   "outputs": [
    {
     "data": {
      "text/html": [
       "<div><style>\n",
       ".dataframe > thead > tr > th,\n",
       ".dataframe > tbody > tr > td {\n",
       "  text-align: right;\n",
       "  white-space: pre-wrap;\n",
       "}\n",
       "</style>\n",
       "<small>shape: (199, 2)</small><table border=\"1\" class=\"dataframe\"><thead><tr><th>yards_gained</th><th>yard_ID</th></tr><tr><td>i32</td><td>i32</td></tr></thead><tbody><tr><td>-99</td><td>0</td></tr><tr><td>-98</td><td>1</td></tr><tr><td>-97</td><td>2</td></tr><tr><td>-96</td><td>3</td></tr><tr><td>-95</td><td>4</td></tr><tr><td>-94</td><td>5</td></tr><tr><td>-93</td><td>6</td></tr><tr><td>-92</td><td>7</td></tr><tr><td>-91</td><td>8</td></tr><tr><td>-90</td><td>9</td></tr><tr><td>-89</td><td>10</td></tr><tr><td>-88</td><td>11</td></tr><tr><td>&hellip;</td><td>&hellip;</td></tr><tr><td>88</td><td>187</td></tr><tr><td>89</td><td>188</td></tr><tr><td>90</td><td>189</td></tr><tr><td>91</td><td>190</td></tr><tr><td>92</td><td>191</td></tr><tr><td>93</td><td>192</td></tr><tr><td>94</td><td>193</td></tr><tr><td>95</td><td>194</td></tr><tr><td>96</td><td>195</td></tr><tr><td>97</td><td>196</td></tr><tr><td>98</td><td>197</td></tr><tr><td>99</td><td>198</td></tr></tbody></table></div>"
      ],
      "text/plain": [
       "shape: (199, 2)\n",
       "┌──────────────┬─────────┐\n",
       "│ yards_gained ┆ yard_ID │\n",
       "│ ---          ┆ ---     │\n",
       "│ i32          ┆ i32     │\n",
       "╞══════════════╪═════════╡\n",
       "│ -99          ┆ 0       │\n",
       "│ -98          ┆ 1       │\n",
       "│ -97          ┆ 2       │\n",
       "│ -96          ┆ 3       │\n",
       "│ …            ┆ …       │\n",
       "│ 96           ┆ 195     │\n",
       "│ 97           ┆ 196     │\n",
       "│ 98           ┆ 197     │\n",
       "│ 99           ┆ 198     │\n",
       "└──────────────┴─────────┘"
      ]
     },
     "execution_count": 166,
     "metadata": {},
     "output_type": "execute_result"
    }
   ],
   "source": [
    "yards_index"
   ]
  },
  {
   "cell_type": "code",
   "execution_count": 167,
   "metadata": {},
   "outputs": [],
   "source": [
    "spec_data = (season_data.\n",
    "             select(\"season\", \"old_game_id\", \"play_id\", \"home_team\", \"away_team\", \"posteam\", \"defteam\", \"down\", \"offense_players\", \"defense_players\", \"play_type\", \"yards_gained\").\n",
    "             filter(pl.col(\"play_type\").is_not_null()).\n",
    "             filter(pl.col(\"play_type\") != \"no_play\").\n",
    "             filter(pl.col(\"offense_players\") != \"\").\n",
    "             with_columns(pl.when(pl.col(\"down\").is_null()).\n",
    "                          then(pl.lit(0.0)).\n",
    "                          otherwise(pl.col(\"down\")).\n",
    "                          alias(\"down\")).\n",
    "             filter(pl.col(\"play_type\").\n",
    "                    is_in([\"run\", \"pass\"])).\n",
    "             with_columns(pl.when(pl.col(\"yards_gained\") > 0).\n",
    "                          then(pl.lit(1.0)).\n",
    "                          otherwise(pl.lit(0.0)).\n",
    "                          alias(\"Success\")).\n",
    "             melt(id_vars = [\"season\", \"old_game_id\", \"play_id\", \"home_team\", \"away_team\", \"posteam\", \"defteam\", \"down\", \"play_type\", \"yards_gained\", \"Success\"], \n",
    "                  value_vars = [\"offense_players\", \"defense_players\"],\n",
    "                  variable_name = \"team\",\n",
    "                  value_name = \"players\").\n",
    "             with_columns(pl.col(\"players\").str.split(\";\")).\n",
    "             explode(\"players\").\n",
    "             rename({\"players\" : \"player_id\"}).\n",
    "             join(rosters.\n",
    "                  select(\"season\", \"player_id\", \"position\").\n",
    "                  with_columns(pl.col(\"season\").cast(pl.Int64)).\n",
    "                  unique(),\n",
    "                  how = \"left\",\n",
    "                  on = [\"season\", \"player_id\"]).\n",
    "             with_columns(pl.col(\"team\").str.replace(\"_players\", \"\")).\n",
    "             drop(\"player_id\").\n",
    "             join(new_positions_index.\n",
    "                  drop(\"Cat\"), \n",
    "                  on = \"position\",\n",
    "                  how = \"left\").\n",
    "             drop(\"position\").\n",
    "             group_by(\"season\", \"old_game_id\", \"play_id\", \"home_team\", \"away_team\", \"posteam\", \"defteam\", \"down\", \"play_type\", \"yards_gained\", \"Success\", \"team\").\n",
    "             agg(pl.col(\"position_ID\")).\n",
    "             rename({\"team\" : \"OffDef\"}).\n",
    "             with_columns(pl.when(pl.col(\"OffDef\") == \"offense\").\n",
    "                          then(pl.col(\"posteam\")).\n",
    "                          otherwise(pl.col(\"defteam\")).\n",
    "                          alias(\"team\")).\n",
    "             drop(\"home_team\", \"away_team\", \"posteam\", \"defteam\").\n",
    "             with_columns(pl.when(pl.col(\"team\") == \"OAK\").\n",
    "                          then(pl.lit(\"LV\")).\n",
    "                          otherwise(pl.col(\"team\")).\n",
    "                          alias(\"team\")).\n",
    "             with_columns(pl.when(pl.col(\"OffDef\") == \"offense\").\n",
    "                          then(pl.lit(1)).\n",
    "                          otherwise(pl.lit(0)).\n",
    "                          alias(\"OffDef_ID\")).\n",
    "             drop(\"OffDef\").\n",
    "             join(plays_index.\n",
    "                  rename({\"PlayType\" : \"play_type\"}),\n",
    "                  on = \"play_type\",\n",
    "                  how = \"left\").\n",
    "             drop(\"play_type\").\n",
    "             join(team_index,\n",
    "                  on = \"team\",\n",
    "                  how = \"left\").\n",
    "             drop(\"team\").\n",
    "             with_columns(pl.col(\"down\").cast(pl.Int32).alias(\"down_ID\")).\n",
    "             drop(\"down\").\n",
    "             rename({\"old_game_id\" : \"gameId\",\n",
    "                     \"play_id\" : \"playId\"}).\n",
    "              with_columns(pl.col(\"position_ID\").list.lengths().alias(\"Length\")).\n",
    "              filter(pl.col(\"Length\") == 11).\n",
    "              drop(\"Length\").\n",
    "              with_columns(pl.col(\"gameId\").cast(pl.Int32)).\n",
    "              with_columns(pl.col(\"playId\").cast(pl.Int32)).\n",
    "              with_columns(pl.col(\"yards_gained\").cast(pl.Int32)).\n",
    "              join(yards_index,\n",
    "                   on = \"yards_gained\",\n",
    "                   how = \"left\").\n",
    "              drop(\"yards_gained\"))"
   ]
  },
  {
   "cell_type": "code",
   "execution_count": 168,
   "metadata": {},
   "outputs": [],
   "source": [
    "new_data = (spec_data.\n",
    "            select(\"gameId\", \"playId\", \"OffDef_ID\").\n",
    "            unique().\n",
    "            group_by(\"gameId\", \"playId\").\n",
    "            count().\n",
    "            filter(pl.col(\"count\") == 2).\n",
    "            drop(\"count\").\n",
    "            join(spec_data,\n",
    "                 on = [\"gameId\", \"playId\"],\n",
    "                 how = \"left\"))"
   ]
  },
  {
   "cell_type": "code",
   "execution_count": 177,
   "metadata": {},
   "outputs": [],
   "source": [
    "from sklearn.model_selection import train_test_split\n",
    "\n",
    "train_test_df = (new_data.\n",
    "                 select(\"season\", \"gameId\", \"playId\").\n",
    "                 unique()).to_pandas()\n",
    "\n",
    "train, test = train_test_split(train_test_df, test_size= 0.3, stratify = train_test_df[\"season\"].to_numpy())"
   ]
  },
  {
   "cell_type": "code",
   "execution_count": 181,
   "metadata": {},
   "outputs": [],
   "source": [
    "train_data = (pl.from_pandas(train).\n",
    "              join(new_data,\n",
    "                   on = [\"season\", \"gameId\", \"playId\"],\n",
    "                   how = \"left\"))\n",
    "\n",
    "test_data = (pl.from_pandas(test).\n",
    "             join(new_data,\n",
    "                  on = [\"season\", \"gameId\", \"playId\"],\n",
    "                  how = \"left\"))"
   ]
  },
  {
   "cell_type": "code",
   "execution_count": 182,
   "metadata": {},
   "outputs": [],
   "source": [
    "train_seq_dict = {str(row[\"gameId\"]) + \"_\" + str(row[\"playId\"]) + \"_\" + str(row[\"OffDef_ID\"]) : \n",
    "    {\"position_ID\": row[\"position_ID\"],\n",
    "     \"OffDef_ID\" : [row[\"OffDef_ID\"] for i in range(len(row[\"position_ID\"]))],\n",
    "     \"token_type_ids\" : [3 for i in range(len(row[\"position_ID\"]))],\n",
    "     \"team_ID\" : [row[\"team_ID\"] for i in range(len(row[\"position_ID\"]))],\n",
    "     \"down_ID\" : [row[\"down_ID\"] for i in range(len(row[\"position_ID\"]))],\n",
    "     \"yard_ID\" : row[\"yard_ID\"],\n",
    "     \"Success\" : row[\"Success\"],\n",
    "     \"playId\" : row[\"playId\"],\n",
    "     \"gameId\" : row[\"gameId\"]} for row in train_data.iter_rows(named=True)}\n",
    "\n",
    "test_seq_dict = {str(row[\"gameId\"]) + \"_\" + str(row[\"playId\"]) + \"_\" + str(row[\"OffDef_ID\"]) : \n",
    "    {\"position_ID\": row[\"position_ID\"],\n",
    "     \"OffDef_ID\" : [row[\"OffDef_ID\"] for i in range(len(row[\"position_ID\"]))],\n",
    "     \"token_type_ids\" : [3 for i in range(len(row[\"position_ID\"]))],\n",
    "     \"team_ID\" : [row[\"team_ID\"] for i in range(len(row[\"position_ID\"]))],\n",
    "     \"down_ID\" : [row[\"down_ID\"] for i in range(len(row[\"position_ID\"]))],\n",
    "     \"yard_ID\" : row[\"yard_ID\"],\n",
    "     \"Success\" : row[\"Success\"],\n",
    "     \"playId\" : row[\"playId\"],\n",
    "     \"gameId\" : row[\"gameId\"]} for row in test_data.iter_rows(named=True)}"
   ]
  },
  {
   "cell_type": "code",
   "execution_count": 183,
   "metadata": {},
   "outputs": [],
   "source": [
    "train_common_keys = [str(row[\"gameId\"]) + \"_\" + str(row[\"playId\"]) for row in train_data.iter_rows(named=True)]\n",
    "train_off_keys = [v + \"_1\" for v in train_common_keys]\n",
    "train_def_keys = [v + \"_0\" for v in train_common_keys]\n",
    "\n",
    "test_common_keys = [str(row[\"gameId\"]) + \"_\" + str(row[\"playId\"]) for row in test_data.iter_rows(named=True)]\n",
    "test_off_keys = [v + \"_1\" for v in test_common_keys]\n",
    "test_def_keys = [v + \"_0\" for v in test_common_keys]\n",
    "\n",
    "train_off_seq = [train_seq_dict[v] for v in train_off_keys]\n",
    "train_def_seq = [train_seq_dict[v] for v in train_def_keys]\n",
    "\n",
    "test_off_seq = [test_seq_dict[v] for v in test_off_keys]\n",
    "test_def_seq = [test_seq_dict[v] for v in test_def_keys]"
   ]
  },
  {
   "cell_type": "code",
   "execution_count": 184,
   "metadata": {},
   "outputs": [],
   "source": [
    "from tqdm import tqdm\n",
    "\n",
    "def compile_seq(list_of_trajs):\n",
    "    merged_dict = {k : [] for k in list_of_trajs[0].keys()}\n",
    "\n",
    "    with tqdm(total=len(list_of_trajs)) as pbar:\n",
    "      for d in list_of_trajs:\n",
    "        for key, value in d.items():\n",
    "          merged_dict[key] += [value]\n",
    "        pbar.update(1)\n",
    "        \n",
    "    merged_dict = {k: np.array(v) for k,v in merged_dict.items()}\n",
    "    return merged_dict"
   ]
  },
  {
   "cell_type": "code",
   "execution_count": 185,
   "metadata": {},
   "outputs": [
    {
     "name": "stderr",
     "output_type": "stream",
     "text": [
      "100%|██████████| 279612/279612 [00:00<00:00, 1037857.32it/s]\n",
      "100%|██████████| 279612/279612 [00:00<00:00, 1354223.34it/s]\n",
      "100%|██████████| 119836/119836 [00:00<00:00, 1070424.68it/s]\n",
      "100%|██████████| 119836/119836 [00:00<00:00, 1355945.38it/s]\n"
     ]
    }
   ],
   "source": [
    "train_OFF = compile_seq(train_off_seq)\n",
    "train_DEF = compile_seq(train_def_seq)\n",
    "\n",
    "test_OFF = compile_seq(test_off_seq)\n",
    "test_DEF = compile_seq(test_def_seq)"
   ]
  },
  {
   "cell_type": "code",
   "execution_count": 187,
   "metadata": {},
   "outputs": [],
   "source": [
    "train = {\"off\" : train_OFF,\n",
    "         \"def\" : train_DEF}\n",
    "\n",
    "test = {\"off\" : test_OFF,\n",
    "         \"def\" : test_DEF}"
   ]
  },
  {
   "cell_type": "code",
   "execution_count": 188,
   "metadata": {},
   "outputs": [],
   "source": [
    "import tensorflow as tf\n",
    "\n",
    "train_labels = train_OFF[\"yard_ID\"]\n",
    "train_dataset = tf.data.Dataset.from_tensor_slices((train, train_labels))\n",
    "\n",
    "test_labels = test_OFF[\"yard_ID\"]\n",
    "test_dataset = tf.data.Dataset.from_tensor_slices((test, test_labels))\n",
    "\n",
    "tf.data.Dataset.save(train_dataset, \"train_play_prediction_categ\")\n",
    "tf.data.Dataset.save(test_dataset, \"test_play_prediction_categ\")"
   ]
  },
  {
   "cell_type": "code",
   "execution_count": 190,
   "metadata": {},
   "outputs": [],
   "source": [
    "train_labels = train_OFF[\"Success\"]\n",
    "train_dataset = tf.data.Dataset.from_tensor_slices((train, train_labels))\n",
    "\n",
    "test_labels = test_OFF[\"Success\"]\n",
    "test_dataset = tf.data.Dataset.from_tensor_slices((test, test_labels))\n",
    "\n",
    "tf.data.Dataset.save(train_dataset, \"train_play_prediction_binary\")\n",
    "tf.data.Dataset.save(test_dataset, \"test_play_prediction_binary\")"
   ]
  },
  {
   "cell_type": "code",
   "execution_count": null,
   "metadata": {},
   "outputs": [],
   "source": []
  }
 ],
 "metadata": {
  "kernelspec": {
   "display_name": "nflgpt",
   "language": "python",
   "name": "python3"
  },
  "language_info": {
   "codemirror_mode": {
    "name": "ipython",
    "version": 3
   },
   "file_extension": ".py",
   "mimetype": "text/x-python",
   "name": "python",
   "nbconvert_exporter": "python",
   "pygments_lexer": "ipython3",
   "version": "3.11.4"
  },
  "orig_nbformat": 4
 },
 "nbformat": 4,
 "nbformat_minor": 2
}
