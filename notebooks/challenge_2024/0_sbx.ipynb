{
 "cells": [
  {
   "cell_type": "code",
   "execution_count": 1,
   "metadata": {},
   "outputs": [],
   "source": [
    "import os \n",
    "import polars as pl\n"
   ]
  },
  {
   "cell_type": "code",
   "execution_count": 2,
   "metadata": {},
   "outputs": [],
   "source": [
    "os.chdir(\"/Users/samuel/Documents/GitHub/QB-GPT/\")"
   ]
  },
  {
   "cell_type": "code",
   "execution_count": 3,
   "metadata": {},
   "outputs": [],
   "source": [
    "data = pl.read_parquet(\"data_preprocessing/0_raw/final_df_2024.parquet\")"
   ]
  },
  {
   "cell_type": "code",
   "execution_count": 23,
   "metadata": {},
   "outputs": [
    {
     "data": {
      "text/html": [
       "<div><style>\n",
       ".dataframe > thead > tr > th,\n",
       ".dataframe > tbody > tr > td {\n",
       "  text-align: right;\n",
       "  white-space: pre-wrap;\n",
       "}\n",
       "</style>\n",
       "<small>shape: (1_042, 1)</small><table border=\"1\" class=\"dataframe\"><thead><tr><th>gameId</th></tr><tr><td>i64</td></tr></thead><tbody><tr><td>2020092704</td></tr><tr><td>2018101408</td></tr><tr><td>2019093000</td></tr><tr><td>2020111200</td></tr><tr><td>2019120200</td></tr><tr><td>2018112200</td></tr><tr><td>2020112904</td></tr><tr><td>2020102512</td></tr><tr><td>2021091912</td></tr><tr><td>2019091512</td></tr><tr><td>2019091200</td></tr><tr><td>2020122704</td></tr><tr><td>&hellip;</td></tr><tr><td>2019120807</td></tr><tr><td>2019122207</td></tr><tr><td>2019092903</td></tr><tr><td>2022110607</td></tr><tr><td>2018111111</td></tr><tr><td>2022092511</td></tr><tr><td>2018111807</td></tr><tr><td>2021102407</td></tr><tr><td>2022100207</td></tr><tr><td>2022102311</td></tr><tr><td>2021010311</td></tr><tr><td>2022091111</td></tr></tbody></table></div>"
      ],
      "text/plain": [
       "shape: (1_042, 1)\n",
       "┌────────────┐\n",
       "│ gameId     │\n",
       "│ ---        │\n",
       "│ i64        │\n",
       "╞════════════╡\n",
       "│ 2020092704 │\n",
       "│ 2018101408 │\n",
       "│ 2019093000 │\n",
       "│ 2020111200 │\n",
       "│ …          │\n",
       "│ 2022100207 │\n",
       "│ 2022102311 │\n",
       "│ 2021010311 │\n",
       "│ 2022091111 │\n",
       "└────────────┘"
      ]
     },
     "execution_count": 23,
     "metadata": {},
     "output_type": "execute_result"
    }
   ],
   "source": [
    "(data.\n",
    " select(\"gameId\").\n",
    " unique())"
   ]
  },
  {
   "cell_type": "code",
   "execution_count": 19,
   "metadata": {},
   "outputs": [
    {
     "data": {
      "text/html": [
       "<div><style>\n",
       ".dataframe > thead > tr > th,\n",
       ".dataframe > tbody > tr > td {\n",
       "  text-align: right;\n",
       "  white-space: pre-wrap;\n",
       "}\n",
       "</style>\n",
       "<small>shape: (1, 1)</small><table border=\"1\" class=\"dataframe\"><thead><tr><th>Number of frames</th></tr><tr><td>i32</td></tr></thead><tbody><tr><td>37768611</td></tr></tbody></table></div>"
      ],
      "text/plain": [
       "shape: (1, 1)\n",
       "┌──────────────────┐\n",
       "│ Number of frames │\n",
       "│ ---              │\n",
       "│ i32              │\n",
       "╞══════════════════╡\n",
       "│ 37768611         │\n",
       "└──────────────────┘"
      ]
     },
     "execution_count": 19,
     "metadata": {},
     "output_type": "execute_result"
    }
   ],
   "source": [
    "(data.\n",
    " select(\"data_source\", \"season\", \"PlayType\", \"Length\").\n",
    " group_by(\"season\", \"PlayType\").\n",
    " agg([pl.col(\"Length\").sum().alias(\"Number of frames\"),\n",
    "     pl.count().alias(\"Number of trajectories\")]).\n",
    " sort(pl.col(\"season\")).\n",
    " select( \"Number of frames\").\n",
    " sum())"
   ]
  },
  {
   "cell_type": "code",
   "execution_count": 12,
   "metadata": {},
   "outputs": [
    {
     "data": {
      "text/html": [
       "<div><style>\n",
       ".dataframe > thead > tr > th,\n",
       ".dataframe > tbody > tr > td {\n",
       "  text-align: right;\n",
       "  white-space: pre-wrap;\n",
       "}\n",
       "</style>\n",
       "<small>shape: (40, 4)</small><table border=\"1\" class=\"dataframe\"><thead><tr><th>data_source</th><th>season</th><th>PlayType</th><th>count</th></tr><tr><td>str</td><td>i64</td><td>str</td><td>u32</td></tr></thead><tbody><tr><td>&quot;data bowl 2022…</td><td>2018</td><td>&quot;punt&quot;</td><td>46780</td></tr><tr><td>&quot;asonty&quot;</td><td>2018</td><td>&quot;kickoff&quot;</td><td>33</td></tr><tr><td>&quot;data bowl 2022…</td><td>2019</td><td>&quot;pass&quot;</td><td>456</td></tr><tr><td>&quot;data bowl 2022…</td><td>2020</td><td>&quot;kickoff&quot;</td><td>59466</td></tr><tr><td>&quot;asonty&quot;</td><td>2019</td><td>&quot;punt&quot;</td><td>64</td></tr><tr><td>&quot;Highlights_NGS…</td><td>2019</td><td>&quot;kickoff&quot;</td><td>9</td></tr><tr><td>&quot;data bowl 2022…</td><td>2018</td><td>&quot;field_goal&quot;</td><td>19756</td></tr><tr><td>&quot;data bowl 2022…</td><td>2018</td><td>&quot;extra_point&quot;</td><td>25960</td></tr><tr><td>&quot;data bowl 2022…</td><td>2018</td><td>&quot;run&quot;</td><td>438</td></tr><tr><td>&quot;asonty&quot;</td><td>2018</td><td>&quot;pass&quot;</td><td>1975</td></tr><tr><td>&quot;data bowl 2022…</td><td>2019</td><td>&quot;kickoff&quot;</td><td>56388</td></tr><tr><td>&quot;data bowl 2022…</td><td>2020</td><td>&quot;pass&quot;</td><td>264</td></tr><tr><td>&hellip;</td><td>&hellip;</td><td>&hellip;</td><td>&hellip;</td></tr><tr><td>&quot;data bowl 2022…</td><td>2018</td><td>&quot;kickoff&quot;</td><td>56639</td></tr><tr><td>&quot;asonty&quot;</td><td>2018</td><td>&quot;punt&quot;</td><td>36</td></tr><tr><td>&quot;data bowl 2022…</td><td>2019</td><td>&quot;punt&quot;</td><td>44155</td></tr><tr><td>&quot;data bowl 2022…</td><td>2020</td><td>&quot;extra_point&quot;</td><td>25982</td></tr><tr><td>&quot;data bowl 2022…</td><td>2020</td><td>&quot;field_goal&quot;</td><td>18832</td></tr><tr><td>&quot;data bowl 2022…</td><td>2020</td><td>&quot;run&quot;</td><td>374</td></tr><tr><td>&quot;data bowl 2023…</td><td>2021</td><td>&quot;run&quot;</td><td>9218</td></tr><tr><td>&quot;data bowl 2024…</td><td>2022</td><td>&quot;run&quot;</td><td>146673</td></tr><tr><td>&quot;asonty&quot;</td><td>2019</td><td>&quot;pass&quot;</td><td>4805</td></tr><tr><td>&quot;Highlights_NGS…</td><td>2019</td><td>&quot;run&quot;</td><td>243</td></tr><tr><td>&quot;data bowl 2022…</td><td>2018</td><td>&quot;pass&quot;</td><td>189</td></tr><tr><td>&quot;asonty&quot;</td><td>2018</td><td>&quot;run&quot;</td><td>910</td></tr></tbody></table></div>"
      ],
      "text/plain": [
       "shape: (40, 4)\n",
       "┌─────────────────────┬────────┬──────────┬───────┐\n",
       "│ data_source         ┆ season ┆ PlayType ┆ count │\n",
       "│ ---                 ┆ ---    ┆ ---      ┆ ---   │\n",
       "│ str                 ┆ i64    ┆ str      ┆ u32   │\n",
       "╞═════════════════════╪════════╪══════════╪═══════╡\n",
       "│ data bowl 2022      ┆ 2018   ┆ punt     ┆ 46780 │\n",
       "│ asonty              ┆ 2018   ┆ kickoff  ┆ 33    │\n",
       "│ data bowl 2022      ┆ 2019   ┆ pass     ┆ 456   │\n",
       "│ data bowl 2022      ┆ 2020   ┆ kickoff  ┆ 59466 │\n",
       "│ …                   ┆ …      ┆ …        ┆ …     │\n",
       "│ asonty              ┆ 2019   ┆ pass     ┆ 4805  │\n",
       "│ Highlights_NGS_2019 ┆ 2019   ┆ run      ┆ 243   │\n",
       "│ data bowl 2022      ┆ 2018   ┆ pass     ┆ 189   │\n",
       "│ asonty              ┆ 2018   ┆ run      ┆ 910   │\n",
       "└─────────────────────┴────────┴──────────┴───────┘"
      ]
     },
     "execution_count": 12,
     "metadata": {},
     "output_type": "execute_result"
    }
   ],
   "source": [
    "(data.\n",
    " select(\"data_source\", \"season\", \"PlayType\", \"Length\").\n",
    " group_by(\"data_source\", \"season\", \"PlayType\").\n",
    " count())"
   ]
  },
  {
   "cell_type": "code",
   "execution_count": 8,
   "metadata": {},
   "outputs": [
    {
     "data": {
      "text/html": [
       "<div><style>\n",
       ".dataframe > thead > tr > th,\n",
       ".dataframe > tbody > tr > td {\n",
       "  text-align: right;\n",
       "  white-space: pre-wrap;\n",
       "}\n",
       "</style>\n",
       "<small>shape: (2, 2)</small><table border=\"1\" class=\"dataframe\"><thead><tr><th>Min</th><th>count</th></tr><tr><td>i64</td><td>u32</td></tr></thead><tbody><tr><td>361</td><td>6</td></tr><tr><td>1</td><td>1170103</td></tr></tbody></table></div>"
      ],
      "text/plain": [
       "shape: (2, 2)\n",
       "┌─────┬─────────┐\n",
       "│ Min ┆ count   │\n",
       "│ --- ┆ ---     │\n",
       "│ i64 ┆ u32     │\n",
       "╞═════╪═════════╡\n",
       "│ 361 ┆ 6       │\n",
       "│ 1   ┆ 1170103 │\n",
       "└─────┴─────────┘"
      ]
     },
     "execution_count": 8,
     "metadata": {},
     "output_type": "execute_result"
    }
   ],
   "source": [
    "(data.\n",
    " select(\"frameId\").\n",
    " with_columns(pl.col(\"frameId\").list.min().alias(\"Min\")).\n",
    " select(\"Min\").\n",
    " group_by(\"Min\").\n",
    " count())"
   ]
  },
  {
   "cell_type": "code",
   "execution_count": 18,
   "metadata": {},
   "outputs": [
    {
     "data": {
      "text/plain": [
       "(1170109, 17)"
      ]
     },
     "execution_count": 18,
     "metadata": {},
     "output_type": "execute_result"
    }
   ],
   "source": [
    "data.shape"
   ]
  },
  {
   "cell_type": "code",
   "execution_count": null,
   "metadata": {},
   "outputs": [],
   "source": []
  }
 ],
 "metadata": {
  "kernelspec": {
   "display_name": "nflgpt",
   "language": "python",
   "name": "python3"
  },
  "language_info": {
   "codemirror_mode": {
    "name": "ipython",
    "version": 3
   },
   "file_extension": ".py",
   "mimetype": "text/x-python",
   "name": "python",
   "nbconvert_exporter": "python",
   "pygments_lexer": "ipython3",
   "version": "3.11.4"
  }
 },
 "nbformat": 4,
 "nbformat_minor": 2
}
